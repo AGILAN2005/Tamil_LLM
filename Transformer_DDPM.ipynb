{
  "cells": [
    {
      "cell_type": "code",
      "execution_count": null,
      "metadata": {
        "colab": {
          "base_uri": "https://localhost:8080/"
        },
        "id": "g3sWv2CrLWk8",
        "outputId": "d89685cb-4e82-45e2-cfc3-d5a98bdf587c"
      },
      "outputs": [
        {
          "name": "stdout",
          "output_type": "stream",
          "text": [
            "Requirement already satisfied: torch in /usr/local/lib/python3.12/dist-packages (2.8.0+cu126)\n",
            "Requirement already satisfied: torchvision in /usr/local/lib/python3.12/dist-packages (0.23.0+cu126)\n",
            "Requirement already satisfied: torchaudio in /usr/local/lib/python3.12/dist-packages (2.8.0+cu126)\n",
            "Collecting pytorch-lightning\n",
            "  Downloading pytorch_lightning-2.5.5-py3-none-any.whl.metadata (20 kB)\n",
            "Requirement already satisfied: diffusers in /usr/local/lib/python3.12/dist-packages (0.35.1)\n",
            "Requirement already satisfied: transformers in /usr/local/lib/python3.12/dist-packages (4.56.1)\n",
            "Requirement already satisfied: accelerate in /usr/local/lib/python3.12/dist-packages (1.10.1)\n",
            "Requirement already satisfied: timm in /usr/local/lib/python3.12/dist-packages (1.0.19)\n",
            "Requirement already satisfied: albumentations in /usr/local/lib/python3.12/dist-packages (2.0.8)\n",
            "Requirement already satisfied: opencv-python in /usr/local/lib/python3.12/dist-packages (4.12.0.88)\n",
            "Requirement already satisfied: scikit-image in /usr/local/lib/python3.12/dist-packages (0.25.2)\n",
            "Collecting torchmetrics\n",
            "  Downloading torchmetrics-1.8.2-py3-none-any.whl.metadata (22 kB)\n",
            "Requirement already satisfied: matplotlib in /usr/local/lib/python3.12/dist-packages (3.10.0)\n",
            "Requirement already satisfied: pandas in /usr/local/lib/python3.12/dist-packages (2.2.2)\n",
            "Requirement already satisfied: pillow in /usr/local/lib/python3.12/dist-packages (11.3.0)\n",
            "Requirement already satisfied: filelock in /usr/local/lib/python3.12/dist-packages (from torch) (3.19.1)\n",
            "Requirement already satisfied: typing-extensions>=4.10.0 in /usr/local/lib/python3.12/dist-packages (from torch) (4.15.0)\n",
            "Requirement already satisfied: setuptools in /usr/local/lib/python3.12/dist-packages (from torch) (75.2.0)\n",
            "Requirement already satisfied: sympy>=1.13.3 in /usr/local/lib/python3.12/dist-packages (from torch) (1.13.3)\n",
            "Requirement already satisfied: networkx in /usr/local/lib/python3.12/dist-packages (from torch) (3.5)\n",
            "Requirement already satisfied: jinja2 in /usr/local/lib/python3.12/dist-packages (from torch) (3.1.6)\n",
            "Requirement already satisfied: fsspec in /usr/local/lib/python3.12/dist-packages (from torch) (2025.3.0)\n",
            "Requirement already satisfied: nvidia-cuda-nvrtc-cu12==12.6.77 in /usr/local/lib/python3.12/dist-packages (from torch) (12.6.77)\n",
            "Requirement already satisfied: nvidia-cuda-runtime-cu12==12.6.77 in /usr/local/lib/python3.12/dist-packages (from torch) (12.6.77)\n",
            "Requirement already satisfied: nvidia-cuda-cupti-cu12==12.6.80 in /usr/local/lib/python3.12/dist-packages (from torch) (12.6.80)\n",
            "Requirement already satisfied: nvidia-cudnn-cu12==9.10.2.21 in /usr/local/lib/python3.12/dist-packages (from torch) (9.10.2.21)\n",
            "Requirement already satisfied: nvidia-cublas-cu12==12.6.4.1 in /usr/local/lib/python3.12/dist-packages (from torch) (12.6.4.1)\n",
            "Requirement already satisfied: nvidia-cufft-cu12==11.3.0.4 in /usr/local/lib/python3.12/dist-packages (from torch) (11.3.0.4)\n",
            "Requirement already satisfied: nvidia-curand-cu12==10.3.7.77 in /usr/local/lib/python3.12/dist-packages (from torch) (10.3.7.77)\n",
            "Requirement already satisfied: nvidia-cusolver-cu12==11.7.1.2 in /usr/local/lib/python3.12/dist-packages (from torch) (11.7.1.2)\n",
            "Requirement already satisfied: nvidia-cusparse-cu12==12.5.4.2 in /usr/local/lib/python3.12/dist-packages (from torch) (12.5.4.2)\n",
            "Requirement already satisfied: nvidia-cusparselt-cu12==0.7.1 in /usr/local/lib/python3.12/dist-packages (from torch) (0.7.1)\n",
            "Requirement already satisfied: nvidia-nccl-cu12==2.27.3 in /usr/local/lib/python3.12/dist-packages (from torch) (2.27.3)\n",
            "Requirement already satisfied: nvidia-nvtx-cu12==12.6.77 in /usr/local/lib/python3.12/dist-packages (from torch) (12.6.77)\n",
            "Requirement already satisfied: nvidia-nvjitlink-cu12==12.6.85 in /usr/local/lib/python3.12/dist-packages (from torch) (12.6.85)\n",
            "Requirement already satisfied: nvidia-cufile-cu12==1.11.1.6 in /usr/local/lib/python3.12/dist-packages (from torch) (1.11.1.6)\n",
            "Requirement already satisfied: triton==3.4.0 in /usr/local/lib/python3.12/dist-packages (from torch) (3.4.0)\n",
            "Requirement already satisfied: numpy in /usr/local/lib/python3.12/dist-packages (from torchvision) (2.0.2)\n",
            "Requirement already satisfied: tqdm>=4.57.0 in /usr/local/lib/python3.12/dist-packages (from pytorch-lightning) (4.67.1)\n",
            "Requirement already satisfied: PyYAML>5.4 in /usr/local/lib/python3.12/dist-packages (from pytorch-lightning) (6.0.2)\n",
            "Requirement already satisfied: packaging>=20.0 in /usr/local/lib/python3.12/dist-packages (from pytorch-lightning) (25.0)\n",
            "Collecting lightning-utilities>=0.10.0 (from pytorch-lightning)\n",
            "  Downloading lightning_utilities-0.15.2-py3-none-any.whl.metadata (5.7 kB)\n",
            "Requirement already satisfied: importlib_metadata in /usr/local/lib/python3.12/dist-packages (from diffusers) (8.7.0)\n",
            "Requirement already satisfied: huggingface-hub>=0.34.0 in /usr/local/lib/python3.12/dist-packages (from diffusers) (0.34.4)\n",
            "Requirement already satisfied: regex!=2019.12.17 in /usr/local/lib/python3.12/dist-packages (from diffusers) (2024.11.6)\n",
            "Requirement already satisfied: requests in /usr/local/lib/python3.12/dist-packages (from diffusers) (2.32.4)\n",
            "Requirement already satisfied: safetensors>=0.3.1 in /usr/local/lib/python3.12/dist-packages (from diffusers) (0.6.2)\n",
            "Requirement already satisfied: tokenizers<=0.23.0,>=0.22.0 in /usr/local/lib/python3.12/dist-packages (from transformers) (0.22.0)\n",
            "Requirement already satisfied: psutil in /usr/local/lib/python3.12/dist-packages (from accelerate) (5.9.5)\n",
            "Requirement already satisfied: scipy>=1.10.0 in /usr/local/lib/python3.12/dist-packages (from albumentations) (1.16.1)\n",
            "Requirement already satisfied: pydantic>=2.9.2 in /usr/local/lib/python3.12/dist-packages (from albumentations) (2.11.7)\n",
            "Requirement already satisfied: albucore==0.0.24 in /usr/local/lib/python3.12/dist-packages (from albumentations) (0.0.24)\n",
            "Requirement already satisfied: opencv-python-headless>=4.9.0.80 in /usr/local/lib/python3.12/dist-packages (from albumentations) (4.12.0.88)\n",
            "Requirement already satisfied: stringzilla>=3.10.4 in /usr/local/lib/python3.12/dist-packages (from albucore==0.0.24->albumentations) (4.0.6)\n",
            "Requirement already satisfied: simsimd>=5.9.2 in /usr/local/lib/python3.12/dist-packages (from albucore==0.0.24->albumentations) (6.5.3)\n",
            "Requirement already satisfied: imageio!=2.35.0,>=2.33 in /usr/local/lib/python3.12/dist-packages (from scikit-image) (2.37.0)\n",
            "Requirement already satisfied: tifffile>=2022.8.12 in /usr/local/lib/python3.12/dist-packages (from scikit-image) (2025.8.28)\n",
            "Requirement already satisfied: lazy-loader>=0.4 in /usr/local/lib/python3.12/dist-packages (from scikit-image) (0.4)\n",
            "Requirement already satisfied: contourpy>=1.0.1 in /usr/local/lib/python3.12/dist-packages (from matplotlib) (1.3.3)\n",
            "Requirement already satisfied: cycler>=0.10 in /usr/local/lib/python3.12/dist-packages (from matplotlib) (0.12.1)\n",
            "Requirement already satisfied: fonttools>=4.22.0 in /usr/local/lib/python3.12/dist-packages (from matplotlib) (4.59.2)\n",
            "Requirement already satisfied: kiwisolver>=1.3.1 in /usr/local/lib/python3.12/dist-packages (from matplotlib) (1.4.9)\n",
            "Requirement already satisfied: pyparsing>=2.3.1 in /usr/local/lib/python3.12/dist-packages (from matplotlib) (3.2.3)\n",
            "Requirement already satisfied: python-dateutil>=2.7 in /usr/local/lib/python3.12/dist-packages (from matplotlib) (2.9.0.post0)\n",
            "Requirement already satisfied: pytz>=2020.1 in /usr/local/lib/python3.12/dist-packages (from pandas) (2025.2)\n",
            "Requirement already satisfied: tzdata>=2022.7 in /usr/local/lib/python3.12/dist-packages (from pandas) (2025.2)\n",
            "Requirement already satisfied: aiohttp!=4.0.0a0,!=4.0.0a1 in /usr/local/lib/python3.12/dist-packages (from fsspec[http]>=2022.5.0->pytorch-lightning) (3.12.15)\n",
            "Requirement already satisfied: hf-xet<2.0.0,>=1.1.3 in /usr/local/lib/python3.12/dist-packages (from huggingface-hub>=0.34.0->diffusers) (1.1.9)\n",
            "Requirement already satisfied: annotated-types>=0.6.0 in /usr/local/lib/python3.12/dist-packages (from pydantic>=2.9.2->albumentations) (0.7.0)\n",
            "Requirement already satisfied: pydantic-core==2.33.2 in /usr/local/lib/python3.12/dist-packages (from pydantic>=2.9.2->albumentations) (2.33.2)\n",
            "Requirement already satisfied: typing-inspection>=0.4.0 in /usr/local/lib/python3.12/dist-packages (from pydantic>=2.9.2->albumentations) (0.4.1)\n",
            "Requirement already satisfied: six>=1.5 in /usr/local/lib/python3.12/dist-packages (from python-dateutil>=2.7->matplotlib) (1.17.0)\n",
            "Requirement already satisfied: mpmath<1.4,>=1.1.0 in /usr/local/lib/python3.12/dist-packages (from sympy>=1.13.3->torch) (1.3.0)\n",
            "Requirement already satisfied: zipp>=3.20 in /usr/local/lib/python3.12/dist-packages (from importlib_metadata->diffusers) (3.23.0)\n",
            "Requirement already satisfied: MarkupSafe>=2.0 in /usr/local/lib/python3.12/dist-packages (from jinja2->torch) (3.0.2)\n",
            "Requirement already satisfied: charset_normalizer<4,>=2 in /usr/local/lib/python3.12/dist-packages (from requests->diffusers) (3.4.3)\n",
            "Requirement already satisfied: idna<4,>=2.5 in /usr/local/lib/python3.12/dist-packages (from requests->diffusers) (3.10)\n",
            "Requirement already satisfied: urllib3<3,>=1.21.1 in /usr/local/lib/python3.12/dist-packages (from requests->diffusers) (2.5.0)\n",
            "Requirement already satisfied: certifi>=2017.4.17 in /usr/local/lib/python3.12/dist-packages (from requests->diffusers) (2025.8.3)\n",
            "Requirement already satisfied: aiohappyeyeballs>=2.5.0 in /usr/local/lib/python3.12/dist-packages (from aiohttp!=4.0.0a0,!=4.0.0a1->fsspec[http]>=2022.5.0->pytorch-lightning) (2.6.1)\n",
            "Requirement already satisfied: aiosignal>=1.4.0 in /usr/local/lib/python3.12/dist-packages (from aiohttp!=4.0.0a0,!=4.0.0a1->fsspec[http]>=2022.5.0->pytorch-lightning) (1.4.0)\n",
            "Requirement already satisfied: attrs>=17.3.0 in /usr/local/lib/python3.12/dist-packages (from aiohttp!=4.0.0a0,!=4.0.0a1->fsspec[http]>=2022.5.0->pytorch-lightning) (25.3.0)\n",
            "Requirement already satisfied: frozenlist>=1.1.1 in /usr/local/lib/python3.12/dist-packages (from aiohttp!=4.0.0a0,!=4.0.0a1->fsspec[http]>=2022.5.0->pytorch-lightning) (1.7.0)\n",
            "Requirement already satisfied: multidict<7.0,>=4.5 in /usr/local/lib/python3.12/dist-packages (from aiohttp!=4.0.0a0,!=4.0.0a1->fsspec[http]>=2022.5.0->pytorch-lightning) (6.6.4)\n",
            "Requirement already satisfied: propcache>=0.2.0 in /usr/local/lib/python3.12/dist-packages (from aiohttp!=4.0.0a0,!=4.0.0a1->fsspec[http]>=2022.5.0->pytorch-lightning) (0.3.2)\n",
            "Requirement already satisfied: yarl<2.0,>=1.17.0 in /usr/local/lib/python3.12/dist-packages (from aiohttp!=4.0.0a0,!=4.0.0a1->fsspec[http]>=2022.5.0->pytorch-lightning) (1.20.1)\n",
            "Downloading pytorch_lightning-2.5.5-py3-none-any.whl (832 kB)\n",
            "\u001b[2K   \u001b[90m\u2501\u2501\u2501\u2501\u2501\u2501\u2501\u2501\u2501\u2501\u2501\u2501\u2501\u2501\u2501\u2501\u2501\u2501\u2501\u2501\u2501\u2501\u2501\u2501\u2501\u2501\u2501\u2501\u2501\u2501\u2501\u2501\u2501\u2501\u2501\u2501\u2501\u2501\u2501\u2501\u001b[0m \u001b[32m832.4/832.4 kB\u001b[0m \u001b[31m52.6 MB/s\u001b[0m eta \u001b[36m0:00:00\u001b[0m\n",
            "\u001b[?25hDownloading torchmetrics-1.8.2-py3-none-any.whl (983 kB)\n",
            "\u001b[2K   \u001b[90m\u2501\u2501\u2501\u2501\u2501\u2501\u2501\u2501\u2501\u2501\u2501\u2501\u2501\u2501\u2501\u2501\u2501\u2501\u2501\u2501\u2501\u2501\u2501\u2501\u2501\u2501\u2501\u2501\u2501\u2501\u2501\u2501\u2501\u2501\u2501\u2501\u2501\u2501\u2501\u2501\u001b[0m \u001b[32m983.2/983.2 kB\u001b[0m \u001b[31m65.4 MB/s\u001b[0m eta \u001b[36m0:00:00\u001b[0m\n",
            "\u001b[?25hDownloading lightning_utilities-0.15.2-py3-none-any.whl (29 kB)\n",
            "Installing collected packages: lightning-utilities, torchmetrics, pytorch-lightning\n",
            "Successfully installed lightning-utilities-0.15.2 pytorch-lightning-2.5.5 torchmetrics-1.8.2\n"
          ]
        }
      ],
      "source": [
        "!pip install torch torchvision torchaudio pytorch-lightning diffusers transformers accelerate timm albumentations opencv-python scikit-image torchmetrics matplotlib pandas pillow"
      ]
    },
    {
      "cell_type": "markdown",
      "metadata": {},
      "source": []
    },
    {
      "cell_type": "code",
      "execution_count": null,
      "metadata": {
        "colab": {
          "base_uri": "https://localhost:8080/"
        },
        "id": "f6btrzXJMsRh",
        "outputId": "b4dac6d3-6434-40e9-88c6-16341565c171"
      },
      "outputs": [
        {
          "name": "stdout",
          "output_type": "stream",
          "text": [
            "Requirement already satisfied: datasets in /usr/local/lib/python3.12/dist-packages (4.0.0)\n",
            "Collecting jsonlines\n",
            "  Downloading jsonlines-4.0.0-py3-none-any.whl.metadata (1.6 kB)\n",
            "Requirement already satisfied: filelock in /usr/local/lib/python3.12/dist-packages (from datasets) (3.19.1)\n",
            "Requirement already satisfied: numpy>=1.17 in /usr/local/lib/python3.12/dist-packages (from datasets) (2.0.2)\n",
            "Requirement already satisfied: pyarrow>=15.0.0 in /usr/local/lib/python3.12/dist-packages (from datasets) (18.1.0)\n",
            "Requirement already satisfied: dill<0.3.9,>=0.3.0 in /usr/local/lib/python3.12/dist-packages (from datasets) (0.3.8)\n",
            "Requirement already satisfied: pandas in /usr/local/lib/python3.12/dist-packages (from datasets) (2.2.2)\n",
            "Requirement already satisfied: requests>=2.32.2 in /usr/local/lib/python3.12/dist-packages (from datasets) (2.32.4)\n",
            "Requirement already satisfied: tqdm>=4.66.3 in /usr/local/lib/python3.12/dist-packages (from datasets) (4.67.1)\n",
            "Requirement already satisfied: xxhash in /usr/local/lib/python3.12/dist-packages (from datasets) (3.5.0)\n",
            "Requirement already satisfied: multiprocess<0.70.17 in /usr/local/lib/python3.12/dist-packages (from datasets) (0.70.16)\n",
            "Requirement already satisfied: fsspec<=2025.3.0,>=2023.1.0 in /usr/local/lib/python3.12/dist-packages (from fsspec[http]<=2025.3.0,>=2023.1.0->datasets) (2025.3.0)\n",
            "Requirement already satisfied: huggingface-hub>=0.24.0 in /usr/local/lib/python3.12/dist-packages (from datasets) (0.34.4)\n",
            "Requirement already satisfied: packaging in /usr/local/lib/python3.12/dist-packages (from datasets) (25.0)\n",
            "Requirement already satisfied: pyyaml>=5.1 in /usr/local/lib/python3.12/dist-packages (from datasets) (6.0.2)\n",
            "Requirement already satisfied: attrs>=19.2.0 in /usr/local/lib/python3.12/dist-packages (from jsonlines) (25.3.0)\n",
            "Requirement already satisfied: aiohttp!=4.0.0a0,!=4.0.0a1 in /usr/local/lib/python3.12/dist-packages (from fsspec[http]<=2025.3.0,>=2023.1.0->datasets) (3.12.15)\n",
            "Requirement already satisfied: typing-extensions>=3.7.4.3 in /usr/local/lib/python3.12/dist-packages (from huggingface-hub>=0.24.0->datasets) (4.15.0)\n",
            "Requirement already satisfied: hf-xet<2.0.0,>=1.1.3 in /usr/local/lib/python3.12/dist-packages (from huggingface-hub>=0.24.0->datasets) (1.1.9)\n",
            "Requirement already satisfied: charset_normalizer<4,>=2 in /usr/local/lib/python3.12/dist-packages (from requests>=2.32.2->datasets) (3.4.3)\n",
            "Requirement already satisfied: idna<4,>=2.5 in /usr/local/lib/python3.12/dist-packages (from requests>=2.32.2->datasets) (3.10)\n",
            "Requirement already satisfied: urllib3<3,>=1.21.1 in /usr/local/lib/python3.12/dist-packages (from requests>=2.32.2->datasets) (2.5.0)\n",
            "Requirement already satisfied: certifi>=2017.4.17 in /usr/local/lib/python3.12/dist-packages (from requests>=2.32.2->datasets) (2025.8.3)\n",
            "Requirement already satisfied: python-dateutil>=2.8.2 in /usr/local/lib/python3.12/dist-packages (from pandas->datasets) (2.9.0.post0)\n",
            "Requirement already satisfied: pytz>=2020.1 in /usr/local/lib/python3.12/dist-packages (from pandas->datasets) (2025.2)\n",
            "Requirement already satisfied: tzdata>=2022.7 in /usr/local/lib/python3.12/dist-packages (from pandas->datasets) (2025.2)\n",
            "Requirement already satisfied: aiohappyeyeballs>=2.5.0 in /usr/local/lib/python3.12/dist-packages (from aiohttp!=4.0.0a0,!=4.0.0a1->fsspec[http]<=2025.3.0,>=2023.1.0->datasets) (2.6.1)\n",
            "Requirement already satisfied: aiosignal>=1.4.0 in /usr/local/lib/python3.12/dist-packages (from aiohttp!=4.0.0a0,!=4.0.0a1->fsspec[http]<=2025.3.0,>=2023.1.0->datasets) (1.4.0)\n",
            "Requirement already satisfied: frozenlist>=1.1.1 in /usr/local/lib/python3.12/dist-packages (from aiohttp!=4.0.0a0,!=4.0.0a1->fsspec[http]<=2025.3.0,>=2023.1.0->datasets) (1.7.0)\n",
            "Requirement already satisfied: multidict<7.0,>=4.5 in /usr/local/lib/python3.12/dist-packages (from aiohttp!=4.0.0a0,!=4.0.0a1->fsspec[http]<=2025.3.0,>=2023.1.0->datasets) (6.6.4)\n",
            "Requirement already satisfied: propcache>=0.2.0 in /usr/local/lib/python3.12/dist-packages (from aiohttp!=4.0.0a0,!=4.0.0a1->fsspec[http]<=2025.3.0,>=2023.1.0->datasets) (0.3.2)\n",
            "Requirement already satisfied: yarl<2.0,>=1.17.0 in /usr/local/lib/python3.12/dist-packages (from aiohttp!=4.0.0a0,!=4.0.0a1->fsspec[http]<=2025.3.0,>=2023.1.0->datasets) (1.20.1)\n",
            "Requirement already satisfied: six>=1.5 in /usr/local/lib/python3.12/dist-packages (from python-dateutil>=2.8.2->pandas->datasets) (1.17.0)\n",
            "Downloading jsonlines-4.0.0-py3-none-any.whl (8.7 kB)\n",
            "Installing collected packages: jsonlines\n",
            "Successfully installed jsonlines-4.0.0\n"
          ]
        }
      ],
      "source": [
        "!pip install datasets jsonlines"
      ]
    },
    {
      "cell_type": "code",
      "execution_count": null,
      "metadata": {
        "colab": {
          "base_uri": "https://localhost:8080/"
        },
        "id": "EVWkd3XJMuaa",
        "outputId": "ba073ee5-bc4a-4602-fc8f-2354f0c0af09"
      },
      "outputs": [
        {
          "name": "stdout",
          "output_type": "stream",
          "text": [
            "Requirement already satisfied: torch in /usr/local/lib/python3.12/dist-packages (2.8.0+cu126)\n",
            "Requirement already satisfied: torchvision in /usr/local/lib/python3.12/dist-packages (0.23.0+cu126)\n",
            "Requirement already satisfied: torchaudio in /usr/local/lib/python3.12/dist-packages (2.8.0+cu126)\n",
            "Requirement already satisfied: pytorch-lightning in /usr/local/lib/python3.12/dist-packages (2.5.5)\n",
            "Requirement already satisfied: diffusers in /usr/local/lib/python3.12/dist-packages (0.35.1)\n",
            "Requirement already satisfied: transformers in /usr/local/lib/python3.12/dist-packages (4.56.1)\n",
            "Requirement already satisfied: accelerate in /usr/local/lib/python3.12/dist-packages (1.10.1)\n",
            "Requirement already satisfied: timm in /usr/local/lib/python3.12/dist-packages (1.0.19)\n",
            "Requirement already satisfied: albumentations in /usr/local/lib/python3.12/dist-packages (2.0.8)\n",
            "Requirement already satisfied: opencv-python in /usr/local/lib/python3.12/dist-packages (4.12.0.88)\n",
            "Requirement already satisfied: scikit-image in /usr/local/lib/python3.12/dist-packages (0.25.2)\n",
            "Requirement already satisfied: torchmetrics in /usr/local/lib/python3.12/dist-packages (1.8.2)\n",
            "Requirement already satisfied: matplotlib in /usr/local/lib/python3.12/dist-packages (3.10.0)\n",
            "Requirement already satisfied: pandas in /usr/local/lib/python3.12/dist-packages (2.2.2)\n",
            "Requirement already satisfied: pillow in /usr/local/lib/python3.12/dist-packages (11.3.0)\n",
            "Requirement already satisfied: datasets in /usr/local/lib/python3.12/dist-packages (4.0.0)\n",
            "Requirement already satisfied: jsonlines in /usr/local/lib/python3.12/dist-packages (4.0.0)\n",
            "Requirement already satisfied: filelock in /usr/local/lib/python3.12/dist-packages (from torch) (3.19.1)\n",
            "Requirement already satisfied: typing-extensions>=4.10.0 in /usr/local/lib/python3.12/dist-packages (from torch) (4.15.0)\n",
            "Requirement already satisfied: setuptools in /usr/local/lib/python3.12/dist-packages (from torch) (75.2.0)\n",
            "Requirement already satisfied: sympy>=1.13.3 in /usr/local/lib/python3.12/dist-packages (from torch) (1.13.3)\n",
            "Requirement already satisfied: networkx in /usr/local/lib/python3.12/dist-packages (from torch) (3.5)\n",
            "Requirement already satisfied: jinja2 in /usr/local/lib/python3.12/dist-packages (from torch) (3.1.6)\n",
            "Requirement already satisfied: fsspec in /usr/local/lib/python3.12/dist-packages (from torch) (2025.3.0)\n",
            "Requirement already satisfied: nvidia-cuda-nvrtc-cu12==12.6.77 in /usr/local/lib/python3.12/dist-packages (from torch) (12.6.77)\n",
            "Requirement already satisfied: nvidia-cuda-runtime-cu12==12.6.77 in /usr/local/lib/python3.12/dist-packages (from torch) (12.6.77)\n",
            "Requirement already satisfied: nvidia-cuda-cupti-cu12==12.6.80 in /usr/local/lib/python3.12/dist-packages (from torch) (12.6.80)\n",
            "Requirement already satisfied: nvidia-cudnn-cu12==9.10.2.21 in /usr/local/lib/python3.12/dist-packages (from torch) (9.10.2.21)\n",
            "Requirement already satisfied: nvidia-cublas-cu12==12.6.4.1 in /usr/local/lib/python3.12/dist-packages (from torch) (12.6.4.1)\n",
            "Requirement already satisfied: nvidia-cufft-cu12==11.3.0.4 in /usr/local/lib/python3.12/dist-packages (from torch) (11.3.0.4)\n",
            "Requirement already satisfied: nvidia-curand-cu12==10.3.7.77 in /usr/local/lib/python3.12/dist-packages (from torch) (10.3.7.77)\n",
            "Requirement already satisfied: nvidia-cusolver-cu12==11.7.1.2 in /usr/local/lib/python3.12/dist-packages (from torch) (11.7.1.2)\n",
            "Requirement already satisfied: nvidia-cusparse-cu12==12.5.4.2 in /usr/local/lib/python3.12/dist-packages (from torch) (12.5.4.2)\n",
            "Requirement already satisfied: nvidia-cusparselt-cu12==0.7.1 in /usr/local/lib/python3.12/dist-packages (from torch) (0.7.1)\n",
            "Requirement already satisfied: nvidia-nccl-cu12==2.27.3 in /usr/local/lib/python3.12/dist-packages (from torch) (2.27.3)\n",
            "Requirement already satisfied: nvidia-nvtx-cu12==12.6.77 in /usr/local/lib/python3.12/dist-packages (from torch) (12.6.77)\n",
            "Requirement already satisfied: nvidia-nvjitlink-cu12==12.6.85 in /usr/local/lib/python3.12/dist-packages (from torch) (12.6.85)\n",
            "Requirement already satisfied: nvidia-cufile-cu12==1.11.1.6 in /usr/local/lib/python3.12/dist-packages (from torch) (1.11.1.6)\n",
            "Requirement already satisfied: triton==3.4.0 in /usr/local/lib/python3.12/dist-packages (from torch) (3.4.0)\n",
            "Requirement already satisfied: numpy in /usr/local/lib/python3.12/dist-packages (from torchvision) (2.0.2)\n",
            "Requirement already satisfied: tqdm>=4.57.0 in /usr/local/lib/python3.12/dist-packages (from pytorch-lightning) (4.67.1)\n",
            "Requirement already satisfied: PyYAML>5.4 in /usr/local/lib/python3.12/dist-packages (from pytorch-lightning) (6.0.2)\n",
            "Requirement already satisfied: packaging>=20.0 in /usr/local/lib/python3.12/dist-packages (from pytorch-lightning) (25.0)\n",
            "Requirement already satisfied: lightning-utilities>=0.10.0 in /usr/local/lib/python3.12/dist-packages (from pytorch-lightning) (0.15.2)\n",
            "Requirement already satisfied: importlib_metadata in /usr/local/lib/python3.12/dist-packages (from diffusers) (8.7.0)\n",
            "Requirement already satisfied: huggingface-hub>=0.34.0 in /usr/local/lib/python3.12/dist-packages (from diffusers) (0.34.4)\n",
            "Requirement already satisfied: regex!=2019.12.17 in /usr/local/lib/python3.12/dist-packages (from diffusers) (2024.11.6)\n",
            "Requirement already satisfied: requests in /usr/local/lib/python3.12/dist-packages (from diffusers) (2.32.4)\n",
            "Requirement already satisfied: safetensors>=0.3.1 in /usr/local/lib/python3.12/dist-packages (from diffusers) (0.6.2)\n",
            "Requirement already satisfied: tokenizers<=0.23.0,>=0.22.0 in /usr/local/lib/python3.12/dist-packages (from transformers) (0.22.0)\n",
            "Requirement already satisfied: psutil in /usr/local/lib/python3.12/dist-packages (from accelerate) (5.9.5)\n",
            "Requirement already satisfied: scipy>=1.10.0 in /usr/local/lib/python3.12/dist-packages (from albumentations) (1.16.1)\n",
            "Requirement already satisfied: pydantic>=2.9.2 in /usr/local/lib/python3.12/dist-packages (from albumentations) (2.11.7)\n",
            "Requirement already satisfied: albucore==0.0.24 in /usr/local/lib/python3.12/dist-packages (from albumentations) (0.0.24)\n",
            "Requirement already satisfied: opencv-python-headless>=4.9.0.80 in /usr/local/lib/python3.12/dist-packages (from albumentations) (4.12.0.88)\n",
            "Requirement already satisfied: stringzilla>=3.10.4 in /usr/local/lib/python3.12/dist-packages (from albucore==0.0.24->albumentations) (4.0.6)\n",
            "Requirement already satisfied: simsimd>=5.9.2 in /usr/local/lib/python3.12/dist-packages (from albucore==0.0.24->albumentations) (6.5.3)\n",
            "Requirement already satisfied: imageio!=2.35.0,>=2.33 in /usr/local/lib/python3.12/dist-packages (from scikit-image) (2.37.0)\n",
            "Requirement already satisfied: tifffile>=2022.8.12 in /usr/local/lib/python3.12/dist-packages (from scikit-image) (2025.8.28)\n",
            "Requirement already satisfied: lazy-loader>=0.4 in /usr/local/lib/python3.12/dist-packages (from scikit-image) (0.4)\n",
            "Requirement already satisfied: contourpy>=1.0.1 in /usr/local/lib/python3.12/dist-packages (from matplotlib) (1.3.3)\n",
            "Requirement already satisfied: cycler>=0.10 in /usr/local/lib/python3.12/dist-packages (from matplotlib) (0.12.1)\n",
            "Requirement already satisfied: fonttools>=4.22.0 in /usr/local/lib/python3.12/dist-packages (from matplotlib) (4.59.2)\n",
            "Requirement already satisfied: kiwisolver>=1.3.1 in /usr/local/lib/python3.12/dist-packages (from matplotlib) (1.4.9)\n",
            "Requirement already satisfied: pyparsing>=2.3.1 in /usr/local/lib/python3.12/dist-packages (from matplotlib) (3.2.3)\n",
            "Requirement already satisfied: python-dateutil>=2.7 in /usr/local/lib/python3.12/dist-packages (from matplotlib) (2.9.0.post0)\n",
            "Requirement already satisfied: pytz>=2020.1 in /usr/local/lib/python3.12/dist-packages (from pandas) (2025.2)\n",
            "Requirement already satisfied: tzdata>=2022.7 in /usr/local/lib/python3.12/dist-packages (from pandas) (2025.2)\n",
            "Requirement already satisfied: pyarrow>=15.0.0 in /usr/local/lib/python3.12/dist-packages (from datasets) (18.1.0)\n",
            "Requirement already satisfied: dill<0.3.9,>=0.3.0 in /usr/local/lib/python3.12/dist-packages (from datasets) (0.3.8)\n",
            "Requirement already satisfied: xxhash in /usr/local/lib/python3.12/dist-packages (from datasets) (3.5.0)\n",
            "Requirement already satisfied: multiprocess<0.70.17 in /usr/local/lib/python3.12/dist-packages (from datasets) (0.70.16)\n",
            "Requirement already satisfied: attrs>=19.2.0 in /usr/local/lib/python3.12/dist-packages (from jsonlines) (25.3.0)\n",
            "Requirement already satisfied: aiohttp!=4.0.0a0,!=4.0.0a1 in /usr/local/lib/python3.12/dist-packages (from fsspec[http]>=2022.5.0->pytorch-lightning) (3.12.15)\n",
            "Requirement already satisfied: hf-xet<2.0.0,>=1.1.3 in /usr/local/lib/python3.12/dist-packages (from huggingface-hub>=0.34.0->diffusers) (1.1.9)\n",
            "Requirement already satisfied: annotated-types>=0.6.0 in /usr/local/lib/python3.12/dist-packages (from pydantic>=2.9.2->albumentations) (0.7.0)\n",
            "Requirement already satisfied: pydantic-core==2.33.2 in /usr/local/lib/python3.12/dist-packages (from pydantic>=2.9.2->albumentations) (2.33.2)\n",
            "Requirement already satisfied: typing-inspection>=0.4.0 in /usr/local/lib/python3.12/dist-packages (from pydantic>=2.9.2->albumentations) (0.4.1)\n",
            "Requirement already satisfied: six>=1.5 in /usr/local/lib/python3.12/dist-packages (from python-dateutil>=2.7->matplotlib) (1.17.0)\n",
            "Requirement already satisfied: charset_normalizer<4,>=2 in /usr/local/lib/python3.12/dist-packages (from requests->diffusers) (3.4.3)\n",
            "Requirement already satisfied: idna<4,>=2.5 in /usr/local/lib/python3.12/dist-packages (from requests->diffusers) (3.10)\n",
            "Requirement already satisfied: urllib3<3,>=1.21.1 in /usr/local/lib/python3.12/dist-packages (from requests->diffusers) (2.5.0)\n",
            "Requirement already satisfied: certifi>=2017.4.17 in /usr/local/lib/python3.12/dist-packages (from requests->diffusers) (2025.8.3)\n",
            "Requirement already satisfied: mpmath<1.4,>=1.1.0 in /usr/local/lib/python3.12/dist-packages (from sympy>=1.13.3->torch) (1.3.0)\n",
            "Requirement already satisfied: zipp>=3.20 in /usr/local/lib/python3.12/dist-packages (from importlib_metadata->diffusers) (3.23.0)\n",
            "Requirement already satisfied: MarkupSafe>=2.0 in /usr/local/lib/python3.12/dist-packages (from jinja2->torch) (3.0.2)\n",
            "Requirement already satisfied: aiohappyeyeballs>=2.5.0 in /usr/local/lib/python3.12/dist-packages (from aiohttp!=4.0.0a0,!=4.0.0a1->fsspec[http]>=2022.5.0->pytorch-lightning) (2.6.1)\n",
            "Requirement already satisfied: aiosignal>=1.4.0 in /usr/local/lib/python3.12/dist-packages (from aiohttp!=4.0.0a0,!=4.0.0a1->fsspec[http]>=2022.5.0->pytorch-lightning) (1.4.0)\n",
            "Requirement already satisfied: frozenlist>=1.1.1 in /usr/local/lib/python3.12/dist-packages (from aiohttp!=4.0.0a0,!=4.0.0a1->fsspec[http]>=2022.5.0->pytorch-lightning) (1.7.0)\n",
            "Requirement already satisfied: multidict<7.0,>=4.5 in /usr/local/lib/python3.12/dist-packages (from aiohttp!=4.0.0a0,!=4.0.0a1->fsspec[http]>=2022.5.0->pytorch-lightning) (6.6.4)\n",
            "Requirement already satisfied: propcache>=0.2.0 in /usr/local/lib/python3.12/dist-packages (from aiohttp!=4.0.0a0,!=4.0.0a1->fsspec[http]>=2022.5.0->pytorch-lightning) (0.3.2)\n",
            "Requirement already satisfied: yarl<2.0,>=1.17.0 in /usr/local/lib/python3.12/dist-packages (from aiohttp!=4.0.0a0,!=4.0.0a1->fsspec[http]>=2022.5.0->pytorch-lightning) (1.20.1)\n"
          ]
        }
      ],
      "source": [
        "!pip install torch torchvision torchaudio pytorch-lightning diffusers transformers accelerate timm albumentations opencv-python scikit-image torchmetrics matplotlib pandas pillow datasets jsonlines"
      ]
    },
    {
      "cell_type": "code",
      "execution_count": null,
      "metadata": {
        "colab": {
          "base_uri": "https://localhost:8080/"
        },
        "id": "yTcrdlsIMwTu",
        "outputId": "5054a7a8-89c6-4f70-a9c9-cda770009795"
      },
      "outputs": [
        {
          "name": "stdout",
          "output_type": "stream",
          "text": [
            "Mounted at /content/drive\n"
          ]
        }
      ],
      "source": [
        "from google.colab import drive\n",
        "drive.mount('/content/drive')"
      ]
    },
    {
      "cell_type": "code",
      "execution_count": null,
      "metadata": {
        "colab": {
          "base_uri": "https://localhost:8080/"
        },
        "id": "1CbsiCHKMz_2",
        "outputId": "0c3a09fc-de9b-43ec-f156-05f1e781b858"
      },
      "outputs": [
        {
          "name": "stdout",
          "output_type": "stream",
          "text": [
            "CUDA available: True\n",
            "GPU: Tesla T4\n",
            "Memory: 14.74 GB\n"
          ]
        }
      ],
      "source": [
        "import torch\n",
        "print(f\"CUDA available: {torch.cuda.is_available()}\")\n",
        "if torch.cuda.is_available():\n",
        "    print(f\"GPU: {torch.cuda.get_device_name(0)}\")\n",
        "    print(f\"Memory: {torch.cuda.get_device_properties(0).total_memory / 1024**3:.2f} GB\")"
      ]
    },
    {
      "cell_type": "code",
      "execution_count": null,
      "metadata": {
        "colab": {
          "base_uri": "https://localhost:8080/",
          "height": 1000,
          "referenced_widgets": [
            "df542832d8754376b7cfb5de6f007a49",
            "27156b7231734ee98bad0b1f8f094b6e",
            "7ce1766de37f4b99b9425fe0df206603",
            "39e24b49efee4786acc88e10cb39dbda",
            "e01ae4f2f19242bf855f416dc0f7ed59",
            "f7191f318f084f5b8554433976412cd9",
            "32807634a197494b88368fb070bf38e0",
            "4f87825e9c6d404db0f607493e0a8bc1",
            "cd7c9b5608eb41ba9081604e6a8d58e1",
            "f695cf8cfb0a4e98a3dcdf2d5d48a92a",
            "b5c36ad18e094330ac3850ab80baabe7",
            "7fcac1813b59403b82d7a4e3bdee46b7",
            "61671b81c0724c05bab9bc5668b265c8",
            "d1af64273a304eeaaaa323a284d71579",
            "c5cf799df3f544aaba0afec90b8408ab",
            "420362dec8224ea796847ece61db4cc2",
            "d1b83dfa44fa4379b3223f06008a6c5f",
            "888e4db8cb304076b523be7fb14f5551",
            "5d3c036e25f14c529c9da5853c2f95fd",
            "827b0ba3847f47f384a148c49c416442",
            "67ce85f38a0647b2962ade7adf8524e4",
            "fc6ddee3c0924e2dacddb6abe33692b2",
            "43da7a2d0d904e249f8515268badf099",
            "4a0b535cbcd7419fb58076b009bf10b8",
            "5f1de8dbe53d41df90309cfd7e202c8a",
            "ba67118550484f6d9fd468b26c6047da",
            "e19d9f93827945988ca29c467a0917e2",
            "e7f6be52eeef48148f0149db23995cc2",
            "2e46d62874e445148ffc821d48289e93",
            "53d97b49e4f94a64b0d99b6040f115ac",
            "8cd3c440757d401390ac897ee9ff746f",
            "324a4a967d7542a0ac903dcdfa92b7e3",
            "865affbf0ed649df81b17f69b35d934f",
            "8d348829ccdd4853bfd4e4ec7187a422",
            "1b139b70ccef45828a5d86248b1ed43d",
            "cbb1af6e36da4fdc870eeff1b80e0971",
            "1aae5589871943658f70c16cdc3caee3",
            "880596fec0f545acb752178137f12e3d",
            "be91d40f796a450dbeca7b984c8b0c04",
            "43a39b7e7451451ea756c90a4c1ce441",
            "934c04fdaadf4d488822d7630fd7ff26",
            "ccdf02524a884e109c469326ce0d8f69",
            "06042924d94a401cbff6376200f10923",
            "1f84b5cf736d4d7c8f09933c48cda512",
            "6ed1234c759d4ce6b9da22fed7e651f1",
            "c658b7954f24482b8fac491ce2fcc2ae",
            "56c67e76194344a0a1cccd2b3b7a3cc6",
            "ac8299c9834e4b85a7073b02e3a25181",
            "0481f222bb3449a7b2fc0e9d56c0e150",
            "6d0e3d50f98e4e919c4bfc69fba3d1b7",
            "7c13a78bdd134b0a9b58b19f52c680b0",
            "eeed773b46df40dea7dcb7af0a310773",
            "9419484128e64bd1947adb2e7fd896e7",
            "5dc93407755e4b9b84d0d140ac89f527",
            "6e7c1ca2e3104be88859c9d0de39613a",
            "86d2e44c61ef4016af0064589cef9125",
            "84016b2053d84f788785aa9f8e6ff032",
            "bd9e31044c17448592e2c17edf0c8842",
            "222938ee8e0e49bf91e04fb8f65f22a1",
            "36acd657b95a47778a1ec0684a336371",
            "f1364907d6e0477fb6eb0b6b51742cb0",
            "69f78cc466d1489fa845b1a486304e0a",
            "f23eba5072ff4c9faa6db44f9c0d3b15",
            "154bee2f3af34f5f8d898335300bd38f",
            "2ad0ecea8d324651a325f3ce676a4913",
            "3bd32c400cab44ddb492941f7743c271",
            "8382b0fad4ae46458a1331884aa63569",
            "5db4d18761134111b7cd5eb02bbc582f",
            "cb979b227edc437b87abace4d0832963",
            "23adc00c332d47b9b2b72052bb68be17",
            "94b69fe3d93c496c85eefff386553fc0",
            "c6d7762ba09c4831b341fb58e43850c3",
            "231d3a644c684af5abf9933db2b3ac30",
            "54c0d9861ab344028a71be0db189bd4d",
            "f58130cac4fa4db0ab77667352af7cbf",
            "f41cb70b38454e3a8ba316e33e9ebae8",
            "fcc39d235ba34afdba78dcd3dc10b925"
          ]
        },
        "id": "EjMCL8IkTlRG",
        "outputId": "9b8f7bf8-3fbf-4ea4-e918-e2959fd6f542"
      },
      "outputs": [
        {
          "name": "stderr",
          "output_type": "stream",
          "text": [
            "INFO:pytorch_lightning.utilities.rank_zero:Using 16bit Automatic Mixed Precision (AMP)\n",
            "INFO:pytorch_lightning.utilities.rank_zero:GPU available: True (cuda), used: True\n",
            "INFO:pytorch_lightning.utilities.rank_zero:TPU available: False, using: 0 TPU cores\n",
            "INFO:pytorch_lightning.utilities.rank_zero:HPU available: False, using: 0 HPUs\n"
          ]
        },
        {
          "name": "stdout",
          "output_type": "stream",
          "text": [
            "\ud83d\ude80 Starting Tamil-Brahmi Restoration Training (Stage 1)\n",
            "Device: gpu\n",
            "Precision: 16-mixed\n",
            "Dataset already exists at /content/dummy_brahmi_dataset. Skipping creation.\n",
            "\n",
            "\ud83d\udd27 Training Restoration Model\n"
          ]
        },
        {
          "name": "stderr",
          "output_type": "stream",
          "text": [
            "INFO:pytorch_lightning.accelerators.cuda:LOCAL_RANK: 0 - CUDA_VISIBLE_DEVICES: [0]\n",
            "/usr/local/lib/python3.12/dist-packages/pytorch_lightning/utilities/model_summary/model_summary.py:231: Precision 16-mixed is not supported by the model summary.  Estimated model size in MB will not be accurate. Using 32 bits instead.\n",
            "INFO:pytorch_lightning.callbacks.model_summary:\n",
            "  | Name | Type        | Params | Mode \n",
            "---------------------------------------------\n",
            "0 | unet | UNet2DModel | 16.5 M | train\n",
            "---------------------------------------------\n",
            "16.5 M    Trainable params\n",
            "0         Non-trainable params\n",
            "16.5 M    Total params\n",
            "65.956    Total estimated model params size (MB)\n",
            "179       Modules in train mode\n",
            "0         Modules in eval mode\n"
          ]
        },
        {
          "data": {
            "application/vnd.jupyter.widget-view+json": {
              "model_id": "df542832d8754376b7cfb5de6f007a49",
              "version_major": 2,
              "version_minor": 0
            },
            "text/plain": [
              "Sanity Checking: |          | 0/? [00:00<?, ?it/s]"
            ]
          },
          "metadata": {},
          "output_type": "display_data"
        },
        {
          "name": "stderr",
          "output_type": "stream",
          "text": [
            "/usr/local/lib/python3.12/dist-packages/pytorch_lightning/utilities/data.py:79: Trying to infer the `batch_size` from an ambiguous collection. The batch size we found is 16. To avoid any miscalculations, use `self.log(..., batch_size=batch_size)`.\n",
            "/usr/local/lib/python3.12/dist-packages/pytorch_lightning/utilities/data.py:79: Trying to infer the `batch_size` from an ambiguous collection. The batch size we found is 9. To avoid any miscalculations, use `self.log(..., batch_size=batch_size)`.\n",
            "/usr/local/lib/python3.12/dist-packages/pytorch_lightning/loops/fit_loop.py:310: The number of training batches (7) is smaller than the logging interval Trainer(log_every_n_steps=50). Set a lower value for log_every_n_steps if you want to see logs for the training epoch.\n"
          ]
        },
        {
          "data": {
            "application/vnd.jupyter.widget-view+json": {
              "model_id": "7fcac1813b59403b82d7a4e3bdee46b7",
              "version_major": 2,
              "version_minor": 0
            },
            "text/plain": [
              "Training: |          | 0/? [00:00<?, ?it/s]"
            ]
          },
          "metadata": {},
          "output_type": "display_data"
        },
        {
          "name": "stderr",
          "output_type": "stream",
          "text": [
            "/usr/local/lib/python3.12/dist-packages/pytorch_lightning/utilities/data.py:79: Trying to infer the `batch_size` from an ambiguous collection. The batch size we found is 4. To avoid any miscalculations, use `self.log(..., batch_size=batch_size)`.\n"
          ]
        },
        {
          "data": {
            "application/vnd.jupyter.widget-view+json": {
              "model_id": "43da7a2d0d904e249f8515268badf099",
              "version_major": 2,
              "version_minor": 0
            },
            "text/plain": [
              "Validation: |          | 0/? [00:00<?, ?it/s]"
            ]
          },
          "metadata": {},
          "output_type": "display_data"
        },
        {
          "data": {
            "application/vnd.jupyter.widget-view+json": {
              "model_id": "8d348829ccdd4853bfd4e4ec7187a422",
              "version_major": 2,
              "version_minor": 0
            },
            "text/plain": [
              "Validation: |          | 0/? [00:00<?, ?it/s]"
            ]
          },
          "metadata": {},
          "output_type": "display_data"
        },
        {
          "data": {
            "application/vnd.jupyter.widget-view+json": {
              "model_id": "6ed1234c759d4ce6b9da22fed7e651f1",
              "version_major": 2,
              "version_minor": 0
            },
            "text/plain": [
              "Validation: |          | 0/? [00:00<?, ?it/s]"
            ]
          },
          "metadata": {},
          "output_type": "display_data"
        },
        {
          "data": {
            "application/vnd.jupyter.widget-view+json": {
              "model_id": "86d2e44c61ef4016af0064589cef9125",
              "version_major": 2,
              "version_minor": 0
            },
            "text/plain": [
              "Validation: |          | 0/? [00:00<?, ?it/s]"
            ]
          },
          "metadata": {},
          "output_type": "display_data"
        },
        {
          "data": {
            "application/vnd.jupyter.widget-view+json": {
              "model_id": "8382b0fad4ae46458a1331884aa63569",
              "version_major": 2,
              "version_minor": 0
            },
            "text/plain": [
              "Validation: |          | 0/? [00:00<?, ?it/s]"
            ]
          },
          "metadata": {},
          "output_type": "display_data"
        },
        {
          "name": "stderr",
          "output_type": "stream",
          "text": [
            "INFO:pytorch_lightning.utilities.rank_zero:`Trainer.fit` stopped: `max_epochs=5` reached.\n"
          ]
        },
        {
          "name": "stdout",
          "output_type": "stream",
          "text": [
            "\u2705 Best restorer model: /content/logs/restorer/version_1/checkpoints/epoch=4-step=35.ckpt\n",
            "\n",
            "\ud83d\udcca Evaluating Restoration Model\n",
            "\n",
            "\ud83d\udcc8 Stage 1 Results:\n",
            "   Restoration PSNR: 22.0718\n",
            "   Restoration SSIM: 0.8244\n"
          ]
        },
        {
          "data": {
            "image/png": "[encoded data removed]",
            "text/plain": [
              "<Figure size 900x900 with 9 Axes>"
            ]
          },
          "metadata": {},
          "output_type": "display_data"
        }
      ],
      "source": [
        "import os\n",
        "import json\n",
        "import gc\n",
        "from pathlib import Path\n",
        "from typing import Dict, Optional\n",
        "\n",
        "import torch\n",
        "import torch.nn as nn\n",
        "import torch.nn.functional as F\n",
        "from torch.utils.data import Dataset, DataLoader\n",
        "import torchvision.transforms as T\n",
        "\n",
        "import pytorch_lightning as pl\n",
        "from pytorch_lightning.callbacks import ModelCheckpoint, TQDMProgressBar\n",
        "from pytorch_lightning.loggers import CSVLogger\n",
        "\n",
        "from PIL import Image, ImageDraw, ImageFont\n",
        "import numpy as np\n",
        "from skimage.metrics import peak_signal_noise_ratio as psnr\n",
        "from skimage.metrics import structural_similarity as ssim\n",
        "from skimage.util import random_noise\n",
        "from skimage.draw import line_aa\n",
        "import matplotlib.pyplot as plt\n",
        "\n",
        "from diffusers import UNet2DModel\n",
        "\n",
        "\n",
        "# --- Configuration ---\n",
        "class Config:\n",
        "    IMG_SIZE = 64\n",
        "    IMG_CHANNELS = 1\n",
        "    VOCAB = list(\"ABCDEFGHIJKLMNOPQRSTUVWXYZ\")\n",
        "    RESTORER_EPOCHS = 5\n",
        "    RESTORER_LR = 1e-4\n",
        "    RESTORER_BATCH_SIZE = 16\n",
        "    NUM_WORKERS = 2\n",
        "    ACCELERATOR = \"gpu\" if torch.cuda.is_available() else \"cpu\"\n",
        "    DEVICES = 1\n",
        "    PRECISION = \"16-mixed\" if torch.cuda.is_available() else \"32\"\n",
        "\n",
        "# --- Memory Management Utilities ---\n",
        "def cleanup_memory():\n",
        "    \"\"\"Clear GPU and system memory\"\"\"\n",
        "    gc.collect()\n",
        "    if torch.cuda.is_available():\n",
        "        torch.cuda.empty_cache()\n",
        "\n",
        "# --- Step 1: Dummy Dataset Generation ---\n",
        "def create_dummy_dataset(root_path: Path, num_samples: int = 100):\n",
        "    \"\"\"Generates a dummy dataset of character images and labels.\"\"\"\n",
        "    if root_path.exists():\n",
        "        print(f\"Dataset already exists at {root_path}. Skipping creation.\")\n",
        "        return\n",
        "\n",
        "    print(f\"Creating dummy dataset at {root_path}...\")\n",
        "    font = None\n",
        "    font_options = [\n",
        "        \"/System/Library/Fonts/Arial.ttf\",\n",
        "        \"/usr/share/fonts/truetype/liberation/LiberationSans-Regular.ttf\",\n",
        "        \"/usr/share/fonts/truetype/dejavu/DejaVuSans.ttf\"\n",
        "    ]\n",
        "\n",
        "    for font_path in font_options:\n",
        "        try:\n",
        "            if os.path.exists(font_path):\n",
        "                font = ImageFont.truetype(font_path, size=40)\n",
        "                break\n",
        "        except:\n",
        "            continue\n",
        "\n",
        "    if font is None:\n",
        "        print(\"Using default font - characters may appear as boxes\")\n",
        "        font = ImageFont.load_default()\n",
        "\n",
        "    for split in [\"train\", \"val\", \"test\"]:\n",
        "        split_path = root_path / split\n",
        "        clean_path = split_path / \"clean\"\n",
        "        augmented_path = split_path / \"augmented\"\n",
        "\n",
        "        clean_path.mkdir(parents=True, exist_ok=True)\n",
        "        augmented_path.mkdir(parents=True, exist_ok=True)\n",
        "\n",
        "        labels = {}\n",
        "        num_split_samples = num_samples if split == \"train\" else num_samples // 4\n",
        "\n",
        "        for i in range(num_split_samples):\n",
        "            char = np.random.choice(Config.VOCAB)\n",
        "            clean_img = Image.new(\"L\", (Config.IMG_SIZE, Config.IMG_SIZE), color=\"white\")\n",
        "            draw = ImageDraw.Draw(clean_img)\n",
        "\n",
        "            try:\n",
        "                bbox = draw.textbbox((0, 0), char, font=font)\n",
        "                w, h = bbox[2] - bbox[0], bbox[3] - bbox[1]\n",
        "                x = (Config.IMG_SIZE - w) // 2\n",
        "                y = (Config.IMG_SIZE - h) // 2\n",
        "                draw.text((x, y), char, font=font, fill=\"black\")\n",
        "            except:\n",
        "                draw.text((Config.IMG_SIZE//4, Config.IMG_SIZE//4), char, font=font, fill=\"black\")\n",
        "\n",
        "            augmented_img = T.RandomAffine(degrees=15, translate=(0.1, 0.1), scale=(0.9, 1.1))(clean_img)\n",
        "            filename = f\"char_{i}.png\"\n",
        "            clean_img.save(clean_path / filename)\n",
        "            augmented_img.save(augmented_path / filename)\n",
        "            labels[filename] = {\"brahmi_text\": char, \"tamil_text\": char}\n",
        "\n",
        "        with open(split_path / \"labels.json\", \"w\") as f:\n",
        "            json.dump(labels, f, indent=2)\n",
        "    print(\"Dummy dataset created successfully.\")\n",
        "\n",
        "# --- Step 2: Archaeological Noise Generator ---\n",
        "class ArchaeologicalNoiseGenerator:\n",
        "    \"\"\"Applies domain-specific noise to simulate archaeological damage.\"\"\"\n",
        "    def __init__(self, crack_prob=0.3, fade_prob=0.5, noise_prob=0.7):\n",
        "        self.crack_prob = crack_prob\n",
        "        self.fade_prob = fade_prob\n",
        "        self.noise_prob = noise_prob\n",
        "\n",
        "    def _add_cracks(self, img_np: np.ndarray) -> np.ndarray:\n",
        "        h, w = img_np.shape\n",
        "        for _ in range(np.random.randint(1, 3)):\n",
        "            x1, y1 = np.random.randint(0, w), np.random.randint(0, h)\n",
        "            x2, y2 = np.random.randint(0, w), np.random.randint(0, h)\n",
        "            rr, cc, val = line_aa(y1, x1, y2, x2)\n",
        "            valid_indices = (rr >= 0) & (rr < h) & (cc >= 0) & (cc < w)\n",
        "            img_np[rr[valid_indices], cc[valid_indices]] = 0\n",
        "        return img_np\n",
        "\n",
        "    def _add_fading(self, img_np: np.ndarray) -> np.ndarray:\n",
        "        fade_mask = np.random.rand(*img_np.shape) * 0.5 + 0.5\n",
        "        return np.clip(img_np * fade_mask, 0, 1)\n",
        "\n",
        "    def _add_stone_noise(self, img_np: np.ndarray) -> np.ndarray:\n",
        "        return random_noise(img_np, mode='s&p', amount=np.random.uniform(0.01, 0.05))\n",
        "\n",
        "    def __call__(self, img_tensor: torch.Tensor) -> torch.Tensor:\n",
        "        device = img_tensor.device\n",
        "        img_np = img_tensor.squeeze(0).cpu().numpy()\n",
        "        if np.random.rand() < self.crack_prob:\n",
        "            img_np = self._add_cracks(img_np)\n",
        "        if np.random.rand() < self.fade_prob:\n",
        "            img_np = self._add_fading(img_np)\n",
        "        if np.random.rand() < self.noise_prob:\n",
        "            img_np = self._add_stone_noise(img_np)\n",
        "        return torch.from_numpy(img_np).unsqueeze(0).float().to(device)\n",
        "\n",
        "# --- Step 3: Data Module ---\n",
        "class TamilBrahmiDataModule(pl.LightningDataModule):\n",
        "    \"\"\"Handles data loading for restoration stage.\"\"\"\n",
        "    def __init__(self, data_path: str, batch_size: int, num_workers: int):\n",
        "        super().__init__()\n",
        "        self.data_path = Path(data_path)\n",
        "        self.batch_size = batch_size\n",
        "        self.num_workers = num_workers\n",
        "\n",
        "    def setup(self, stage: Optional[str] = None):\n",
        "        self.train_ds = TamilBrahmiDataset(self.data_path / \"train\")\n",
        "        self.val_ds = TamilBrahmiDataset(self.data_path / \"val\")\n",
        "        self.test_ds = TamilBrahmiDataset(self.data_path / \"test\")\n",
        "\n",
        "    def train_dataloader(self):\n",
        "        return DataLoader(\n",
        "            self.train_ds,\n",
        "            batch_size=self.batch_size,\n",
        "            shuffle=True,\n",
        "            num_workers=self.num_workers,\n",
        "            pin_memory=True,\n",
        "            persistent_workers=True if self.num_workers > 0 else False\n",
        "        )\n",
        "\n",
        "    def val_dataloader(self):\n",
        "        return DataLoader(\n",
        "            self.val_ds,\n",
        "            batch_size=self.batch_size,\n",
        "            num_workers=self.num_workers,\n",
        "            pin_memory=True,\n",
        "            persistent_workers=True if self.num_workers > 0 else False\n",
        "        )\n",
        "\n",
        "    def test_dataloader(self):\n",
        "        return DataLoader(\n",
        "            self.test_ds,\n",
        "            batch_size=self.batch_size,\n",
        "            num_workers=self.num_workers,\n",
        "            pin_memory=True\n",
        "        )\n",
        "\n",
        "class TamilBrahmiDataset(Dataset):\n",
        "    \"\"\"Custom dataset to load clean and augmented images.\"\"\"\n",
        "    def __init__(self, split_path: Path):\n",
        "        super().__init__()\n",
        "        self.clean_img_dir = split_path / \"clean\"\n",
        "        self.aug_img_dir = split_path / \"augmented\"\n",
        "        with open(split_path / \"labels.json\", \"r\") as f:\n",
        "            self.labels = json.load(f)\n",
        "        self.filenames = list(self.labels.keys())\n",
        "\n",
        "        self.transform = T.Compose([\n",
        "            T.ToTensor(),\n",
        "            T.Normalize(mean=[0.5], std=[0.5])\n",
        "        ])\n",
        "\n",
        "    def __len__(self):\n",
        "        return len(self.filenames)\n",
        "\n",
        "    def __getitem__(self, idx: int) -> Dict:\n",
        "        filename = self.filenames[idx]\n",
        "        clean_img_path = self.clean_img_dir / filename\n",
        "        aug_img_path = self.aug_img_dir / filename\n",
        "\n",
        "        clean_img = Image.open(clean_img_path)\n",
        "        aug_img = Image.open(aug_img_path)\n",
        "\n",
        "        text_label = self.labels[filename][\"brahmi_text\"]\n",
        "\n",
        "        return {\n",
        "            \"clean_image\": self.transform(clean_img),\n",
        "            \"augmented_image\": self.transform(aug_img),\n",
        "            \"text\": text_label\n",
        "        }\n",
        "\n",
        "# --- Step 4: Restoration Model (U-Net) ---\n",
        "class TamilBrahmiRestorer(pl.LightningModule):\n",
        "    \"\"\"A LightningModule for restoring degraded character images using a U-Net.\"\"\"\n",
        "    def __init__(self, learning_rate: float = Config.RESTORER_LR):\n",
        "        super().__init__()\n",
        "        self.save_hyperparameters()\n",
        "        self.learning_rate = learning_rate\n",
        "\n",
        "        self.unet = UNet2DModel(\n",
        "            sample_size=Config.IMG_SIZE,\n",
        "            in_channels=Config.IMG_CHANNELS,\n",
        "            out_channels=Config.IMG_CHANNELS,\n",
        "            layers_per_block=1,\n",
        "            block_out_channels=(64, 128, 256, 256),\n",
        "            down_block_types=(\"DownBlock2D\", \"DownBlock2D\", \"DownBlock2D\", \"DownBlock2D\"),\n",
        "            up_block_types=(\"UpBlock2D\", \"UpBlock2D\", \"UpBlock2D\", \"UpBlock2D\"),\n",
        "        )\n",
        "        self.noise_generator = ArchaeologicalNoiseGenerator()\n",
        "\n",
        "    def forward(self, x: torch.Tensor) -> torch.Tensor:\n",
        "        return self.unet(x, timestep=0).sample\n",
        "\n",
        "    def training_step(self, batch: Dict, batch_idx: int) -> torch.Tensor:\n",
        "        clean_images = batch[\"clean_image\"]\n",
        "        damaged_images = torch.stack([\n",
        "            self.noise_generator(img.cpu()).to(clean_images.device)\n",
        "            for img in clean_images\n",
        "        ])\n",
        "        restored_images = self(damaged_images)\n",
        "        loss = F.l1_loss(restored_images, clean_images)\n",
        "        self.log(\"train_loss\", loss, on_step=True, on_epoch=True, prog_bar=True, logger=True)\n",
        "        return loss\n",
        "\n",
        "    def validation_step(self, batch: Dict, batch_idx: int):\n",
        "        clean_images = batch[\"clean_image\"]\n",
        "        damaged_images = torch.stack([\n",
        "            self.noise_generator(img.cpu()).to(clean_images.device)\n",
        "            for img in clean_images\n",
        "        ])\n",
        "        restored_images = self(damaged_images)\n",
        "        loss = F.l1_loss(restored_images, clean_images)\n",
        "        self.log(\"val_loss\", loss, on_epoch=True, prog_bar=True)\n",
        "\n",
        "    def configure_optimizers(self):\n",
        "        optimizer = torch.optim.AdamW(self.parameters(), lr=self.learning_rate, weight_decay=0.01)\n",
        "        scheduler = torch.optim.lr_scheduler.CosineAnnealingLR(optimizer, T_max=Config.RESTORER_EPOCHS)\n",
        "        return {\"optimizer\": optimizer, \"lr_scheduler\": scheduler}\n",
        "\n",
        "# --- Evaluation for Stage 1 ---\n",
        "def evaluate_restorer(restorer, datamodule):\n",
        "    \"\"\"Evaluate the restoration model and create visualizations\"\"\"\n",
        "    test_loader = datamodule.test_dataloader()\n",
        "    psnr_vals, ssim_vals = [], []\n",
        "    unnormalize = T.Normalize(mean=[-1.0], std=[2.0])\n",
        "\n",
        "    device = next(restorer.parameters()).device\n",
        "    restorer.to(device)\n",
        "\n",
        "    num_viz = 3\n",
        "    fig, axes = plt.subplots(num_viz, 3, figsize=(9, 3 * num_viz))\n",
        "    fig.suptitle(\"Tamil-Brahmi Restoration Results\", fontsize=14)\n",
        "    viz_count = 0\n",
        "\n",
        "    with torch.no_grad():\n",
        "        for batch_idx, batch in enumerate(test_loader):\n",
        "            if batch_idx >= num_viz:\n",
        "                break\n",
        "            clean_images = batch[\"clean_image\"].to(device)\n",
        "            text_labels = batch[\"text\"]\n",
        "            damaged_images = torch.stack([\n",
        "                restorer.noise_generator(img.cpu()).to(device)\n",
        "                for img in clean_images\n",
        "            ])\n",
        "            restored_images = restorer(damaged_images)\n",
        "\n",
        "            if viz_count < num_viz:\n",
        "                clean_np = unnormalize(clean_images[0:1]).cpu().numpy().squeeze()\n",
        "                restored_np = unnormalize(restored_images[0:1]).cpu().numpy().squeeze()\n",
        "                damaged_np = unnormalize(damaged_images[0:1]).cpu().numpy().squeeze()\n",
        "\n",
        "                p = psnr(clean_np, restored_np, data_range=1.0)\n",
        "                s = ssim(clean_np, restored_np, data_range=1.0)\n",
        "                psnr_vals.append(p)\n",
        "                ssim_vals.append(s)\n",
        "\n",
        "                ax_row = axes[viz_count] if num_viz > 1 else [axes]\n",
        "                ax_row[0].imshow(clean_np, cmap='gray')\n",
        "                ax_row[0].set_title(\"Original\")\n",
        "                ax_row[0].axis('off')\n",
        "                ax_row[1].imshow(damaged_np, cmap='gray')\n",
        "                ax_row[1].set_title(\"Damaged\")\n",
        "                ax_row[1].axis('off')\n",
        "                ax_row[2].imshow(restored_np, cmap='gray')\n",
        "                ax_row[2].set_title(f\"Restored\\nPSNR: {p:.2f}\")\n",
        "                ax_row[2].axis('off')\n",
        "                viz_count += 1\n",
        "\n",
        "    avg_psnr = np.mean(psnr_vals) if psnr_vals else 0\n",
        "    avg_ssim = np.mean(ssim_vals) if ssim_vals else 0\n",
        "    print(f\"\\n\ud83d\udcc8 Stage 1 Results:\")\n",
        "    print(f\"   Restoration PSNR: {avg_psnr:.4f}\")\n",
        "    print(f\"   Restoration SSIM: {avg_ssim:.4f}\")\n",
        "    plt.tight_layout()\n",
        "    plt.show()\n",
        "\n",
        "# --- Main Training Pipeline for Stage 1 ---\n",
        "def main(dataset_path: str = \"/content/dummy_brahmi_dataset\"):\n",
        "    print(\"\ud83d\ude80 Starting Tamil-Brahmi Restoration Training (Stage 1)\")\n",
        "    print(f\"Device: {Config.ACCELERATOR}\")\n",
        "    print(f\"Precision: {Config.PRECISION}\")\n",
        "\n",
        "    create_dummy_dataset(Path(dataset_path))\n",
        "    cleanup_memory()\n",
        "\n",
        "    datamodule = TamilBrahmiDataModule(\n",
        "        data_path=dataset_path,\n",
        "        batch_size=Config.RESTORER_BATCH_SIZE,\n",
        "        num_workers=Config.NUM_WORKERS\n",
        "    )\n",
        "\n",
        "    print(\"\\n\ud83d\udd27 Training Restoration Model\")\n",
        "    restorer_model = TamilBrahmiRestorer(learning_rate=Config.RESTORER_LR)\n",
        "    restorer_trainer = pl.Trainer(\n",
        "        max_epochs=Config.RESTORER_EPOCHS,\n",
        "        accelerator=Config.ACCELERATOR,\n",
        "        devices=Config.DEVICES,\n",
        "        precision=Config.PRECISION,\n",
        "        logger=CSVLogger(\"/content/logs\", name=\"restorer\"),\n",
        "        callbacks=[\n",
        "            ModelCheckpoint(monitor=\"val_loss\", mode=\"min\", save_top_k=1),\n",
        "            TQDMProgressBar(refresh_rate=20)\n",
        "        ],\n",
        "        enable_checkpointing=True,\n",
        "        enable_model_summary=True,\n",
        "        gradient_clip_val=1.0\n",
        "    )\n",
        "\n",
        "    restorer_trainer.fit(restorer_model, datamodule)\n",
        "    best_restorer_path = restorer_trainer.checkpoint_callback.best_model_path\n",
        "    print(f\"\u2705 Best restorer model: {best_restorer_path}\")\n",
        "\n",
        "    trained_restorer = TamilBrahmiRestorer.load_from_checkpoint(best_restorer_path)\n",
        "    trained_restorer.eval()\n",
        "    cleanup_memory()\n",
        "\n",
        "    print(\"\\n\ud83d\udcca Evaluating Restoration Model\")\n",
        "    evaluate_restorer(trained_restorer, datamodule)\n",
        "\n",
        "if __name__ == \"__main__\":\n",
        "    main(dataset_path=\"/content/dummy_brahmi_dataset\")"
      ]
    },
    {
      "cell_type": "code",
      "execution_count": null,
      "metadata": {
        "colab": {
          "base_uri": "https://localhost:8080/",
          "height": 1000,
          "referenced_widgets": [
            "f688d43601d84563ac44eef8ea125f00",
            "f3f4384f19af4c23b079a4ef2b1073f2",
            "c0e713ae15cd472f85a3780e6c130482",
            "2dd1c3b022ec4b758108a9500df1eb88",
            "be6a0acf4ffe4798a6ee6e8909d718a2",
            "d325e9a8fd8f4168bb3e14418dbc723a",
            "7632932217fa4e03b29069478db4fbab",
            "0f96ba7da12b4860b41d3c5a3801808a",
            "e60add18965b447481259fa56d453013",
            "cc232328c8b34e4882ea96459dc4c47b",
            "e6d64de105af4ad68e88b8e5088296c3",
            "f9050fca05c44287a5d37cace0a0a6ed",
            "79d1395c821643e381fbc01bf747acd1",
            "3f91b9adfb65405f854e02cb07007b20",
            "a7efa75d22a24767bb0d83b4b3f3a004",
            "dc7b3b1d69e74e4791df91aa53775a91",
            "0f4ddbea19d4486ab1e318dfcfaa72a3",
            "bf5be73724124855bcc4e797916f261e",
            "6923cccd96fd4b42935b9c94851b7362",
            "70cbad96aa284913aa9a97a1a4737deb",
            "c905a1d4ce354c6c878bd90249c44c07",
            "57f16ddf3ad04083bc8a193c25b60766",
            "8fcf6059188548bc94c38f2d2d7293a1",
            "81546acc897a4c05b9462e322dbeac5e",
            "4eca7a418cb348528263bfc908ce7c6f",
            "853735f7ca7a41debe00085824d8da71",
            "c1f9e90b347c452fac1731eafa69447f",
            "f9ce2b1254de4a7e83944cd5cfbc9afb",
            "041f22d249524c1cb38039b4b18af4a6",
            "d5f6b6b77c5447acbf9b06c0e1b0204e",
            "bea344f93e7b447e9a9cc49c7eb05c8a",
            "9661b007b70e4b2f9814f576b35c572f",
            "2ac6cfee1d8c4d8a84ed1451ded80091",
            "4e8a4f424c784ffb9423266171751c55",
            "102ba69cde124008bdd93d786acc6f04",
            "65b7d131a820400eb45b84e793f8a169",
            "d19e97e073dc4c70bc6e27a2cc4b6d6b",
            "c15274b39e404b318abd0c8545f79f65",
            "d4cab897dac44c63bbff82f72e858e30",
            "2b8bd3edd0f8489988f8f82d360d5fe3",
            "53544e6c85754d6584d2374cb36b2c8d",
            "bac6d7d8bbb14d22bf08f774a1286971",
            "58a659313d3f40bdbd06664f9ba9e34b",
            "de6ed8ec473e4dd1b2fdfd8632443760",
            "e14bc631c0354479bb9d278de1b6341c",
            "0663855ab4064819b3968c4527e587a1",
            "4a16eaaf0cfa4bd3a568f92b38e271cd",
            "42733c73bbc94d4faf0f9e263116d2de",
            "beeef02aac8b443ea36b693c5a1d2c95",
            "de20e62f78484ae480afb7704a86ab49",
            "fcc60d8dce1748279532139555c2c1ba",
            "944ea843b0e24b19b20961dc6f43cb61",
            "25fdcfb45e254f22ac4b5b46af744f1d",
            "c4c1b915688643d6bb36cb402a6d65e6",
            "38fa0a2a107d4784bdbc7cbf2a27b59b",
            "a8fd6c5665f84b8c826512642cf97534",
            "03ae1ef631c64350a8b9f7c32ac4b2bf",
            "4d9523f3b743484ca0a3799ef162397c",
            "1eeac996578945439bffebc1ccf918f8",
            "2dc6dfd6f84041fda4028b1e8caf6a78",
            "02beda7832854479862f2e552a56e033",
            "15045011f56043dfb97d79a965e6bc7d",
            "ae99f7456748405f97adcf2b6323c985",
            "c9418b83a7164158a7a2a3ac970b9120",
            "62d0e2838a14402c8bf5f6f9de4e9326",
            "d6a26b5e9404498ba75a318f0b82e589",
            "63fa7ea2aaad40ac94072cb8958c45db",
            "914823fdc8a646e6be8706b027294f10",
            "1941de103dbe4a26a95c3ab4fbefa5ce",
            "f02934e60e5642618ae940eaec6d39e3",
            "1f28a9060d2c49e681d548cfad13bcfe",
            "01af6a7e6f8d4a55944a7262d6e59330",
            "15500550f0d74cfabab182df0cbfd460",
            "99e911722ef842d79898228eec6239ea",
            "3dfdaf43a1974b58878b3be2be417fec",
            "898bcc25ec1d40deb608c049827c01b1",
            "697e4524b5bc4bf29c20a7be0f80c26f",
            "79fba8c865bd46c8b03f85edca7613ab",
            "9ef55e1b97504ca29c93c915efe315a0",
            "d2bafb73b7d742599ff99aa3772f95ab",
            "bdfd1e250d054f6b8167eed7f464abf1",
            "2611ea42982c40189c4a5273e46f63c9",
            "1d1ae8d75184468cbe746f623d4a40cc",
            "f996cd8e0c37495e9f2f71ff14894b32",
            "9ce3b9eec45546a6a1239e1f3dbe47c6",
            "16784513e7b242eb83bc3891e1802821",
            "edd0f67337e64e25a1be6d64b6d8c960",
            "bb74ef49ceb34b79bccc2bcdfdea9d5c",
            "16d1ffbb75da456a8c15ef08a74d0b5d",
            "59d17644c0744196b84fe6791e2aa39f",
            "072b454d80624c8a87e71b021bbe136f",
            "3f7781ab22f94a1094b25eb35f7e2330",
            "3c135356a5b943d89f69b7e199e2e676",
            "8ae26e3dfaa144be96c33f4d64fe2f99",
            "f66dcf0a67ad4d7c8ab2ee2891706e7f",
            "964b13fb198e41ffa94b5ac2e4bdcb7f",
            "41175aff8da14fb68f3241e2f0665530",
            "4f456eca471c43c38101167ef004d11b",
            "d8a686e6b5414132936f26339adfce6e",
            "e2e8507e1a904e3d9d6dd97663871f7b",
            "db631210d80c40a2a0e0739e6542c658",
            "af69d0be7efe46f38933262be4a82660",
            "0c7bce6e7c1a451dbc18e7df299f254d",
            "ef73cd3c019d440f88377aea2e65f591",
            "b44c68de125f4f14a903d42715d1a81e",
            "408d63a7dd484a9eb0d7dfc03eb58cec",
            "1313516c904a4f88a07a6bdf7b2948a8",
            "a9e9808583274963b7f4ccb8fee0d309",
            "52537bb64f71447ca0e8d1078d6e1426",
            "422e1893ddf642a0aa75ecf7a3d50db2"
          ]
        },
        "id": "l42y-6YhUgKv",
        "outputId": "fff60b62-a1ed-4fb8-b1a6-67e4b9b25603"
      },
      "outputs": [
        {
          "name": "stdout",
          "output_type": "stream",
          "text": [
            "\ud83d\ude80 Starting Tamil-Brahmi Recognition Training (Stage 2)\n",
            "Device: gpu\n",
            "Precision: 16-mixed\n"
          ]
        },
        {
          "name": "stderr",
          "output_type": "stream",
          "text": [
            "/usr/local/lib/python3.12/dist-packages/huggingface_hub/utils/_auth.py:94: UserWarning: \n",
            "The secret `HF_TOKEN` does not exist in your Colab secrets.\n",
            "To authenticate with the Hugging Face Hub, create a token in your settings tab (https://huggingface.co/settings/tokens), set it as secret in your Google Colab and restart your session.\n",
            "You will be able to reuse this secret in all of your notebooks.\n",
            "Please note that authentication is recommended but still optional to access public models or datasets.\n",
            "  warnings.warn(\n"
          ]
        },
        {
          "name": "stdout",
          "output_type": "stream",
          "text": [
            "\n",
            "\ud83d\udd0d Training Recognition Model\n"
          ]
        },
        {
          "name": "stderr",
          "output_type": "stream",
          "text": [
            "Some weights of ViTModel were not initialized from the model checkpoint at google/vit-base-patch16-224 and are newly initialized: ['pooler.dense.bias', 'pooler.dense.weight']\n",
            "You should probably TRAIN this model on a down-stream task to be able to use it for predictions and inference.\n",
            "Some weights of GPT2LMHeadModel were not initialized from the model checkpoint at gpt2 and are newly initialized: ['transformer.h.0.crossattention.c_attn.bias', 'transformer.h.0.crossattention.c_attn.weight', 'transformer.h.0.crossattention.c_proj.bias', 'transformer.h.0.crossattention.c_proj.weight', 'transformer.h.0.crossattention.q_attn.bias', 'transformer.h.0.crossattention.q_attn.weight', 'transformer.h.0.ln_cross_attn.bias', 'transformer.h.0.ln_cross_attn.weight', 'transformer.h.1.crossattention.c_attn.bias', 'transformer.h.1.crossattention.c_attn.weight', 'transformer.h.1.crossattention.c_proj.bias', 'transformer.h.1.crossattention.c_proj.weight', 'transformer.h.1.crossattention.q_attn.bias', 'transformer.h.1.crossattention.q_attn.weight', 'transformer.h.1.ln_cross_attn.bias', 'transformer.h.1.ln_cross_attn.weight', 'transformer.h.10.crossattention.c_attn.bias', 'transformer.h.10.crossattention.c_attn.weight', 'transformer.h.10.crossattention.c_proj.bias', 'transformer.h.10.crossattention.c_proj.weight', 'transformer.h.10.crossattention.q_attn.bias', 'transformer.h.10.crossattention.q_attn.weight', 'transformer.h.10.ln_cross_attn.bias', 'transformer.h.10.ln_cross_attn.weight', 'transformer.h.11.crossattention.c_attn.bias', 'transformer.h.11.crossattention.c_attn.weight', 'transformer.h.11.crossattention.c_proj.bias', 'transformer.h.11.crossattention.c_proj.weight', 'transformer.h.11.crossattention.q_attn.bias', 'transformer.h.11.crossattention.q_attn.weight', 'transformer.h.11.ln_cross_attn.bias', 'transformer.h.11.ln_cross_attn.weight', 'transformer.h.2.crossattention.c_attn.bias', 'transformer.h.2.crossattention.c_attn.weight', 'transformer.h.2.crossattention.c_proj.bias', 'transformer.h.2.crossattention.c_proj.weight', 'transformer.h.2.crossattention.q_attn.bias', 'transformer.h.2.crossattention.q_attn.weight', 'transformer.h.2.ln_cross_attn.bias', 'transformer.h.2.ln_cross_attn.weight', 'transformer.h.3.crossattention.c_attn.bias', 'transformer.h.3.crossattention.c_attn.weight', 'transformer.h.3.crossattention.c_proj.bias', 'transformer.h.3.crossattention.c_proj.weight', 'transformer.h.3.crossattention.q_attn.bias', 'transformer.h.3.crossattention.q_attn.weight', 'transformer.h.3.ln_cross_attn.bias', 'transformer.h.3.ln_cross_attn.weight', 'transformer.h.4.crossattention.c_attn.bias', 'transformer.h.4.crossattention.c_attn.weight', 'transformer.h.4.crossattention.c_proj.bias', 'transformer.h.4.crossattention.c_proj.weight', 'transformer.h.4.crossattention.q_attn.bias', 'transformer.h.4.crossattention.q_attn.weight', 'transformer.h.4.ln_cross_attn.bias', 'transformer.h.4.ln_cross_attn.weight', 'transformer.h.5.crossattention.c_attn.bias', 'transformer.h.5.crossattention.c_attn.weight', 'transformer.h.5.crossattention.c_proj.bias', 'transformer.h.5.crossattention.c_proj.weight', 'transformer.h.5.crossattention.q_attn.bias', 'transformer.h.5.crossattention.q_attn.weight', 'transformer.h.5.ln_cross_attn.bias', 'transformer.h.5.ln_cross_attn.weight', 'transformer.h.6.crossattention.c_attn.bias', 'transformer.h.6.crossattention.c_attn.weight', 'transformer.h.6.crossattention.c_proj.bias', 'transformer.h.6.crossattention.c_proj.weight', 'transformer.h.6.crossattention.q_attn.bias', 'transformer.h.6.crossattention.q_attn.weight', 'transformer.h.6.ln_cross_attn.bias', 'transformer.h.6.ln_cross_attn.weight', 'transformer.h.7.crossattention.c_attn.bias', 'transformer.h.7.crossattention.c_attn.weight', 'transformer.h.7.crossattention.c_proj.bias', 'transformer.h.7.crossattention.c_proj.weight', 'transformer.h.7.crossattention.q_attn.bias', 'transformer.h.7.crossattention.q_attn.weight', 'transformer.h.7.ln_cross_attn.bias', 'transformer.h.7.ln_cross_attn.weight', 'transformer.h.8.crossattention.c_attn.bias', 'transformer.h.8.crossattention.c_attn.weight', 'transformer.h.8.crossattention.c_proj.bias', 'transformer.h.8.crossattention.c_proj.weight', 'transformer.h.8.crossattention.q_attn.bias', 'transformer.h.8.crossattention.q_attn.weight', 'transformer.h.8.ln_cross_attn.bias', 'transformer.h.8.ln_cross_attn.weight', 'transformer.h.9.crossattention.c_attn.bias', 'transformer.h.9.crossattention.c_attn.weight', 'transformer.h.9.crossattention.c_proj.bias', 'transformer.h.9.crossattention.c_proj.weight', 'transformer.h.9.crossattention.q_attn.bias', 'transformer.h.9.crossattention.q_attn.weight', 'transformer.h.9.ln_cross_attn.bias', 'transformer.h.9.ln_cross_attn.weight']\n",
            "You should probably TRAIN this model on a down-stream task to be able to use it for predictions and inference.\n"
          ]
        },
        {
          "name": "stdout",
          "output_type": "stream",
          "text": [
            "Replacing encoder's first conv layer: Expected 3 channels, but got 1\n",
            "Updating encoder image size: Expected 224x224, but got 64x64\n"
          ]
        },
        {
          "name": "stderr",
          "output_type": "stream",
          "text": [
            "INFO:pytorch_lightning.utilities.rank_zero:Using 16bit Automatic Mixed Precision (AMP)\n",
            "INFO:pytorch_lightning.utilities.rank_zero:GPU available: True (cuda), used: True\n",
            "INFO:pytorch_lightning.utilities.rank_zero:TPU available: False, using: 0 TPU cores\n",
            "INFO:pytorch_lightning.utilities.rank_zero:HPU available: False, using: 0 HPUs\n",
            "INFO:pytorch_lightning.accelerators.cuda:LOCAL_RANK: 0 - CUDA_VISIBLE_DEVICES: [0]\n",
            "INFO:pytorch_lightning.callbacks.model_summary:\n",
            "  | Name    | Type                      | Params | Mode \n",
            "--------------------------------------------------------------\n",
            "0 | model   | VisionEncoderDecoderModel | 238 M  | train\n",
            "1 | cer     | CharErrorRate             | 0      | train\n",
            "2 | val_cer | CharErrorRate             | 0      | train\n",
            "--------------------------------------------------------------\n",
            "238 M     Trainable params\n",
            "0         Non-trainable params\n",
            "238 M     Total params\n",
            "954.658   Total estimated model params size (MB)\n",
            "4         Modules in train mode\n",
            "462       Modules in eval mode\n"
          ]
        },
        {
          "data": {
            "application/vnd.jupyter.widget-view+json": {
              "model_id": "f688d43601d84563ac44eef8ea125f00",
              "version_major": 2,
              "version_minor": 0
            },
            "text/plain": [
              "Sanity Checking: |          | 0/? [00:00<?, ?it/s]"
            ]
          },
          "metadata": {},
          "output_type": "display_data"
        },
        {
          "name": "stderr",
          "output_type": "stream",
          "text": [
            "Setting `pad_token_id` to `eos_token_id`:50256 for open-end generation.\n",
            "Setting `pad_token_id` to `eos_token_id`:50256 for open-end generation.\n",
            "/usr/local/lib/python3.12/dist-packages/pytorch_lightning/loops/fit_loop.py:527: Found 462 module(s) in eval mode at the start of training. This may lead to unexpected behavior during training. If this is intentional, you can ignore this warning.\n"
          ]
        },
        {
          "data": {
            "application/vnd.jupyter.widget-view+json": {
              "model_id": "f9050fca05c44287a5d37cace0a0a6ed",
              "version_major": 2,
              "version_minor": 0
            },
            "text/plain": [
              "Training: |          | 0/? [00:00<?, ?it/s]"
            ]
          },
          "metadata": {},
          "output_type": "display_data"
        },
        {
          "name": "stderr",
          "output_type": "stream",
          "text": [
            "`loss_type=None` was set in the config but it is unrecognized. Using the default loss: `ForCausalLMLoss`.\n"
          ]
        },
        {
          "data": {
            "application/vnd.jupyter.widget-view+json": {
              "model_id": "8fcf6059188548bc94c38f2d2d7293a1",
              "version_major": 2,
              "version_minor": 0
            },
            "text/plain": [
              "Validation: |          | 0/? [00:00<?, ?it/s]"
            ]
          },
          "metadata": {},
          "output_type": "display_data"
        },
        {
          "name": "stderr",
          "output_type": "stream",
          "text": [
            "Setting `pad_token_id` to `eos_token_id`:50256 for open-end generation.\n",
            "Setting `pad_token_id` to `eos_token_id`:50256 for open-end generation.\n"
          ]
        },
        {
          "data": {
            "application/vnd.jupyter.widget-view+json": {
              "model_id": "4e8a4f424c784ffb9423266171751c55",
              "version_major": 2,
              "version_minor": 0
            },
            "text/plain": [
              "Validation: |          | 0/? [00:00<?, ?it/s]"
            ]
          },
          "metadata": {},
          "output_type": "display_data"
        },
        {
          "name": "stderr",
          "output_type": "stream",
          "text": [
            "Setting `pad_token_id` to `eos_token_id`:50256 for open-end generation.\n",
            "Setting `pad_token_id` to `eos_token_id`:50256 for open-end generation.\n"
          ]
        },
        {
          "data": {
            "application/vnd.jupyter.widget-view+json": {
              "model_id": "e14bc631c0354479bb9d278de1b6341c",
              "version_major": 2,
              "version_minor": 0
            },
            "text/plain": [
              "Validation: |          | 0/? [00:00<?, ?it/s]"
            ]
          },
          "metadata": {},
          "output_type": "display_data"
        },
        {
          "name": "stderr",
          "output_type": "stream",
          "text": [
            "Setting `pad_token_id` to `eos_token_id`:50256 for open-end generation.\n",
            "Setting `pad_token_id` to `eos_token_id`:50256 for open-end generation.\n"
          ]
        },
        {
          "data": {
            "application/vnd.jupyter.widget-view+json": {
              "model_id": "a8fd6c5665f84b8c826512642cf97534",
              "version_major": 2,
              "version_minor": 0
            },
            "text/plain": [
              "Validation: |          | 0/? [00:00<?, ?it/s]"
            ]
          },
          "metadata": {},
          "output_type": "display_data"
        },
        {
          "name": "stderr",
          "output_type": "stream",
          "text": [
            "Setting `pad_token_id` to `eos_token_id`:50256 for open-end generation.\n",
            "Setting `pad_token_id` to `eos_token_id`:50256 for open-end generation.\n"
          ]
        },
        {
          "data": {
            "application/vnd.jupyter.widget-view+json": {
              "model_id": "63fa7ea2aaad40ac94072cb8958c45db",
              "version_major": 2,
              "version_minor": 0
            },
            "text/plain": [
              "Validation: |          | 0/? [00:00<?, ?it/s]"
            ]
          },
          "metadata": {},
          "output_type": "display_data"
        },
        {
          "name": "stderr",
          "output_type": "stream",
          "text": [
            "Setting `pad_token_id` to `eos_token_id`:50256 for open-end generation.\n",
            "Setting `pad_token_id` to `eos_token_id`:50256 for open-end generation.\n"
          ]
        },
        {
          "data": {
            "application/vnd.jupyter.widget-view+json": {
              "model_id": "79fba8c865bd46c8b03f85edca7613ab",
              "version_major": 2,
              "version_minor": 0
            },
            "text/plain": [
              "Validation: |          | 0/? [00:00<?, ?it/s]"
            ]
          },
          "metadata": {},
          "output_type": "display_data"
        },
        {
          "name": "stderr",
          "output_type": "stream",
          "text": [
            "Setting `pad_token_id` to `eos_token_id`:50256 for open-end generation.\n",
            "Setting `pad_token_id` to `eos_token_id`:50256 for open-end generation.\n"
          ]
        },
        {
          "data": {
            "application/vnd.jupyter.widget-view+json": {
              "model_id": "16d1ffbb75da456a8c15ef08a74d0b5d",
              "version_major": 2,
              "version_minor": 0
            },
            "text/plain": [
              "Validation: |          | 0/? [00:00<?, ?it/s]"
            ]
          },
          "metadata": {},
          "output_type": "display_data"
        },
        {
          "name": "stderr",
          "output_type": "stream",
          "text": [
            "Setting `pad_token_id` to `eos_token_id`:50256 for open-end generation.\n",
            "Setting `pad_token_id` to `eos_token_id`:50256 for open-end generation.\n"
          ]
        },
        {
          "data": {
            "application/vnd.jupyter.widget-view+json": {
              "model_id": "e2e8507e1a904e3d9d6dd97663871f7b",
              "version_major": 2,
              "version_minor": 0
            },
            "text/plain": [
              "Validation: |          | 0/? [00:00<?, ?it/s]"
            ]
          },
          "metadata": {},
          "output_type": "display_data"
        },
        {
          "name": "stderr",
          "output_type": "stream",
          "text": [
            "Setting `pad_token_id` to `eos_token_id`:50256 for open-end generation.\n",
            "Setting `pad_token_id` to `eos_token_id`:50256 for open-end generation.\n",
            "INFO:pytorch_lightning.utilities.rank_zero:`Trainer.fit` stopped: `max_epochs=8` reached.\n"
          ]
        },
        {
          "name": "stdout",
          "output_type": "stream",
          "text": [
            "\u2705 Best recognizer model: /content/logs/recognizer/version_3/checkpoints/epoch=1-step=14.ckpt\n"
          ]
        },
        {
          "name": "stderr",
          "output_type": "stream",
          "text": [
            "Some weights of ViTModel were not initialized from the model checkpoint at google/vit-base-patch16-224 and are newly initialized: ['pooler.dense.bias', 'pooler.dense.weight']\n",
            "You should probably TRAIN this model on a down-stream task to be able to use it for predictions and inference.\n",
            "Some weights of GPT2LMHeadModel were not initialized from the model checkpoint at gpt2 and are newly initialized: ['transformer.h.0.crossattention.c_attn.bias', 'transformer.h.0.crossattention.c_attn.weight', 'transformer.h.0.crossattention.c_proj.bias', 'transformer.h.0.crossattention.c_proj.weight', 'transformer.h.0.crossattention.q_attn.bias', 'transformer.h.0.crossattention.q_attn.weight', 'transformer.h.0.ln_cross_attn.bias', 'transformer.h.0.ln_cross_attn.weight', 'transformer.h.1.crossattention.c_attn.bias', 'transformer.h.1.crossattention.c_attn.weight', 'transformer.h.1.crossattention.c_proj.bias', 'transformer.h.1.crossattention.c_proj.weight', 'transformer.h.1.crossattention.q_attn.bias', 'transformer.h.1.crossattention.q_attn.weight', 'transformer.h.1.ln_cross_attn.bias', 'transformer.h.1.ln_cross_attn.weight', 'transformer.h.10.crossattention.c_attn.bias', 'transformer.h.10.crossattention.c_attn.weight', 'transformer.h.10.crossattention.c_proj.bias', 'transformer.h.10.crossattention.c_proj.weight', 'transformer.h.10.crossattention.q_attn.bias', 'transformer.h.10.crossattention.q_attn.weight', 'transformer.h.10.ln_cross_attn.bias', 'transformer.h.10.ln_cross_attn.weight', 'transformer.h.11.crossattention.c_attn.bias', 'transformer.h.11.crossattention.c_attn.weight', 'transformer.h.11.crossattention.c_proj.bias', 'transformer.h.11.crossattention.c_proj.weight', 'transformer.h.11.crossattention.q_attn.bias', 'transformer.h.11.crossattention.q_attn.weight', 'transformer.h.11.ln_cross_attn.bias', 'transformer.h.11.ln_cross_attn.weight', 'transformer.h.2.crossattention.c_attn.bias', 'transformer.h.2.crossattention.c_attn.weight', 'transformer.h.2.crossattention.c_proj.bias', 'transformer.h.2.crossattention.c_proj.weight', 'transformer.h.2.crossattention.q_attn.bias', 'transformer.h.2.crossattention.q_attn.weight', 'transformer.h.2.ln_cross_attn.bias', 'transformer.h.2.ln_cross_attn.weight', 'transformer.h.3.crossattention.c_attn.bias', 'transformer.h.3.crossattention.c_attn.weight', 'transformer.h.3.crossattention.c_proj.bias', 'transformer.h.3.crossattention.c_proj.weight', 'transformer.h.3.crossattention.q_attn.bias', 'transformer.h.3.crossattention.q_attn.weight', 'transformer.h.3.ln_cross_attn.bias', 'transformer.h.3.ln_cross_attn.weight', 'transformer.h.4.crossattention.c_attn.bias', 'transformer.h.4.crossattention.c_attn.weight', 'transformer.h.4.crossattention.c_proj.bias', 'transformer.h.4.crossattention.c_proj.weight', 'transformer.h.4.crossattention.q_attn.bias', 'transformer.h.4.crossattention.q_attn.weight', 'transformer.h.4.ln_cross_attn.bias', 'transformer.h.4.ln_cross_attn.weight', 'transformer.h.5.crossattention.c_attn.bias', 'transformer.h.5.crossattention.c_attn.weight', 'transformer.h.5.crossattention.c_proj.bias', 'transformer.h.5.crossattention.c_proj.weight', 'transformer.h.5.crossattention.q_attn.bias', 'transformer.h.5.crossattention.q_attn.weight', 'transformer.h.5.ln_cross_attn.bias', 'transformer.h.5.ln_cross_attn.weight', 'transformer.h.6.crossattention.c_attn.bias', 'transformer.h.6.crossattention.c_attn.weight', 'transformer.h.6.crossattention.c_proj.bias', 'transformer.h.6.crossattention.c_proj.weight', 'transformer.h.6.crossattention.q_attn.bias', 'transformer.h.6.crossattention.q_attn.weight', 'transformer.h.6.ln_cross_attn.bias', 'transformer.h.6.ln_cross_attn.weight', 'transformer.h.7.crossattention.c_attn.bias', 'transformer.h.7.crossattention.c_attn.weight', 'transformer.h.7.crossattention.c_proj.bias', 'transformer.h.7.crossattention.c_proj.weight', 'transformer.h.7.crossattention.q_attn.bias', 'transformer.h.7.crossattention.q_attn.weight', 'transformer.h.7.ln_cross_attn.bias', 'transformer.h.7.ln_cross_attn.weight', 'transformer.h.8.crossattention.c_attn.bias', 'transformer.h.8.crossattention.c_attn.weight', 'transformer.h.8.crossattention.c_proj.bias', 'transformer.h.8.crossattention.c_proj.weight', 'transformer.h.8.crossattention.q_attn.bias', 'transformer.h.8.crossattention.q_attn.weight', 'transformer.h.8.ln_cross_attn.bias', 'transformer.h.8.ln_cross_attn.weight', 'transformer.h.9.crossattention.c_attn.bias', 'transformer.h.9.crossattention.c_attn.weight', 'transformer.h.9.crossattention.c_proj.bias', 'transformer.h.9.crossattention.c_proj.weight', 'transformer.h.9.crossattention.q_attn.bias', 'transformer.h.9.crossattention.q_attn.weight', 'transformer.h.9.ln_cross_attn.bias', 'transformer.h.9.ln_cross_attn.weight']\n",
            "You should probably TRAIN this model on a down-stream task to be able to use it for predictions and inference.\n"
          ]
        },
        {
          "name": "stdout",
          "output_type": "stream",
          "text": [
            "Replacing encoder's first conv layer: Expected 3 channels, but got 1\n",
            "Updating encoder image size: Expected 224x224, but got 64x64\n",
            "\n",
            "\ud83d\udd04 Loading trained restorer from /content/logs/restorer/version_0/checkpoints/epoch=4-step=35.ckpt\n",
            "\n",
            "\ud83d\udcca Evaluating Full Pipeline\n"
          ]
        },
        {
          "name": "stderr",
          "output_type": "stream",
          "text": [
            "Setting `pad_token_id` to `eos_token_id`:50256 for open-end generation.\n",
            "Setting `pad_token_id` to `eos_token_id`:50256 for open-end generation.\n"
          ]
        },
        {
          "name": "stdout",
          "output_type": "stream",
          "text": [
            "\n",
            "\ud83d\udcc8 Stage 2 Results:\n",
            "   Restoration PSNR: 21.0334\n",
            "   Restoration SSIM: 0.7936\n",
            "   Recognition CER: 1.0000\n",
            "   Recognition Accuracy: 0.0000\n"
          ]
        },
        {
          "data": {
            "image/png": "[encoded data removed]",
            "text/plain": [
              "<Figure size 1500x900 with 15 Axes>"
            ]
          },
          "metadata": {},
          "output_type": "display_data"
        }
      ],
      "source": [
        "import os\n",
        "import json\n",
        "import gc\n",
        "from pathlib import Path\n",
        "from typing import Dict, Optional\n",
        "\n",
        "import torch\n",
        "import torch.nn as nn\n",
        "import torch.nn.functional as F\n",
        "from torch.utils.data import Dataset, DataLoader\n",
        "import torchvision.transforms as T\n",
        "\n",
        "import pytorch_lightning as pl\n",
        "from pytorch_lightning.callbacks import ModelCheckpoint, TQDMProgressBar\n",
        "from pytorch_lightning.loggers import CSVLogger\n",
        "\n",
        "from PIL import Image, ImageDraw, ImageFont\n",
        "import numpy as np\n",
        "from skimage.metrics import peak_signal_noise_ratio as psnr\n",
        "from skimage.metrics import structural_similarity as ssim\n",
        "from skimage.util import random_noise\n",
        "from skimage.draw import line_aa\n",
        "import matplotlib.pyplot as plt\n",
        "\n",
        "from diffusers import UNet2DModel\n",
        "from transformers import VisionEncoderDecoderModel, AutoTokenizer\n",
        "from torchmetrics.text import CharErrorRate\n",
        "\n",
        "# --- Configuration ---\n",
        "class Config:\n",
        "    IMG_SIZE = 64\n",
        "    IMG_CHANNELS = 1\n",
        "\n",
        "    VOCAB = [\"\ud804\udc13\", \"\ud804\udc14\", \"\ud804\udc15\", \"\ud804\udc16\", \"\ud804\udc17\", \"\ud804\udc18\", \"\ud804\udc19\", \"\ud804\udc1a\", \"\ud804\udc1b\", \"\ud804\udc1c\",  # ka to dha\n",
        "             \"\ud804\udc1d\", \"\ud804\udc1e\", \"\ud804\udc1f\", \"\ud804\udc20\", \"\ud804\udc21\", \"\ud804\udc22\", \"\ud804\udc23\", \"\ud804\udc24\", \"\ud804\udc25\", \"\ud804\udc26\",  # na to ma\n",
        "             \"\ud804\udc27\", \"\ud804\udc28\", \"\ud804\udc29\", \"\ud804\udc2a\", \"\ud804\udc2b\", \".\", \",\"]\n",
        "    RECOGNIZER_EPOCHS = 8\n",
        "    RECOGNIZER_LR = 5e-5\n",
        "    RECOGNIZER_BATCH_SIZE = 16\n",
        "    RECOGNIZER_ENCODER = \"google/vit-base-patch16-224\"\n",
        "    RECOGNIZER_DECODER = \"gpt2\"\n",
        "    NUM_WORKERS = 2\n",
        "    ACCELERATOR = \"gpu\" if torch.cuda.is_available() else \"cpu\"\n",
        "    DEVICES = 1\n",
        "    PRECISION = \"16-mixed\" if torch.cuda.is_available() else \"32\"\n",
        "\n",
        "# --- Memory Management Utilities ---\n",
        "def cleanup_memory():\n",
        "    \"\"\"Clear GPU and system memory\"\"\"\n",
        "    gc.collect()\n",
        "    if torch.cuda.is_available():\n",
        "        torch.cuda.empty_cache()\n",
        "\n",
        "# --- Archaeological Noise Generator ---\n",
        "class ArchaeologicalNoiseGenerator:\n",
        "    \"\"\"Applies domain-specific noise to simulate archaeological damage.\"\"\"\n",
        "    def __init__(self, crack_prob=0.3, fade_prob=0.5, noise_prob=0.7):\n",
        "        self.crack_prob = crack_prob\n",
        "        self.fade_prob = fade_prob\n",
        "        self.noise_prob = noise_prob\n",
        "\n",
        "    def _add_cracks(self, img_np: np.ndarray) -> np.ndarray:\n",
        "        h, w = img_np.shape\n",
        "        for _ in range(np.random.randint(1, 3)):\n",
        "            x1, y1 = np.random.randint(0, w), np.random.randint(0, h)\n",
        "            x2, y2 = np.random.randint(0, w), np.random.randint(0, h)\n",
        "            rr, cc, val = line_aa(y1, x1, y2, x2)\n",
        "            valid_indices = (rr >= 0) & (rr < h) & (cc >= 0) & (cc < w)\n",
        "            img_np[rr[valid_indices], cc[valid_indices]] = 0\n",
        "        return img_np\n",
        "\n",
        "    def _add_fading(self, img_np: np.ndarray) -> np.ndarray:\n",
        "        fade_mask = np.random.rand(*img_np.shape) * 0.5 + 0.5\n",
        "        return np.clip(img_np * fade_mask, 0, 1)\n",
        "\n",
        "    def _add_stone_noise(self, img_np: np.ndarray) -> np.ndarray:\n",
        "        return random_noise(img_np, mode='s&p', amount=np.random.uniform(0.01, 0.05))\n",
        "\n",
        "    def __call__(self, img_tensor: torch.Tensor) -> torch.Tensor:\n",
        "        device = img_tensor.device\n",
        "        img_np = img_tensor.squeeze(0).cpu().numpy()\n",
        "        if np.random.rand() < self.crack_prob:\n",
        "            img_np = self._add_cracks(img_np)\n",
        "        if np.random.rand() < self.fade_prob:\n",
        "            img_np = self._add_fading(img_np)\n",
        "        if np.random.rand() < self.noise_prob:\n",
        "            img_np = self._add_stone_noise(img_np)\n",
        "        return torch.from_numpy(img_np).unsqueeze(0).float().to(device)\n",
        "\n",
        "# --- Data Module ---\n",
        "class TamilBrahmiDataModule(pl.LightningDataModule):\n",
        "    \"\"\"Handles data loading for recognition stage.\"\"\"\n",
        "    def __init__(self, data_path: str, batch_size: int, num_workers: int):\n",
        "        super().__init__()\n",
        "        self.data_path = Path(data_path)\n",
        "        self.batch_size = batch_size\n",
        "        self.num_workers = num_workers\n",
        "        self.tokenizer = AutoTokenizer.from_pretrained(Config.RECOGNIZER_DECODER)\n",
        "        self.tokenizer.pad_token = self.tokenizer.eos_token\n",
        "\n",
        "    def setup(self, stage: Optional[str] = None):\n",
        "        self.train_ds = TamilBrahmiDataset(self.data_path / \"train\", self.tokenizer)\n",
        "        self.val_ds = TamilBrahmiDataset(self.data_path / \"val\", self.tokenizer)\n",
        "        self.test_ds = TamilBrahmiDataset(self.data_path / \"test\", self.tokenizer)\n",
        "\n",
        "    def train_dataloader(self):\n",
        "        return DataLoader(\n",
        "            self.train_ds,\n",
        "            batch_size=self.batch_size,\n",
        "            shuffle=True,\n",
        "            num_workers=self.num_workers,\n",
        "            pin_memory=True,\n",
        "            persistent_workers=True if self.num_workers > 0 else False\n",
        "        )\n",
        "\n",
        "    def val_dataloader(self):\n",
        "        return DataLoader(\n",
        "            self.val_ds,\n",
        "            batch_size=self.batch_size,\n",
        "            num_workers=self.num_workers,\n",
        "            pin_memory=True,\n",
        "            persistent_workers=True if self.num_workers > 0 else False\n",
        "        )\n",
        "\n",
        "    def test_dataloader(self):\n",
        "        return DataLoader(\n",
        "            self.test_ds,\n",
        "            batch_size=self.batch_size,\n",
        "            num_workers=self.num_workers,\n",
        "            pin_memory=True\n",
        "        )\n",
        "\n",
        "class TamilBrahmiDataset(Dataset):\n",
        "    \"\"\"Custom dataset to load clean, augmented images and labels.\"\"\"\n",
        "    def __init__(self, split_path: Path, tokenizer):\n",
        "        super().__init__()\n",
        "        self.clean_img_dir = split_path / \"clean\"\n",
        "        self.aug_img_dir = split_path / \"augmented\"\n",
        "        with open(split_path / \"labels.json\", \"r\") as f:\n",
        "            self.labels = json.load(f)\n",
        "        self.filenames = list(self.labels.keys())\n",
        "        self.tokenizer = tokenizer\n",
        "\n",
        "        self.transform = T.Compose([\n",
        "            T.ToTensor(),\n",
        "            T.Normalize(mean=[0.5], std=[0.5])\n",
        "        ])\n",
        "\n",
        "    def __len__(self):\n",
        "        return len(self.filenames)\n",
        "\n",
        "    def __getitem__(self, idx: int) -> Dict:\n",
        "        filename = self.filenames[idx]\n",
        "        clean_img_path = self.clean_img_dir / filename\n",
        "        aug_img_path = self.aug_img_dir / filename\n",
        "\n",
        "        clean_img = Image.open(clean_img_path)\n",
        "        aug_img = Image.open(aug_img_path)\n",
        "\n",
        "        text_label = self.labels[filename][\"brahmi_text\"]\n",
        "        tokenized_label = self.tokenizer(\n",
        "            text_label,\n",
        "            padding=\"max_length\",\n",
        "            max_length=16,\n",
        "            return_tensors=\"pt\"\n",
        "        ).input_ids.squeeze(0)\n",
        "\n",
        "        return {\n",
        "            \"clean_image\": self.transform(clean_img),\n",
        "            \"augmented_image\": self.transform(aug_img),\n",
        "            \"labels\": tokenized_label,\n",
        "            \"text\": text_label\n",
        "        }\n",
        "\n",
        "# --- Restoration Model (for loading trained model) ---\n",
        "class TamilBrahmiRestorer(pl.LightningModule):\n",
        "    \"\"\"A LightningModule for restoring degraded character images using a U-Net.\"\"\"\n",
        "    def __init__(self, learning_rate: float = Config.RECOGNIZER_LR):\n",
        "        super().__init__()\n",
        "        self.unet = UNet2DModel(\n",
        "            sample_size=Config.IMG_SIZE,\n",
        "            in_channels=Config.IMG_CHANNELS,\n",
        "            out_channels=Config.IMG_CHANNELS,\n",
        "            layers_per_block=1,\n",
        "            block_out_channels=(64, 128, 256, 256),\n",
        "            down_block_types=(\"DownBlock2D\", \"DownBlock2D\", \"DownBlock2D\", \"DownBlock2D\"),\n",
        "            up_block_types=(\"UpBlock2D\", \"UpBlock2D\", \"UpBlock2D\", \"UpBlock2D\"),\n",
        "        )\n",
        "        self.noise_generator = ArchaeologicalNoiseGenerator()\n",
        "\n",
        "    def forward(self, x: torch.Tensor) -> torch.Tensor:\n",
        "        return self.unet(x, timestep=0).sample\n",
        "\n",
        "# --- Recognition Model ---\n",
        "class GOTTamilBrahmi(pl.LightningModule):\n",
        "    \"\"\"A LightningModule for recognizing characters from clean images.\"\"\"\n",
        "    def __init__(self, learning_rate: float = Config.RECOGNIZER_LR):\n",
        "        super().__init__()\n",
        "        self.save_hyperparameters()\n",
        "        self.learning_rate = learning_rate\n",
        "\n",
        "        self.model = VisionEncoderDecoderModel.from_encoder_decoder_pretrained(\n",
        "            Config.RECOGNIZER_ENCODER, Config.RECOGNIZER_DECODER\n",
        "        )\n",
        "\n",
        "        encoder_config = self.model.encoder.config\n",
        "        expected_channels = encoder_config.num_channels\n",
        "        if expected_channels != Config.IMG_CHANNELS:\n",
        "            print(f\"Replacing encoder's first conv layer: Expected {expected_channels} channels, but got {Config.IMG_CHANNELS}\")\n",
        "            self.model.encoder.embeddings.patch_embeddings.projection = torch.nn.Conv2d(\n",
        "                Config.IMG_CHANNELS,\n",
        "                encoder_config.hidden_size,\n",
        "                kernel_size=encoder_config.patch_size,\n",
        "                stride=encoder_config.patch_size\n",
        "            )\n",
        "            self.model.encoder.config.num_channels = Config.IMG_CHANNELS\n",
        "            self.model.encoder.embeddings.patch_embeddings.num_channels = Config.IMG_CHANNELS\n",
        "\n",
        "        expected_image_size = encoder_config.image_size\n",
        "        if expected_image_size != Config.IMG_SIZE:\n",
        "            print(f\"Updating encoder image size: Expected {expected_image_size}x{expected_image_size}, but got {Config.IMG_SIZE}x{Config.IMG_SIZE}\")\n",
        "            self.model.encoder.config.image_size = Config.IMG_SIZE\n",
        "            self.model.encoder.embeddings.patch_embeddings.image_size = (Config.IMG_SIZE, Config.IMG_SIZE)\n",
        "            num_patches = (Config.IMG_SIZE // encoder_config.patch_size) ** 2\n",
        "            self.model.encoder.embeddings.position_embeddings = nn.Parameter(\n",
        "                torch.randn(1, num_patches + 1, encoder_config.hidden_size)\n",
        "            )\n",
        "\n",
        "        self.tokenizer = AutoTokenizer.from_pretrained(Config.RECOGNIZER_DECODER)\n",
        "        self.tokenizer.pad_token = self.tokenizer.eos_token\n",
        "        self.model.config.pad_token_id = self.tokenizer.pad_token_id\n",
        "        self.model.config.decoder_start_token_id = self.tokenizer.bos_token_id\n",
        "\n",
        "        self.cer = CharErrorRate()\n",
        "        self.val_cer = CharErrorRate()\n",
        "\n",
        "    def forward(self, pixel_values, labels=None):\n",
        "        return self.model(pixel_values=pixel_values, labels=labels)\n",
        "\n",
        "    def training_step(self, batch: Dict, batch_idx: int) -> torch.Tensor:\n",
        "        images = batch[\"augmented_image\"]\n",
        "        labels = batch[\"labels\"]\n",
        "        outputs = self(pixel_values=images, labels=labels)\n",
        "        loss = outputs.loss\n",
        "        self.log(\"train_rec_loss\", loss, on_step=True, on_epoch=True, prog_bar=True, logger=True)\n",
        "        return loss\n",
        "\n",
        "    def validation_step(self, batch: Dict, batch_idx: int):\n",
        "        images = batch[\"augmented_image\"]\n",
        "        labels = batch[\"labels\"]\n",
        "        text_labels = batch[\"text\"]\n",
        "        generated_ids = self.model.generate(\n",
        "            images,\n",
        "            max_length=16,\n",
        "            num_beams=2,\n",
        "            attention_mask=torch.ones_like(labels)\n",
        "        )\n",
        "        generated_text = self.tokenizer.batch_decode(generated_ids, skip_special_tokens=True)\n",
        "        self.val_cer.update(generated_text, text_labels)\n",
        "        self.log(\"val_cer\", self.val_cer, on_epoch=True, prog_bar=True)\n",
        "\n",
        "    def configure_optimizers(self):\n",
        "        optimizer = torch.optim.AdamW(self.parameters(), lr=self.learning_rate, weight_decay=0.01)\n",
        "        scheduler = torch.optim.lr_scheduler.CosineAnnealingLR(optimizer, T_max=Config.RECOGNIZER_EPOCHS)\n",
        "        return {\"optimizer\": optimizer, \"lr_scheduler\": scheduler}\n",
        "\n",
        "# --- Evaluation for Stage 2 ---\n",
        "def evaluate_pipeline(restorer, recognizer, datamodule):\n",
        "    \"\"\"Evaluate the complete pipeline and create visualizations\"\"\"\n",
        "    test_loader = datamodule.test_dataloader()\n",
        "    psnr_vals, ssim_vals = [], []\n",
        "    test_cer = CharErrorRate()\n",
        "    unnormalize = T.Normalize(mean=[-1.0], std=[2.0])\n",
        "\n",
        "    device = next(restorer.parameters()).device\n",
        "    restorer.to(device)\n",
        "    recognizer.to(device)\n",
        "\n",
        "    num_viz = 3\n",
        "    fig, axes = plt.subplots(num_viz, 5, figsize=(15, 3 * num_viz))\n",
        "    fig.suptitle(\"Tamil-Brahmi OCR Pipeline Results\", fontsize=14)\n",
        "    viz_count = 0\n",
        "\n",
        "    with torch.no_grad():\n",
        "        for batch_idx, batch in enumerate(test_loader):\n",
        "            if batch_idx >= num_viz:\n",
        "                break\n",
        "            clean_images = batch[\"clean_image\"].to(device)\n",
        "            text_labels = batch[\"text\"]\n",
        "            damaged_images = torch.stack([\n",
        "                restorer.noise_generator(img.cpu()).to(device)\n",
        "                for img in clean_images\n",
        "            ])\n",
        "            restored_images = restorer(damaged_images)\n",
        "            generated_ids = recognizer.model.generate(\n",
        "                restored_images,\n",
        "                max_length=16,\n",
        "                num_beams=1,\n",
        "                attention_mask=torch.ones_like(batch[\"labels\"])\n",
        "            )\n",
        "            predicted_text = recognizer.tokenizer.batch_decode(generated_ids, skip_special_tokens=True)\n",
        "            test_cer.update(predicted_text, text_labels)\n",
        "\n",
        "            if viz_count < num_viz:\n",
        "                clean_np = unnormalize(clean_images[0:1]).cpu().numpy().squeeze()\n",
        "                restored_np = unnormalize(restored_images[0:1]).cpu().numpy().squeeze()\n",
        "                damaged_np = unnormalize(damaged_images[0:1]).cpu().numpy().squeeze()\n",
        "                p = psnr(clean_np, restored_np, data_range=1.0)\n",
        "                s = ssim(clean_np, restored_np, data_range=1.0)\n",
        "                psnr_vals.append(p)\n",
        "                ssim_vals.append(s)\n",
        "\n",
        "                ax_row = axes[viz_count] if num_viz > 1 else [axes]\n",
        "                ax_row[0].imshow(clean_np, cmap='gray')\n",
        "                ax_row[0].set_title(\"Original\")\n",
        "                ax_row[0].axis('off')\n",
        "                ax_row[1].imshow(damaged_np, cmap='gray')\n",
        "                ax_row[1].set_title(\"Damaged\")\n",
        "                ax_row[1].axis('off')\n",
        "                ax_row[2].imshow(restored_np, cmap='gray')\n",
        "                ax_row[2].set_title(f\"Restored\\nPSNR: {p:.2f}\")\n",
        "                ax_row[2].axis('off')\n",
        "                ax_row[3].text(0.5, 0.5, f'GT: \"{text_labels[0]}\"', ha='center', va='center', fontsize=10)\n",
        "                ax_row[3].set_title(\"Ground Truth\")\n",
        "                ax_row[3].axis('off')\n",
        "                color = 'green' if text_labels[0] == predicted_text[0] else 'red'\n",
        "                ax_row[4].text(0.5, 0.5, f'Pred: \"{predicted_text[0]}\"', ha='center', va='center', fontsize=10, color=color)\n",
        "                ax_row[4].set_title(\"Prediction\")\n",
        "                ax_row[4].axis('off')\n",
        "                viz_count += 1\n",
        "\n",
        "    avg_psnr = np.mean(psnr_vals) if psnr_vals else 0\n",
        "    avg_ssim = np.mean(ssim_vals) if ssim_vals else 0\n",
        "    final_cer = test_cer.compute()\n",
        "    print(f\"\\n\ud83d\udcc8 Stage 2 Results:\")\n",
        "    print(f\"   Restoration PSNR: {avg_psnr:.4f}\")\n",
        "    print(f\"   Restoration SSIM: {avg_ssim:.4f}\")\n",
        "    print(f\"   Recognition CER: {final_cer:.4f}\")\n",
        "    print(f\"   Recognition Accuracy: {1 - final_cer:.4f}\")\n",
        "    plt.tight_layout()\n",
        "    plt.show()\n",
        "\n",
        "# --- Main Training Pipeline for Stage 2 ---\n",
        "def main(dataset_path: str = \"/content/dummy_brahmi_dataset\", restorer_checkpoint: str = \"/content/logs/restorer/version_7/checkpoints/epoch=4-step=35.ckpt\"):\n",
        "    print(\"\ud83d\ude80 Starting Tamil-Brahmi Recognition Training (Stage 2)\")\n",
        "    print(f\"Device: {Config.ACCELERATOR}\")\n",
        "    print(f\"Precision: {Config.PRECISION}\")\n",
        "\n",
        "    cleanup_memory()\n",
        "\n",
        "    datamodule = TamilBrahmiDataModule(\n",
        "        data_path=dataset_path,\n",
        "        batch_size=Config.RECOGNIZER_BATCH_SIZE,\n",
        "        num_workers=Config.NUM_WORKERS\n",
        "    )\n",
        "\n",
        "    print(\"\\n\ud83d\udd0d Training Recognition Model\")\n",
        "    gott_model = GOTTamilBrahmi(learning_rate=Config.RECOGNIZER_LR)\n",
        "    recognizer_trainer = pl.Trainer(\n",
        "        max_epochs=Config.RECOGNIZER_EPOCHS,\n",
        "        accelerator=Config.ACCELERATOR,\n",
        "        devices=Config.DEVICES,\n",
        "        precision=Config.PRECISION,\n",
        "        logger=CSVLogger(\"/content/logs\", name=\"recognizer\"),\n",
        "        callbacks=[\n",
        "            ModelCheckpoint(monitor=\"val_cer\", mode=\"min\", save_top_k=1),\n",
        "            TQDMProgressBar(refresh_rate=20)\n",
        "        ],\n",
        "        enable_checkpointing=True,\n",
        "        gradient_clip_val=1.0\n",
        "    )\n",
        "\n",
        "    recognizer_trainer.fit(gott_model, datamodule)\n",
        "    best_gott_path = recognizer_trainer.checkpoint_callback.best_model_path\n",
        "    print(f\"\u2705 Best recognizer model: {best_gott_path}\")\n",
        "\n",
        "    trained_recognizer = GOTTamilBrahmi.load_from_checkpoint(best_gott_path)\n",
        "    trained_recognizer.eval()\n",
        "\n",
        "    print(f\"\\n\ud83d\udd04 Loading trained restorer from {restorer_checkpoint}\")\n",
        "    trained_restorer = TamilBrahmiRestorer.load_from_checkpoint(restorer_checkpoint)\n",
        "    trained_restorer.eval()\n",
        "    cleanup_memory()\n",
        "\n",
        "    print(\"\\n\ud83d\udcca Evaluating Full Pipeline\")\n",
        "    evaluate_pipeline(trained_restorer, trained_recognizer, datamodule)\n",
        "\n",
        "if __name__ == \"__main__\":\n",
        "    main(dataset_path=\"/content/dummy_brahmi_dataset\", restorer_checkpoint=\"/content/logs/restorer/version_0/checkpoints/epoch=4-step=35.ckpt\")"
      ]
    },
    {
      "cell_type": "code",
      "execution_count": null,
      "metadata": {
        "colab": {
          "base_uri": "https://localhost:8080/",
          "height": 1000,
          "referenced_widgets": [
            "cb3b38f1bdcc43508715de15e3af4c89",
            "1bef757559ad46fda33c2c20125b2842",
            "6dbb2a088a6b43e09e28cb47c9daa549",
            "a5967699d3bf405786ac5d5047c6ff8f",
            "0f8baf64971545d5a22852a8c2ce31e3",
            "32751da5ac824b1b82f7b0a9bf5e780d",
            "931c2d1642764ed08368739c1f41b3bc",
            "086889ff31f14cbcbd5d72b2b229e316",
            "f400fae602ac4e9e8902491de10cd79f",
            "56639f92375b4b9883b5a7e809b35957",
            "0204a75126154cdc910605b3b28fbff5",
            "f9307c266f2149f0ab0e9b1cb639a39b",
            "3f01b2fdd8b44d7fbf40bc488b0ffe1b",
            "562ff5ff21c44ddab19f2d5aff5ba236",
            "697ed7da9b944e4dbe2b1f1717dd0238",
            "67431c77c208408cbe0cedbf9eb85b6e",
            "47b4326999934300944b913c37b82ffa",
            "704143305a6845a1ae1a9b9aa1d30ede",
            "013399c47d43449d9e7a1c6c469add5c",
            "135aa417311c4129838dd8d26bc54e0f",
            "1e8ba90396a54678bc257c090d024d28",
            "cba037049c164f8b92e115117a16978f",
            "6b84185d0a9946628b821b896fc5f23d",
            "2ce13bab50124f24bd86de0137330c46",
            "917535ae0dcc4c78ad0cb35901ee50d0",
            "af5e8c23c3be430ba6b1dd7560387f8e",
            "1dbd1e59e5e040d993044c8fd4dab7eb",
            "6d2eabd1d7c84b0d87924e507043b900",
            "5851aac5a6b5449289dc25feaf403ff9",
            "280bafa686ba44f4a0d55a427dae6341",
            "446fb50f9f1b47a9a348ce56bf65954d",
            "3bd291fdab2c4daa8c2b95c73bdb1f74",
            "3922160ced674aae8c4a4031e0dada0c",
            "0b14af1f009a4d918a8c799a066fda19",
            "0f5139f5d94e4c7abd9f24b9d0beffe2",
            "d02631c367094825a72f4d39af886b1b",
            "4dba877af9cc413497e23dca1544939a",
            "c13f5009e63e46bfb6420b0cf82f62db",
            "cf679ce4992843afabf309b476f2b394",
            "fbc26805c64749a79bb18e164c2d95fa",
            "170ebeb307cc40bfb0b4c4fe8c5fafc5",
            "3e3b722b148444f4906aa032e661f955",
            "60d40c37953d4880b3efb9682f85a266",
            "b0afe508c3aa4508850d325fdbabddca",
            "687966bd0458495e84486b4fdd42746c",
            "c1ece836721a42e989a0369ebb65fde5",
            "2fc32f7accf5422ea1998a6f518ea37c",
            "91fb5db52646484e81d02b99e3ef4129",
            "b533a0490efc49c2bdcbac68b3130f88",
            "fdb4cf61f6be42ecaa91e43f46a3aa49",
            "cceabf73dcb147019145d10ec5004d13",
            "8342ccae701c40628760165d842bdd18",
            "6c2a191284e04f81867294ecb86d60a4",
            "c0db56afecbb48a98a59e752faebaaa7",
            "9a729a26871d4f35a6529cd1958339e4",
            "6ec21e84885147c8812e11792bf4a91c",
            "a90a67f5fa6d4f92ba863e4272623402",
            "665e37d0a51147ec9a67d8f7e2cc0cb2",
            "dddbd985543f40169c37a5285b2d5a43",
            "36149e817fe349898891b07e813af34c",
            "e2fd02efbf5b448994e68adfb27efac9",
            "9ab140cc364b448aa5552ea645e6d9be",
            "986636ef96944c6bbfc3b3268345da78",
            "98c9c714bc7d48028797c1392ea6353d",
            "1454ab2bd2a44ed3af180a04df49f357",
            "9fcd947141184ba1a2c986eed39a6aef",
            "24f3713955844d57afcd7c4a3890087e",
            "19b6705b33814e77825e8327d79f5b64",
            "cfc7fe3c7f72471190d69a47fa3af0d4",
            "9dc9a8b22b78425a97543ca46c2fe04a",
            "27de1570dc16443ab9f92d33132fbb5f",
            "956dd5e2d22549aa929cfad699611a70",
            "a7dd0e3c6553444e8a76d0937eef6cb2",
            "646e74336ba14b07a7df9c8863285b40",
            "118d05db05f942af91a49b30574b5f78",
            "c2af134dc4f04cfd87222c19d0dfcfa4",
            "fc5bcdf11c1843c88aad1244e2a38af0",
            "0318c17d1027428ca836bea54b9f4507",
            "a0a7a25dd95e4fe9939dcd6bb3e9ca4c",
            "d48cc4a88b3e42fdaf3b27bacec16c44",
            "7d8a71989bd7447f979adf71904b563d",
            "09fb40b7ec654d5391982fe1b70305b3",
            "99ed1961a9c744109c0fe64d6230ae76",
            "1ae4f252059946b689fcdf04275639cf",
            "8ae78141fcc043f29cca85172508e1a6",
            "89a074791c844250b3bc917215ec6f25",
            "d6b0467886d74dc48ac13ec32b166b2a",
            "63d1e38cdd914deb820e7dd04ac8eebe",
            "e987c44559144a358c00ae254291a0d2",
            "1746cb823cc445b6b53e670775acadb8",
            "fe02dc6ec2574c40b60a10ea46213a9e",
            "cd41e2b45efb4a18bf3e5800e2ae4d80",
            "181fe567b5bd4aad963eac233d5a6933",
            "3b271641f462454d8b7a859993799114",
            "5c4dfbb26a3e4041bd10dfbb7d271b0f",
            "cb7cb34bd3214441a8b9ab91350f22f1",
            "748c083d3d9446d08d4588e4dde92b8b",
            "23f97f3d49e34cfc9b532aaeaabb852b",
            "1d751953516944728b610ad5aee7765d",
            "e74bfd460c124f90a663fb19478e58d1",
            "cb344707e4544a1e87eac3c04bfd174c",
            "6ef6e68f2153487fb491179daa0f1366",
            "05199b382dcb44c0beb8c59ffbec79f0",
            "770100c0b2ed44f5ae0bec0e05bc4093",
            "50ac33f27b7e4c3d941876b712a6d136",
            "57c4ae4365b1482dbd877791ff1e3159",
            "871c23979c384e02b97f9b84934f9ef4",
            "48ef8a15d8304e408fcbde6c2be93042",
            "2a80c0453f7a4c6380f0c15d2dae8c62",
            "9895944fc7a04f738f4f4d7f677cdf3c",
            "d56cbced658f4bea9228ffad9e6908f1",
            "e674266b82204cf58e7f675f5de8d1fb",
            "18fdde744b014cbf961d9b30fffe576e",
            "6ab3d2f7e08d4fb79b0c967b9c3facb0",
            "5db2551655704052a41eefe158ac4611",
            "da953c5441234c3e8b9ade3a736282dd",
            "3a1a33f760b948a08a36af327f95ed67",
            "8815dab19d5e46cd968381639a9129c4",
            "fec17e12680243bd994e2990dda4613e",
            "f03ab65478c94d96bbdf78519c816704",
            "3e1ff332e2074fd59591c3d5139025d0",
            "35b9604c2fd94b899012d9d601d2a790",
            "13e4a31bc76d43dc9aa27f8abc9a80a2",
            "342c924361c048649e0884c9fc23e0de",
            "9f600233172a41c98809be36c112f886",
            "ffac1fca23bc44f8b795503b54492029",
            "1660302653ad46d28e38346c43550ca6",
            "d9b990aaeeb04cdcb325f65a97a02eb7",
            "4f9bcd1be5604f368348ebaad510c136",
            "a4d688290a2a49a49de623c515d631ef",
            "d03e8fbedede4790a5acaa30f7f402a1",
            "e58f7135f0f34aa1a6803140057b276e"
          ]
        },
        "id": "2eGWOIV9WPPE",
        "outputId": "2c72b8da-640d-4aa8-acda-9345f1ce7961"
      },
      "outputs": [
        {
          "name": "stdout",
          "output_type": "stream",
          "text": [
            "\ud83d\ude80 Starting Tamil-Brahmi Restoration Training (Stage 1)\n",
            "Device: gpu\n",
            "Precision: 16-mixed\n",
            "Creating improved dummy dataset at /content/dummy_brahmi_dataset...\n",
            "Improved dummy dataset created successfully.\n",
            "\n",
            "\ud83d\udd27 Training Restoration Model\n"
          ]
        },
        {
          "name": "stderr",
          "output_type": "stream",
          "text": [
            "INFO:pytorch_lightning.utilities.rank_zero:Using 16bit Automatic Mixed Precision (AMP)\n",
            "INFO:pytorch_lightning.utilities.rank_zero:GPU available: True (cuda), used: True\n",
            "INFO:pytorch_lightning.utilities.rank_zero:TPU available: False, using: 0 TPU cores\n",
            "INFO:pytorch_lightning.utilities.rank_zero:HPU available: False, using: 0 HPUs\n",
            "INFO:pytorch_lightning.accelerators.cuda:LOCAL_RANK: 0 - CUDA_VISIBLE_DEVICES: [0]\n",
            "/usr/local/lib/python3.12/dist-packages/pytorch_lightning/utilities/model_summary/model_summary.py:231: Precision 16-mixed is not supported by the model summary.  Estimated model size in MB will not be accurate. Using 32 bits instead.\n",
            "INFO:pytorch_lightning.callbacks.model_summary:\n",
            "  | Name | Type        | Params | Mode \n",
            "---------------------------------------------\n",
            "0 | unet | UNet2DModel | 95.9 M | train\n",
            "---------------------------------------------\n",
            "95.9 M    Trainable params\n",
            "0         Non-trainable params\n",
            "95.9 M    Total params\n",
            "383.436   Total estimated model params size (MB)\n",
            "247       Modules in train mode\n",
            "0         Modules in eval mode\n"
          ]
        },
        {
          "data": {
            "application/vnd.jupyter.widget-view+json": {
              "model_id": "cb3b38f1bdcc43508715de15e3af4c89",
              "version_major": 2,
              "version_minor": 0
            },
            "text/plain": [
              "Sanity Checking: |          | 0/? [00:00<?, ?it/s]"
            ]
          },
          "metadata": {},
          "output_type": "display_data"
        },
        {
          "name": "stderr",
          "output_type": "stream",
          "text": [
            "/usr/local/lib/python3.12/dist-packages/torch/utils/data/dataloader.py:627: UserWarning: This DataLoader will create 4 worker processes in total. Our suggested max number of worker in current system is 2, which is smaller than what this DataLoader is going to create. Please be aware that excessive worker creation might get DataLoader running slow or even freeze, lower the worker number to avoid potential slowness/freeze if necessary.\n",
            "  warnings.warn(\n",
            "/usr/local/lib/python3.12/dist-packages/pytorch_lightning/utilities/data.py:79: Trying to infer the `batch_size` from an ambiguous collection. The batch size we found is 32. To avoid any miscalculations, use `self.log(..., batch_size=batch_size)`.\n",
            "/usr/local/lib/python3.12/dist-packages/pytorch_lightning/loops/fit_loop.py:310: The number of training batches (16) is smaller than the logging interval Trainer(log_every_n_steps=50). Set a lower value for log_every_n_steps if you want to see logs for the training epoch.\n"
          ]
        },
        {
          "data": {
            "application/vnd.jupyter.widget-view+json": {
              "model_id": "f9307c266f2149f0ab0e9b1cb639a39b",
              "version_major": 2,
              "version_minor": 0
            },
            "text/plain": [
              "Training: |          | 0/? [00:00<?, ?it/s]"
            ]
          },
          "metadata": {},
          "output_type": "display_data"
        },
        {
          "name": "stderr",
          "output_type": "stream",
          "text": [
            "/usr/local/lib/python3.12/dist-packages/pytorch_lightning/utilities/data.py:79: Trying to infer the `batch_size` from an ambiguous collection. The batch size we found is 20. To avoid any miscalculations, use `self.log(..., batch_size=batch_size)`.\n"
          ]
        },
        {
          "data": {
            "application/vnd.jupyter.widget-view+json": {
              "model_id": "6b84185d0a9946628b821b896fc5f23d",
              "version_major": 2,
              "version_minor": 0
            },
            "text/plain": [
              "Validation: |          | 0/? [00:00<?, ?it/s]"
            ]
          },
          "metadata": {},
          "output_type": "display_data"
        },
        {
          "name": "stderr",
          "output_type": "stream",
          "text": [
            "/usr/local/lib/python3.12/dist-packages/pytorch_lightning/utilities/data.py:79: Trying to infer the `batch_size` from an ambiguous collection. The batch size we found is 4. To avoid any miscalculations, use `self.log(..., batch_size=batch_size)`.\n"
          ]
        },
        {
          "data": {
            "application/vnd.jupyter.widget-view+json": {
              "model_id": "0b14af1f009a4d918a8c799a066fda19",
              "version_major": 2,
              "version_minor": 0
            },
            "text/plain": [
              "Validation: |          | 0/? [00:00<?, ?it/s]"
            ]
          },
          "metadata": {},
          "output_type": "display_data"
        },
        {
          "data": {
            "application/vnd.jupyter.widget-view+json": {
              "model_id": "687966bd0458495e84486b4fdd42746c",
              "version_major": 2,
              "version_minor": 0
            },
            "text/plain": [
              "Validation: |          | 0/? [00:00<?, ?it/s]"
            ]
          },
          "metadata": {},
          "output_type": "display_data"
        },
        {
          "data": {
            "application/vnd.jupyter.widget-view+json": {
              "model_id": "6ec21e84885147c8812e11792bf4a91c",
              "version_major": 2,
              "version_minor": 0
            },
            "text/plain": [
              "Validation: |          | 0/? [00:00<?, ?it/s]"
            ]
          },
          "metadata": {},
          "output_type": "display_data"
        },
        {
          "data": {
            "application/vnd.jupyter.widget-view+json": {
              "model_id": "24f3713955844d57afcd7c4a3890087e",
              "version_major": 2,
              "version_minor": 0
            },
            "text/plain": [
              "Validation: |          | 0/? [00:00<?, ?it/s]"
            ]
          },
          "metadata": {},
          "output_type": "display_data"
        },
        {
          "data": {
            "application/vnd.jupyter.widget-view+json": {
              "model_id": "0318c17d1027428ca836bea54b9f4507",
              "version_major": 2,
              "version_minor": 0
            },
            "text/plain": [
              "Validation: |          | 0/? [00:00<?, ?it/s]"
            ]
          },
          "metadata": {},
          "output_type": "display_data"
        },
        {
          "data": {
            "application/vnd.jupyter.widget-view+json": {
              "model_id": "e987c44559144a358c00ae254291a0d2",
              "version_major": 2,
              "version_minor": 0
            },
            "text/plain": [
              "Validation: |          | 0/? [00:00<?, ?it/s]"
            ]
          },
          "metadata": {},
          "output_type": "display_data"
        },
        {
          "data": {
            "application/vnd.jupyter.widget-view+json": {
              "model_id": "e74bfd460c124f90a663fb19478e58d1",
              "version_major": 2,
              "version_minor": 0
            },
            "text/plain": [
              "Validation: |          | 0/? [00:00<?, ?it/s]"
            ]
          },
          "metadata": {},
          "output_type": "display_data"
        },
        {
          "data": {
            "application/vnd.jupyter.widget-view+json": {
              "model_id": "d56cbced658f4bea9228ffad9e6908f1",
              "version_major": 2,
              "version_minor": 0
            },
            "text/plain": [
              "Validation: |          | 0/? [00:00<?, ?it/s]"
            ]
          },
          "metadata": {},
          "output_type": "display_data"
        },
        {
          "data": {
            "application/vnd.jupyter.widget-view+json": {
              "model_id": "35b9604c2fd94b899012d9d601d2a790",
              "version_major": 2,
              "version_minor": 0
            },
            "text/plain": [
              "Validation: |          | 0/? [00:00<?, ?it/s]"
            ]
          },
          "metadata": {},
          "output_type": "display_data"
        },
        {
          "name": "stderr",
          "output_type": "stream",
          "text": [
            "INFO:pytorch_lightning.utilities.rank_zero:`Trainer.fit` stopped: `max_epochs=10` reached.\n"
          ]
        },
        {
          "name": "stdout",
          "output_type": "stream",
          "text": [
            "\u2705 Best restorer model: /content/logs/restorer/version_0/checkpoints/epoch=9-step=160.ckpt\n",
            "\n",
            "\ud83d\udcca Evaluating Restoration Model\n",
            "\n",
            "\ud83d\udcc8 Stage 1 Results:\n",
            "   Restoration PSNR: 30.4206\n",
            "   Restoration SSIM: 0.9388\n"
          ]
        },
        {
          "data": {
            "image/png": "[encoded data removed]",
            "text/plain": [
              "<Figure size 900x900 with 9 Axes>"
            ]
          },
          "metadata": {},
          "output_type": "display_data"
        }
      ],
      "source": [
        "import os\n",
        "import json\n",
        "import gc\n",
        "from pathlib import Path\n",
        "from typing import Dict, Optional\n",
        "\n",
        "import torch\n",
        "import torch.nn as nn\n",
        "import torch.nn.functional as F\n",
        "from torch.utils.data import Dataset, DataLoader\n",
        "import torchvision.transforms as T\n",
        "\n",
        "import pytorch_lightning as pl\n",
        "from pytorch_lightning.callbacks import ModelCheckpoint, TQDMProgressBar\n",
        "from pytorch_lightning.loggers import CSVLogger\n",
        "\n",
        "from PIL import Image, ImageDraw, ImageFont\n",
        "import numpy as np\n",
        "from skimage.metrics import peak_signal_noise_ratio as psnr\n",
        "from skimage.metrics import structural_similarity as ssim\n",
        "from skimage.util import random_noise\n",
        "from skimage.draw import line_aa\n",
        "import matplotlib.pyplot as plt\n",
        "\n",
        "from diffusers import UNet2DModel\n",
        "\n",
        "# --- Configuration ---\n",
        "class Config:\n",
        "    IMG_SIZE = 64\n",
        "    IMG_CHANNELS = 1\n",
        "    VOCAB=\"abcdefghijklmnopqrstuvwxyzABCDEFGHIJKLMNOPQRSTUVWXYZ,./'`?\"\n",
        "    RESTORER_EPOCHS = 10  # Increased for better training\n",
        "    RESTORER_LR = 1e-4\n",
        "    RESTORER_BATCH_SIZE = 32  # Increased for efficiency, adjust based on GPU memory\n",
        "    NUM_WORKERS = 4  # Increased for faster data loading\n",
        "    ACCELERATOR = \"gpu\" if torch.cuda.is_available() else \"cpu\"\n",
        "    DEVICES = 1\n",
        "    PRECISION = \"16-mixed\" if torch.cuda.is_available() else \"32\"\n",
        "\n",
        "# --- Memory Management Utilities ---\n",
        "def cleanup_memory():\n",
        "    \"\"\"Clear GPU and system memory\"\"\"\n",
        "    gc.collect()\n",
        "    if torch.cuda.is_available():\n",
        "        torch.cuda.empty_cache()\n",
        "\n",
        "# --- Step 1: Dummy Dataset Generation ---\n",
        "def create_dummy_dataset(root_path: Path, num_samples: int = 500):\n",
        "    \"\"\"Generates an improved dummy dataset of Tamil-Brahmi-like character images and labels.\"\"\"\n",
        "    if root_path.exists():\n",
        "        print(f\"Dataset already exists at {root_path}. Skipping creation.\")\n",
        "        return\n",
        "\n",
        "    print(f\"Creating improved dummy dataset at {root_path}...\")\n",
        "    font = None\n",
        "    font_options = [\n",
        "        \"/content/TamilBrahmiSangamMN.ttf\",  # Add custom font if uploaded\n",
        "        \"/System/Library/Fonts/Arial.ttf\",\n",
        "        \"/usr/share/fonts/truetype/liberation/LiberationSans-Regular.ttf\",\n",
        "        \"/usr/share/fonts/truetype/dejavu/DejaVuSans.ttf\"\n",
        "    ]\n",
        "\n",
        "    for font_path in font_options:\n",
        "        try:\n",
        "            if os.path.exists(font_path):\n",
        "                font = ImageFont.truetype(font_path, size=40)\n",
        "                break\n",
        "        except:\n",
        "            continue\n",
        "\n",
        "    if font is None:\n",
        "        print(\"Using default font - characters may appear as boxes\")\n",
        "        font = ImageFont.load_default()\n",
        "\n",
        "    for split in [\"train\", \"val\", \"test\"]:\n",
        "        split_path = root_path / split\n",
        "        clean_path = split_path / \"clean\"\n",
        "        augmented_path = split_path / \"augmented\"\n",
        "\n",
        "        clean_path.mkdir(parents=True, exist_ok=True)\n",
        "        augmented_path.mkdir(parents=True, exist_ok=True)\n",
        "\n",
        "        labels = {}\n",
        "        num_split_samples = num_samples if split == \"train\" else num_samples // 5\n",
        "\n",
        "        for i in range(num_split_samples):\n",
        "            char = np.random.choice(Config.VOCAB)\n",
        "            clean_img = Image.new(\"L\", (Config.IMG_SIZE, Config.IMG_SIZE), color=\"white\")\n",
        "            draw = ImageDraw.Draw(clean_img)\n",
        "\n",
        "            try:\n",
        "                bbox = draw.textbbox((0, 0), char, font=font)\n",
        "                w, h = bbox[2] - bbox[0], bbox[3] - bbox[1]\n",
        "                x = (Config.IMG_SIZE - w) // 2\n",
        "                y = (Config.IMG_SIZE - h) // 2\n",
        "                draw.text((x, y), char, font=font, fill=\"black\")\n",
        "            except:\n",
        "                draw.text((Config.IMG_SIZE//4, Config.IMG_SIZE//4), char, font=font, fill=\"black\")\n",
        "\n",
        "            # Enhanced augmentation\n",
        "            transform = T.Compose([\n",
        "                T.RandomAffine(degrees=(-20, 20), translate=(0.1, 0.1), scale=(0.8, 1.2)),\n",
        "                T.GaussianBlur(kernel_size=3, sigma=(0.1, 1.0))  # Add blur for realism\n",
        "            ])\n",
        "            augmented_img = transform(clean_img)\n",
        "\n",
        "            # Apply varied noise\n",
        "            augmented_np = np.array(augmented_img) / 255.0\n",
        "            noise_gen = ArchaeologicalNoiseGenerator(crack_prob=0.6, fade_prob=0.8, noise_prob=0.9)\n",
        "            noisy_img = noise_gen(torch.from_numpy(augmented_np).unsqueeze(0).float())\n",
        "            augmented_img = Image.fromarray((noisy_img.squeeze(0).cpu().numpy() * 255).astype(np.uint8))\n",
        "\n",
        "            filename = f\"char_{i}.png\"\n",
        "            clean_img.save(clean_path / filename)\n",
        "            augmented_img.save(augmented_path / filename)\n",
        "            labels[filename] = {\"brahmi_text\": char, \"tamil_text\": char}\n",
        "\n",
        "        with open(split_path / \"labels.json\", \"w\") as f:\n",
        "            json.dump(labels, f, indent=2)\n",
        "    print(\"Improved dummy dataset created successfully.\")\n",
        "\n",
        "# --- Step 2: Archaeological Noise Generator ---\n",
        "class ArchaeologicalNoiseGenerator:\n",
        "    \"\"\"Applies domain-specific noise to simulate archaeological damage with increased variety.\"\"\"\n",
        "    def __init__(self, crack_prob=0.3, fade_prob=0.5, noise_prob=0.7):\n",
        "        self.crack_prob = crack_prob\n",
        "        self.fade_prob = fade_prob\n",
        "        self.noise_prob = noise_prob\n",
        "\n",
        "    def _add_cracks(self, img_np: np.ndarray) -> np.ndarray:\n",
        "        h, w = img_np.shape\n",
        "        for _ in range(np.random.randint(1, 5)):\n",
        "            x1, y1 = np.random.randint(0, w), np.random.randint(0, h)\n",
        "            x2, y2 = np.random.randint(0, w), np.random.randint(0, h)\n",
        "            rr, cc, val = line_aa(y1, x1, y2, x2)\n",
        "            valid_indices = (rr >= 0) & (rr < h) & (cc >= 0) & (cc < w)\n",
        "            img_np[rr[valid_indices], cc[valid_indices]] = np.random.uniform(0, 0.3)\n",
        "        return img_np\n",
        "\n",
        "    def _add_fading(self, img_np: np.ndarray) -> np.ndarray:\n",
        "        fade_mask = np.random.rand(*img_np.shape) * np.random.uniform(0.3, 0.7) + 0.3\n",
        "        return np.clip(img_np * fade_mask, 0, 1)\n",
        "\n",
        "    def _add_stone_noise(self, img_np: np.ndarray) -> np.ndarray:\n",
        "        return random_noise(img_np, mode='s&p', amount=np.random.uniform(0.02, 0.1))\n",
        "\n",
        "    def __call__(self, img_tensor: torch.Tensor) -> torch.Tensor:\n",
        "        device = img_tensor.device\n",
        "        img_np = img_tensor.squeeze(0).cpu().numpy()\n",
        "        if np.random.rand() < self.crack_prob:\n",
        "            img_np = self._add_cracks(img_np)\n",
        "        if np.random.rand() < self.fade_prob:\n",
        "            img_np = self._add_fading(img_np)\n",
        "        if np.random.rand() < self.noise_prob:\n",
        "            img_np = self._add_stone_noise(img_np)\n",
        "        # Add random erosion (new optimization)\n",
        "        if np.random.rand() < 0.4:\n",
        "            img_np = random_noise(img_np, mode='gaussian', var=np.random.uniform(0.01, 0.05))\n",
        "        return torch.from_numpy(img_np).unsqueeze(0).float().to(device)\n",
        "\n",
        "# --- Step 3: Data Module ---\n",
        "class TamilBrahmiDataModule(pl.LightningDataModule):\n",
        "    \"\"\"Handles data loading for restoration stage.\"\"\"\n",
        "    def __init__(self, data_path: str, batch_size: int, num_workers: int):\n",
        "        super().__init__()\n",
        "        self.data_path = Path(data_path)\n",
        "        self.batch_size = batch_size\n",
        "        self.num_workers = num_workers\n",
        "\n",
        "    def setup(self, stage: Optional[str] = None):\n",
        "        self.train_ds = TamilBrahmiDataset(self.data_path / \"train\")\n",
        "        self.val_ds = TamilBrahmiDataset(self.data_path / \"val\")\n",
        "        self.test_ds = TamilBrahmiDataset(self.data_path / \"test\")\n",
        "\n",
        "    def train_dataloader(self):\n",
        "        return DataLoader(\n",
        "            self.train_ds,\n",
        "            batch_size=self.batch_size,\n",
        "            shuffle=True,\n",
        "            num_workers=self.num_workers,\n",
        "            pin_memory=True,\n",
        "            persistent_workers=True if self.num_workers > 0 else False\n",
        "        )\n",
        "\n",
        "    def val_dataloader(self):\n",
        "        return DataLoader(\n",
        "            self.val_ds,\n",
        "            batch_size=self.batch_size,\n",
        "            num_workers=self.num_workers,\n",
        "            pin_memory=True,\n",
        "            persistent_workers=True if self.num_workers > 0 else False\n",
        "        )\n",
        "\n",
        "    def test_dataloader(self):\n",
        "        return DataLoader(\n",
        "            self.test_ds,\n",
        "            batch_size=self.batch_size,\n",
        "            num_workers=self.num_workers,\n",
        "            pin_memory=True\n",
        "        )\n",
        "\n",
        "class TamilBrahmiDataset(Dataset):\n",
        "    \"\"\"Custom dataset to load clean and augmented images.\"\"\"\n",
        "    def __init__(self, split_path: Path):\n",
        "        super().__init__()\n",
        "        self.clean_img_dir = split_path / \"clean\"\n",
        "        self.aug_img_dir = split_path / \"augmented\"\n",
        "        with open(split_path / \"labels.json\", \"r\") as f:\n",
        "            self.labels = json.load(f)\n",
        "        self.filenames = list(self.labels.keys())\n",
        "\n",
        "        self.transform = T.Compose([\n",
        "            T.ToTensor(),\n",
        "            T.Normalize(mean=[0.5], std=[0.5])\n",
        "        ])\n",
        "\n",
        "    def __len__(self):\n",
        "        return len(self.filenames)\n",
        "\n",
        "    def __getitem__(self, idx: int) -> Dict:\n",
        "        filename = self.filenames[idx]\n",
        "        clean_img_path = self.clean_img_dir / filename\n",
        "        aug_img_path = self.aug_img_dir / filename\n",
        "\n",
        "        clean_img = Image.open(clean_img_path)\n",
        "        aug_img = Image.open(aug_img_path)\n",
        "\n",
        "        text_label = self.labels[filename][\"brahmi_text\"]\n",
        "\n",
        "        return {\n",
        "            \"clean_image\": self.transform(clean_img),\n",
        "            \"augmented_image\": self.transform(aug_img),\n",
        "            \"text\": text_label\n",
        "        }\n",
        "\n",
        "# --- Step 4: Restoration Model (U-Net) ---\n",
        "class TamilBrahmiRestorer(pl.LightningModule):\n",
        "    \"\"\"A LightningModule for restoring degraded character images using a U-Net.\"\"\"\n",
        "    def __init__(self, learning_rate: float = Config.RESTORER_LR):\n",
        "        super().__init__()\n",
        "        self.save_hyperparameters()\n",
        "        self.learning_rate = learning_rate\n",
        "\n",
        "        self.unet = UNet2DModel(\n",
        "            sample_size=Config.IMG_SIZE,\n",
        "            in_channels=Config.IMG_CHANNELS,\n",
        "            out_channels=Config.IMG_CHANNELS,\n",
        "            layers_per_block=2,  # Increased for better feature extraction\n",
        "            block_out_channels=(128, 256, 512, 512),  # Larger channels for capacity\n",
        "            down_block_types=(\"DownBlock2D\", \"DownBlock2D\", \"DownBlock2D\", \"DownBlock2D\"),\n",
        "            up_block_types=(\"UpBlock2D\", \"UpBlock2D\", \"UpBlock2D\", \"UpBlock2D\"),\n",
        "        )\n",
        "        self.noise_generator = ArchaeologicalNoiseGenerator()\n",
        "\n",
        "    def forward(self, x: torch.Tensor) -> torch.Tensor:\n",
        "        return self.unet(x, timestep=0).sample\n",
        "\n",
        "    def training_step(self, batch: Dict, batch_idx: int) -> torch.Tensor:\n",
        "        clean_images = batch[\"clean_image\"]\n",
        "        damaged_images = torch.stack([\n",
        "            self.noise_generator(img.cpu()).to(clean_images.device)\n",
        "            for img in clean_images\n",
        "        ])\n",
        "        restored_images = self(damaged_images)\n",
        "        loss = F.l1_loss(restored_images, clean_images) + 0.5 * F.mse_loss(restored_images, clean_images)  # Hybrid loss for better restoration\n",
        "        self.log(\"train_loss\", loss, on_step=True, on_epoch=True, prog_bar=True, logger=True)\n",
        "        return loss\n",
        "\n",
        "    def validation_step(self, batch: Dict, batch_idx: int):\n",
        "        clean_images = batch[\"clean_image\"]\n",
        "        damaged_images = torch.stack([\n",
        "            self.noise_generator(img.cpu()).to(clean_images.device)\n",
        "            for img in clean_images\n",
        "        ])\n",
        "        restored_images = self(damaged_images)\n",
        "        loss = F.l1_loss(restored_images, clean_images)\n",
        "        self.log(\"val_loss\", loss, on_epoch=True, prog_bar=True)\n",
        "\n",
        "    def configure_optimizers(self):\n",
        "        optimizer = torch.optim.AdamW(self.parameters(), lr=self.learning_rate, weight_decay=0.01)\n",
        "        scheduler = torch.optim.lr_scheduler.CosineAnnealingLR(optimizer, T_max=Config.RESTORER_EPOCHS)\n",
        "        return {\"optimizer\": optimizer, \"lr_scheduler\": scheduler}\n",
        "\n",
        "# --- Evaluation for Stage 1 ---\n",
        "def evaluate_restorer(restorer, datamodule):\n",
        "    \"\"\"Evaluate the restoration model and create visualizations\"\"\"\n",
        "    test_loader = datamodule.test_dataloader()\n",
        "    psnr_vals, ssim_vals = [], []\n",
        "    unnormalize = T.Normalize(mean=[-1.0], std=[2.0])\n",
        "\n",
        "    device = next(restorer.parameters()).device\n",
        "    restorer.to(device)\n",
        "\n",
        "    num_viz = 3\n",
        "    fig, axes = plt.subplots(num_viz, 3, figsize=(9, 3 * num_viz))\n",
        "    fig.suptitle(\"Tamil-Brahmi Restoration Results\", fontsize=14)\n",
        "    viz_count = 0\n",
        "\n",
        "    with torch.no_grad():\n",
        "        for batch_idx, batch in enumerate(test_loader):\n",
        "            if batch_idx >= num_viz:\n",
        "                break\n",
        "            clean_images = batch[\"clean_image\"].to(device)\n",
        "            text_labels = batch[\"text\"]\n",
        "            damaged_images = torch.stack([\n",
        "                restorer.noise_generator(img.cpu()).to(device)\n",
        "                for img in clean_images\n",
        "            ])\n",
        "            restored_images = restorer(damaged_images)\n",
        "\n",
        "            if viz_count < num_viz:\n",
        "                clean_np = unnormalize(clean_images[0:1]).cpu().numpy().squeeze()\n",
        "                restored_np = unnormalize(restored_images[0:1]).cpu().numpy().squeeze()\n",
        "                damaged_np = unnormalize(damaged_images[0:1]).cpu().numpy().squeeze()\n",
        "\n",
        "                p = psnr(clean_np, restored_np, data_range=1.0)\n",
        "                s = ssim(clean_np, restored_np, data_range=1.0)\n",
        "                psnr_vals.append(p)\n",
        "                ssim_vals.append(s)\n",
        "\n",
        "                ax_row = axes[viz_count] if num_viz > 1 else [axes]\n",
        "                ax_row[0].imshow(clean_np, cmap='gray')\n",
        "                ax_row[0].set_title(\"Original\")\n",
        "                ax_row[0].axis('off')\n",
        "                ax_row[1].imshow(damaged_np, cmap='gray')\n",
        "                ax_row[1].set_title(\"Damaged\")\n",
        "                ax_row[1].axis('off')\n",
        "                ax_row[2].imshow(restored_np, cmap='gray')\n",
        "                ax_row[2].set_title(f\"Restored\\nPSNR: {p:.2f}\")\n",
        "                ax_row[2].axis('off')\n",
        "                viz_count += 1\n",
        "\n",
        "    avg_psnr = np.mean(psnr_vals) if psnr_vals else 0\n",
        "    avg_ssim = np.mean(ssim_vals) if ssim_vals else 0\n",
        "    print(f\"\\n\ud83d\udcc8 Stage 1 Results:\")\n",
        "    print(f\"   Restoration PSNR: {avg_psnr:.4f}\")\n",
        "    print(f\"   Restoration SSIM: {avg_ssim:.4f}\")\n",
        "    plt.tight_layout()\n",
        "    plt.show()\n",
        "\n",
        "# --- Main Training Pipeline for Stage 1 ---\n",
        "def main(dataset_path: str = \"/content/dummy_brahmi_dataset\"):\n",
        "    print(\"\ud83d\ude80 Starting Tamil-Brahmi Restoration Training (Stage 1)\")\n",
        "    print(f\"Device: {Config.ACCELERATOR}\")\n",
        "    print(f\"Precision: {Config.PRECISION}\")\n",
        "\n",
        "    create_dummy_dataset(Path(dataset_path))\n",
        "    cleanup_memory()\n",
        "\n",
        "    datamodule = TamilBrahmiDataModule(\n",
        "        data_path=dataset_path,\n",
        "        batch_size=Config.RESTORER_BATCH_SIZE,\n",
        "        num_workers=Config.NUM_WORKERS\n",
        "    )\n",
        "\n",
        "    print(\"\\n\ud83d\udd27 Training Restoration Model\")\n",
        "    restorer_model = TamilBrahmiRestorer(learning_rate=Config.RESTORER_LR)\n",
        "    restorer_trainer = pl.Trainer(\n",
        "        max_epochs=Config.RESTORER_EPOCHS,\n",
        "        accelerator=Config.ACCELERATOR,\n",
        "        devices=Config.DEVICES,\n",
        "        precision=Config.PRECISION,\n",
        "        logger=CSVLogger(\"/content/logs\", name=\"restorer\"),\n",
        "        callbacks=[\n",
        "            ModelCheckpoint(monitor=\"val_loss\", mode=\"min\", save_top_k=1),\n",
        "            TQDMProgressBar(refresh_rate=20)\n",
        "        ],\n",
        "        enable_checkpointing=True,\n",
        "        enable_model_summary=True,\n",
        "        gradient_clip_val=0.5  # Optimized for stability\n",
        "    )\n",
        "\n",
        "    restorer_trainer.fit(restorer_model, datamodule)\n",
        "    best_restorer_path = restorer_trainer.checkpoint_callback.best_model_path\n",
        "    print(f\"\u2705 Best restorer model: {best_restorer_path}\")\n",
        "\n",
        "    trained_restorer = TamilBrahmiRestorer.load_from_checkpoint(best_restorer_path)\n",
        "    trained_restorer.eval()\n",
        "    cleanup_memory()\n",
        "\n",
        "    print(\"\\n\ud83d\udcca Evaluating Restoration Model\")\n",
        "    evaluate_restorer(trained_restorer, datamodule)\n",
        "\n",
        "if __name__ == \"__main__\":\n",
        "    main(dataset_path=\"/content/dummy_brahmi_dataset\")"
      ]
    },
    {
      "cell_type": "code",
      "execution_count": null,
      "metadata": {
        "colab": {
          "base_uri": "https://localhost:8080/",
          "height": 1000,
          "referenced_widgets": [
            "c4f76ac923ac48e4a129f244eb629d5a",
            "3eec192e9a3f46f49756fa978d385647",
            "53bbdbbfdfe94728956405f309222171",
            "b2f6d0127d514c8fb3be449d2a6fdfa6",
            "f807121c881345a5b3ba5c89cad3f594",
            "eb384445c1364de5989bf7067038fefd",
            "e3930badce124116a4f803505e5ac873",
            "a96ad23eebfd41d08ccccfa42f4fc71d",
            "4f8cfabd02124e44b4c774832ef21f26",
            "234328939377447db1bacb1f1e8125d2",
            "1cb19e507a17446c9e0dc9dd2d3e0600",
            "2a625e5df14645c08eb032efae17d22f",
            "b25a77e523674deba16ed3a72d5d7795",
            "c403031973d7464b88b0318a67ff0a0b",
            "f3533d64b10041a7981e3a9db76d4c11",
            "9aa1a0174ca4462bb44022b328e5cbf9",
            "362fd6a827504808b44828f69ca25151",
            "535a62da4f0443479bcaa1dd77bf7f09",
            "67ece4b5e64e4cfebb7da2e77cd91780",
            "d66491fd029944478bd34a6e3e6e9f92",
            "1aec47cacda64ae2b4bd6e95a005772a",
            "5b399e016f154de39aae728459cb7495",
            "2c4d79cc9a024a2d843f622a163f7ab1",
            "be2fc6f58c294d9b8985b0c685c1d5b9",
            "4c6cb5d0886f49948b2cfdda3fd03c5e",
            "37131863ae3449408364bc87e14d8af0",
            "5b982fef109e47fc934eb731c0cff1f6",
            "fe5b4eb1992b41039b9ec96ae48168c3",
            "cea671cf5a204ba694a7c85580709456",
            "1b4bce0bd9834decacfa86bf501d23d8",
            "4105d1e18a384652a5729aded35be6e7",
            "83d0c2e473cf42288f4d8d6b0a25f51b",
            "4ef1da6758154091be17a95e52290862",
            "7500a03f6dbe45469c0d21b687a1b7da",
            "02ecd59374c54c05be9dbea80511e06e",
            "084b33b07fe0420dbc4a5bf238993c5a",
            "991c54127b864d60a1aa1626cb7a3dba",
            "618c33574fbc414583aaa9bada5ab92f",
            "ac498f12ebb54a3cbb8cebd697a40077",
            "c67449d09d464c5e8193a90aec3725ce",
            "67716e598c88451f8076c6e45ba85d79",
            "c1e58cdb9f8844279a3f3733c35d8187",
            "4385a8f8aab64e7d84d940b451f24b0b",
            "d708860b50bb4a7aa419e4cc668a4d1b",
            "2e4121c909ce46029b83f91cb2b59217",
            "c56edcab6df24164bad965f75c186219",
            "e63c98e39aad45bd9cd6adfe06e7313d",
            "7f83c6d8597a4ceb9f6ab140afcde058",
            "d6dd33bb1a5a466c90f2b93f7cdd691a",
            "d65a8a091ce54d7ea736475865eade56",
            "c76133c724164701bd6bd1e7a5e2d463",
            "3fc3901fbaf241acb82b0cddc09bace6",
            "aeabb80a225e49b8bd49f29e01467658",
            "75b8240048a242b491a46faf15fa7551",
            "53ab387f65524e62ae6a7a08c26fc3ba",
            "f9bc1ef5e6d14d1184d6aa0d7067dffa",
            "66277b86f2ff4f2b8019cc166567a5b2",
            "1d4a630e967a43ffb9acbcf91768cd68",
            "0091f35a4549422bb96caf06312697c9",
            "ef0ef2306d314c33be81f9ef89bf1082",
            "7bff6f537bf14e01af51afb7094eb204",
            "18406c3392b94924ad16cd1d3fbef448",
            "e89e434d5f894fefaac59ff63ac64b5c",
            "e4690882e41349ada775ec9a42dfeabe",
            "e12904f65a86439abba0acd223cf114e",
            "75920404f32a4f5ea8af07863ada9ba9",
            "7af91c9ca1884bbab7f010987fd127a9",
            "28a11a8c2e8a41e3b550480ae5a4c9f2",
            "e486bd158c0048bd916a7df42c245508",
            "cdbc33f52cc94e95870a634eaff6784d",
            "ab63b535f3ab41748c7cd37e96034d8b",
            "a52313a30a4f4b9fabf2a37c118c66d6",
            "830959f039d74126b8f8cc450797d75a",
            "842420fa9ce043efb6b598f9b04a4bf8",
            "3ce4a88ca67e4076a382b020fa20d0da",
            "192483b9a2da4f2aa9f7a5a3b0481339",
            "92269b7cc6284ad285a95c0cdabd783d",
            "467046eccd934aec850418d5a2bb470e",
            "f32223ff7ff54c6196cbc2e5dfcca356",
            "db831e0efa2341e2879fee74136ee600",
            "6e0521a52a2f4ddebe252335f0047514",
            "9ba471a34b8e421dbcfcf2873888a81f",
            "cee059f5e2ea447fafe5ad3b6a8fcc47",
            "cc56c7df6a054681a0547170b685c472",
            "7a28199174324895a636675e36b7c740",
            "7aacfab766e14b67a80986e63175f107",
            "4623cb8382fe44dbb281850afb7b8b1b",
            "2b0bcf5d36b74e75aafd4ec353663d6c",
            "ceda5aea808c4313a4dd96da15525f27",
            "546fbbad1a7345e7bcd53daef4315ba3",
            "13f264ede0a54808890d0b3c7ae72dfd",
            "7f11483f87a54742b49b05d6a7681b47",
            "87dcc5dd29a348c5b9fa5cdffdfceaa3",
            "f0a0a5a7826c47a8bb3d30d4723a1655",
            "9fad1daf3e9b4dd9aa406fac020681b9",
            "7c3c366cb1f24c91b372f0d8e4560935",
            "c2edc4b43aef43a78a8393be687a7447",
            "cc308acee74d4574b39bfd29f70d6871",
            "733b3ce865234cc0b2eff79560337a26",
            "9a3ac83dcbea4ce282b128a490b09468",
            "787d4dbb0d7f4591882a0b0c6f2c723a",
            "6a6fb97b53904a2f890f316cfcfbaca2",
            "16444517d35f44b887f6f23ab6438f2b",
            "9cf5fe2c611a4b6e8b24a4f3d0eca64c",
            "c3883de20fd340d8b97428406aa3c1a1",
            "65e8b81dc4604cb2a183859e29fac624",
            "555df1a0ab8545279d452ddeb14071ef",
            "6667a84625b74d1c8c0fc8de9a81e39b",
            "3dff318d0b9b4977a34bbf64c94aec84",
            "3f7621d5d3e946888ca3cb382f61a060",
            "f648fa53bf91492f98f25d2b3ded7b4f",
            "0616b0a93b2a47359c9bc053edbfd382",
            "ee7379b61d474198a286b7410e9bb444",
            "70e1bbd528c34953b6c29cecc4b7c527",
            "0689571fa8454931a580c915e9a15313",
            "6e85e19c78984db3a120da3d4fe27617",
            "3ae24c6ee66c4a9dad96594591fcc137",
            "8bdaed04160743d0bce8afb9c55e0fcf",
            "066c3f025e344093b8413fad51f2889a",
            "5e30d574ff38488f87fcc5620fcf602c",
            "16d2a6915c764c29af04f68e87f16751",
            "759d75707deb465dad66ca537a9dd5b1",
            "94cf0c7637db4f2ba2ed80520ed852f6",
            "c308fc74cd0549899f4f5b42108c0342",
            "63de022d78c34e7096b5120ab2de7f99",
            "63a8bfb57c8c4efb89c10dd3940ac815",
            "e8c4924e208241ceb884411cd338bd44",
            "5156dcbad32c44319fe24007a4dfad69",
            "818041aeeb554e65a07cc9585ad78ff2",
            "ec8eeaaac7df42c096357a213db65cd4",
            "363bd341a49243ffbc31c19550a0792a",
            "0cb15af3ae1a4a83991093556ae89bfd",
            "1ff2548ef8f3486ca5f55eab4019675b",
            "951f9f74daf34cdc9a748d5f4c7076f1",
            "64ec3b18c9ed4f7e87c648f40baaffb3",
            "dcc1ec288a054709aec24c9d38851c7c",
            "d9f24cce7a514ecab4aae4c80b7e6051",
            "24c1bf95f2414845917021b666d1fa15",
            "8cda7fd07d8443f2a8855728aea026aa",
            "6ed531ee2d9949149ca55c35af501b8d",
            "746e47bd426c459c89f757f95f0ef124",
            "3524398c531549eb8bf687132c9b644a",
            "ab862e01303640d7812e976ca3898a14",
            "7087c60146c44d98a85b634313a88b2d",
            "e46782f367bb419d94f893819e2b9efd",
            "27b5299867ec4c098b5899b50bbf7293",
            "e8cea285fdfd48508a67d0fbf7cb0249",
            "1cbb4cbf657c46768f4cea558ac1d6b1",
            "a919aba03c17416dbf97ee8eb1bf3720",
            "8edaa33a7dbc41c590b3cd1165a91068",
            "d8b5c914c3bb41e8aa8af985b88469f9",
            "0e6ed50ae0de43ea890015bc568b4545",
            "3dda682f56f34ea480b853b7cf46bf84",
            "1a3e28e6322444f5b522815982e1af63",
            "73c6d07732d64b679dbd9a0a5b09c413",
            "b9d1bad99adf45b585bac33f1d5b3766",
            "75d4054ed1cd4711a52e23e8b8c59caf",
            "099b4800c4144519b789613fe2b7d107",
            "96178da717d94d4ab7ade94a6e4a4589",
            "358a1b78a62040beb3a20d67dc3d4e6f",
            "4963e88f6d9e474b8990f65e5714e38e",
            "cb7ed68f5f0e4aa8b66d213af8338d2b",
            "a0713126782a4d56880a5af48e5252a5",
            "4cb1aec531b64a3bae2ca7fc352dc209",
            "878ec4b3a68443228e98c30c54269a45",
            "49ceb7eeff10451aa786bc4ab2816581",
            "b6281b844f5347c989b8cb35251aa240",
            "21fe7b7309494c3c863148a4159d2192",
            "5836dd77bcbf4016a3002ae338c151d1",
            "6ad8536140c944819965a68cb696754c",
            "b2480c94c91847079fb0b9be02d3324c",
            "20bfd1ef3f3542d3bc259c83d78c53ed",
            "58aa71c076f14ada8bc166e5439f98e4",
            "f369198497884f2aa371e5c3ebb5af5e",
            "95513f49b4a5483aa78c6b617e52a579",
            "ddb536b4b4ff4deab4675f99d7acf799",
            "88189200bfcf4590a51315f4c2622df9",
            "327397bbad954809a906c03bcff77b3f",
            "fbb3753bf92c4c9ca2dcfdfde9685514",
            "c6e99f8273ab41378babfa7f5834fdca",
            "592cf55b95b444d39e4b71ecbf528fa0",
            "db494c2d495d4b65a8f9976a78de7092",
            "e06751d2cf3b468a8541589178a9e8f6",
            "699d5766241c48e7bac0c5d33177fbc5",
            "113095e25f6d4aabb35c315eeda9636f",
            "c3acd1b44adb406c8780d0c015e80cbe",
            "8f0aa82e63a24c7a8668b50c4e0347c8",
            "c863b15c2ea845e8bb5d3568c9e306e8",
            "a6dd8eef886c43dba78e95ae1f0e0b84",
            "0e7125d086fc4126969e2854203a9bb0",
            "ba234009d8d14423ad44b1a1033fcb59",
            "f1337da16dd4427dbc7b5799aeb2c6f1",
            "c816cdd6888d40aeb3c2867600593ec4",
            "4dcac044569a446298353d33bbc11adf",
            "f033dda6e71f4995bbf3e43ade73497d",
            "3de43739e38d49c6a018d9f3b3ac71a8",
            "d91527a684a34af3899877b049befd45",
            "95dcbe78d0b34c769e95c81eb978c0f0",
            "811c43dbab6f43e5a217d55fb0396ee5",
            "306fb9e68a9349b6a52e810e06f164be",
            "45d3e566665443b8867238dc0a042a2d",
            "9e38b5451f6b4d028d1ce36e77be25e8",
            "3c6bccc795744b0a90939d6f84abedfc",
            "9a62fc29dc7d4e9f922e6cf9eeec0108",
            "d7c0aa86ffd84421a7aa63b36cb7c391",
            "d445f626b299483584361a925f374564",
            "e2ddbae0df9840db95e1d3ca1a66c5c4",
            "fb9149172b9849ed8ba3fde3d319a70d",
            "eb62113b58a44f66ad3f0267b34a5dc9",
            "96c6c7ac67f94fc6ae1f45737d3d1857",
            "ed16c66fc2484508a91ecf75dbd879ef",
            "6f2c291bcff5481b8ee5e9a29bd01dc7",
            "1994ccd134934568bc14eec579e1bab0",
            "0841f11b631647d89ee15dbd657fd510",
            "0ac03940c1d3482f83d7d0b47ba4a8c7",
            "42c3e5ff912e44dd9d2f27290bd8d067",
            "9b793c18c3a54f8bbf0dd01cee741d13",
            "867f861a2d594c278b166ec2bfad55e1",
            "d6fbf93ed8e34bf89ee306d859cbc5df",
            "bae95d65d96541ffaa593e7c3766afc9",
            "7df5e095a48a426f81a20ada4378a6ba",
            "4cd09f313e5d435cb9562e293bc344ba",
            "b0a2dbca0ac94ade9e06825bc4743f60",
            "9c3162c071b94e98a0776678ce9e4027",
            "d1d83c9fb3a54e7ab8d93904958b3b8c",
            "3e013046cb014668b744dcae598e3fc4",
            "6e5cb3a1403b4c3e99fdf9e911e7ad30",
            "6341717ad4c241ca97ce58090b3680f7",
            "0e315a3d808a43f498b82098c5aeb8df",
            "d06931b8e1414908ae5e3e3f65ec054c",
            "4f1195801e5b4457a047cc17db16d4c3",
            "fd5c6c0d107e46548de3281f3000d620",
            "246ca5fe111c4e7ca9962685ab097e5a",
            "6dab11a0531846ef9c15a6995a87abd9",
            "dac530ae510641c6badc069d88ecc77e",
            "d22b0cc8fa4a40be8a4bcd139b09086c",
            "bd08262d9dea4ac5805a696c27a8e4d6",
            "05b8675816394e0ab4d663c4a8705caf",
            "5ddb6c409fd548c7bc853b6414c491df",
            "69e0c8e162bc44ebae20bcdc808e992d",
            "20752426efd54cc8a41285190c50258b",
            "08685abc0641418d8702757ea8866806",
            "85122da84b164635939d5ae98304cc99",
            "980df882f9164937bbb3eb001829df19",
            "eeb8e0da028c49d19e6c8c5461c05482",
            "593c7f3cf48b4cb5b4291388b7a24685",
            "ad3ffa12a155454fa6124d46b70573dc",
            "06ed81f5a4274e9c9e3c724cbee40a28",
            "ee97f46223da46b19bdf4c6dd0ed82c6",
            "2ff768479ad643c3b27ca61a305d2062",
            "536d920b33ee4e50af17f7631d1e25b1",
            "b01f05f20deb41978f65ecc3c38bb60f",
            "c40dfc71ae4644c0b3ea22c171650d5d",
            "ce2ead8f601b4cc18c6dad99c7a7e666",
            "ee238c229742448faa3a64102808fa27",
            "0a13246e29e74c299f556d250d920cd7",
            "323faa84a05e413c88e8854014e4c590",
            "0936a347222a4840bcef9fdbb8f81f9c",
            "b56b87cbbffb4942b25ba5af70810d06",
            "71a61c170335492886fcc8eca21b280b",
            "8f126bcec89f497d9bdfaba44935585f",
            "25274925e7c54a808e41733c77b0279d",
            "1c127f16c4404fdeb32bcfef41c16f25",
            "eb7f5e2d1b5c4a99a7fb9b2cf6aa2825",
            "b8e4abc5c2b1494eb1246cca2ddbc5d3",
            "265fc71afd4c41548179d19f572b6945",
            "31d82f27a6c9457b9e5b30dab5a3d634",
            "c74dcf6b976a4cd6a2ddf23007bd4d5e",
            "1b1de117c0b148de957cdb5de464d1a2",
            "57767a69b6f145deb106c1c40aa93a47",
            "2ade983ea8094f75a92436ea9a5f7d2a",
            "3e4bad9f36c14f2984cf31751d1a1cf7",
            "e3e71c84cc594662aa100ab89a3a1724",
            "1976362d9ed74331bebd656c7073830a",
            "66163a6060dd46b09abf959212ce6c08",
            "f1792cf917b24d62832b98f774970231",
            "1e789efa7fc3400289062ca10907389d",
            "99263f10205444a1b365f90291242bac",
            "d5317b1bc7b84807aad8c2b9e3de3044",
            "c0c7ce9c959049af91c3f75677d8757c",
            "d6d6203aa609403baad72cd88bf5e0cc",
            "82bdb51535214272ab0b0fe3ad86096d",
            "62bd5e6acd4348f090c2ce43e674b5c4",
            "551c91cc2bcf4a7b96ef551b742dd52e",
            "fb25f7b9ba9e4ae0add575b2f4bd7b32",
            "42f6d6caefb24b3bb70b3fa965aa0ec7",
            "49efcba70a4e43dd88e9ece1e0888637",
            "4eab2fad19f94d0ebab252b00dbb3dc5",
            "09679ad77af84471a928bd2e101164ea",
            "1cc29354e9514d3eaebbb193912c6f34",
            "b101e8360f374419986dca9e1eacf816",
            "89e2a5980ff34156bd4881e6940ec9f5",
            "46be80287edc4f1ea80ec295725cee7f",
            "103201725218406cbf3e2b5fa7042fe5",
            "ff2ac44958c64c4b99a9de1b52419c09",
            "3c4cc5a1b10e4b139be270e82743a873",
            "25d718fed7434bc3afa87d3224380ea0",
            "24889b17979a4073baf24a2c65cae028",
            "19a2b43d763c4230a55981af59bd76f3",
            "758da6e1a5684ff2918b0effd2af79b9",
            "ca14dd8eb30a4bdfa07f9c8c0ec7abe7",
            "d97694afdf824ca19357b0b8d2a3acac",
            "4b99b9f11e344226bf762fe6027df39e",
            "dd48e9f1b01147eaa2fd79fa189e9089",
            "d66cf6b9d8fb4f4cbe02f21785c5773f",
            "3f4e861bb39d449da899dcdffa35f934",
            "7a49a9dc25a64737ab8dc0613859fe61",
            "57c1bb0369514b1ba7ac26a177d5bd6b",
            "f7d319a052274dd4a0dafc323bba1903",
            "3c5ad430df6e4abeb5134836d9233bcc",
            "d5c13043bc0a46b4a816a0f92edae31f",
            "358b8eea12cd4a1fafb72192c8ed7d05",
            "96fcc6e227cb47ffbda5156f600d9ac1",
            "72080366ecf64433a5f8a382cdbb892f",
            "f7e0252b04774cd98f9bb08322038f1e",
            "54996c050a8a46b89e31310013724ff1",
            "9afc7593628b4badabd679c2fee66902",
            "82289b7f3a3c43178f096c49efa51f34",
            "3b86206ef95a428db057f4205fb3487c",
            "5b38a72aac884604aa43d2464642d49c",
            "df81b33970f04968b5defde5d256b1ce",
            "262638c91a684461955907b2afa579c3",
            "c5f8936694654ff88f5fdaf357783ecd",
            "8063eec5bed244a6b16d6e317369630d",
            "cd6e85d2f84e48e1a61cef99d32cfabf",
            "ef274dd3ad88480ab9f3b3b9e70a1aa7",
            "888c529b2f004115bd8a06ecb1db3e18",
            "e042509c8e4a48d28cde8b357cfe2148",
            "f51fd2581ffd4be9bf699a4c43ae8621",
            "17cc899b540341c391c8d7e95b85c953",
            "88bc6d9522da4d459bfbc7a58cf2a73a",
            "bfc23f2dbfda4662a685495d51531154",
            "f319e0167b054c3a855a262c940208ef",
            "605da0908c1e4eb8b1d581e2da49bb81",
            "bbfa6619151b41f98b7a6866bb9ada2c",
            "98cf14ee98144f87aa52d18fda009aff",
            "3199b4e1565a4a5ea5bfcd0ac4b226fd",
            "63d2bea718fd440c896cbaaa96fbfc75",
            "072f588ce38b462f99290bdc03cdd6af",
            "b55b02d8437547d2b83b362dec312a96",
            "e94871866d244b8589ab2a538e07defe"
          ]
        },
        "id": "ZZz8fHCVahWQ",
        "outputId": "ac5452ae-e402-4728-f43b-c5df4f7b9b58"
      },
      "outputs": [
        {
          "name": "stdout",
          "output_type": "stream",
          "text": [
            "\ud83d\ude80 Starting Tamil-Brahmi Recognition Training (Stage 2)\n",
            "Device: gpu\n",
            "Precision: 16-mixed\n"
          ]
        },
        {
          "name": "stderr",
          "output_type": "stream",
          "text": [
            "/usr/local/lib/python3.12/dist-packages/huggingface_hub/utils/_auth.py:94: UserWarning: \n",
            "The secret `HF_TOKEN` does not exist in your Colab secrets.\n",
            "To authenticate with the Hugging Face Hub, create a token in your settings tab (https://huggingface.co/settings/tokens), set it as secret in your Google Colab and restart your session.\n",
            "You will be able to reuse this secret in all of your notebooks.\n",
            "Please note that authentication is recommended but still optional to access public models or datasets.\n",
            "  warnings.warn(\n"
          ]
        },
        {
          "data": {
            "application/vnd.jupyter.widget-view+json": {
              "model_id": "c4f76ac923ac48e4a129f244eb629d5a",
              "version_major": 2,
              "version_minor": 0
            },
            "text/plain": [
              "tokenizer_config.json:   0%|          | 0.00/26.0 [00:00<?, ?B/s]"
            ]
          },
          "metadata": {},
          "output_type": "display_data"
        },
        {
          "data": {
            "application/vnd.jupyter.widget-view+json": {
              "model_id": "2a625e5df14645c08eb032efae17d22f",
              "version_major": 2,
              "version_minor": 0
            },
            "text/plain": [
              "config.json:   0%|          | 0.00/665 [00:00<?, ?B/s]"
            ]
          },
          "metadata": {},
          "output_type": "display_data"
        },
        {
          "data": {
            "application/vnd.jupyter.widget-view+json": {
              "model_id": "2c4d79cc9a024a2d843f622a163f7ab1",
              "version_major": 2,
              "version_minor": 0
            },
            "text/plain": [
              "vocab.json:   0%|          | 0.00/1.04M [00:00<?, ?B/s]"
            ]
          },
          "metadata": {},
          "output_type": "display_data"
        },
        {
          "data": {
            "application/vnd.jupyter.widget-view+json": {
              "model_id": "7500a03f6dbe45469c0d21b687a1b7da",
              "version_major": 2,
              "version_minor": 0
            },
            "text/plain": [
              "merges.txt:   0%|          | 0.00/456k [00:00<?, ?B/s]"
            ]
          },
          "metadata": {},
          "output_type": "display_data"
        },
        {
          "data": {
            "application/vnd.jupyter.widget-view+json": {
              "model_id": "2e4121c909ce46029b83f91cb2b59217",
              "version_major": 2,
              "version_minor": 0
            },
            "text/plain": [
              "tokenizer.json:   0%|          | 0.00/1.36M [00:00<?, ?B/s]"
            ]
          },
          "metadata": {},
          "output_type": "display_data"
        },
        {
          "name": "stdout",
          "output_type": "stream",
          "text": [
            "\n",
            "\ud83d\udd0d Training Recognition Model\n"
          ]
        },
        {
          "data": {
            "application/vnd.jupyter.widget-view+json": {
              "model_id": "f9bc1ef5e6d14d1184d6aa0d7067dffa",
              "version_major": 2,
              "version_minor": 0
            },
            "text/plain": [
              "config.json: 0.00B [00:00, ?B/s]"
            ]
          },
          "metadata": {},
          "output_type": "display_data"
        },
        {
          "data": {
            "application/vnd.jupyter.widget-view+json": {
              "model_id": "7af91c9ca1884bbab7f010987fd127a9",
              "version_major": 2,
              "version_minor": 0
            },
            "text/plain": [
              "model.safetensors:   0%|          | 0.00/346M [00:00<?, ?B/s]"
            ]
          },
          "metadata": {},
          "output_type": "display_data"
        },
        {
          "name": "stderr",
          "output_type": "stream",
          "text": [
            "Some weights of ViTModel were not initialized from the model checkpoint at google/vit-base-patch16-224 and are newly initialized: ['pooler.dense.bias', 'pooler.dense.weight']\n",
            "You should probably TRAIN this model on a down-stream task to be able to use it for predictions and inference.\n"
          ]
        },
        {
          "data": {
            "application/vnd.jupyter.widget-view+json": {
              "model_id": "467046eccd934aec850418d5a2bb470e",
              "version_major": 2,
              "version_minor": 0
            },
            "text/plain": [
              "model.safetensors:   0%|          | 0.00/548M [00:00<?, ?B/s]"
            ]
          },
          "metadata": {},
          "output_type": "display_data"
        },
        {
          "name": "stderr",
          "output_type": "stream",
          "text": [
            "Some weights of GPT2LMHeadModel were not initialized from the model checkpoint at gpt2 and are newly initialized: ['transformer.h.0.crossattention.c_attn.bias', 'transformer.h.0.crossattention.c_attn.weight', 'transformer.h.0.crossattention.c_proj.bias', 'transformer.h.0.crossattention.c_proj.weight', 'transformer.h.0.crossattention.q_attn.bias', 'transformer.h.0.crossattention.q_attn.weight', 'transformer.h.0.ln_cross_attn.bias', 'transformer.h.0.ln_cross_attn.weight', 'transformer.h.1.crossattention.c_attn.bias', 'transformer.h.1.crossattention.c_attn.weight', 'transformer.h.1.crossattention.c_proj.bias', 'transformer.h.1.crossattention.c_proj.weight', 'transformer.h.1.crossattention.q_attn.bias', 'transformer.h.1.crossattention.q_attn.weight', 'transformer.h.1.ln_cross_attn.bias', 'transformer.h.1.ln_cross_attn.weight', 'transformer.h.10.crossattention.c_attn.bias', 'transformer.h.10.crossattention.c_attn.weight', 'transformer.h.10.crossattention.c_proj.bias', 'transformer.h.10.crossattention.c_proj.weight', 'transformer.h.10.crossattention.q_attn.bias', 'transformer.h.10.crossattention.q_attn.weight', 'transformer.h.10.ln_cross_attn.bias', 'transformer.h.10.ln_cross_attn.weight', 'transformer.h.11.crossattention.c_attn.bias', 'transformer.h.11.crossattention.c_attn.weight', 'transformer.h.11.crossattention.c_proj.bias', 'transformer.h.11.crossattention.c_proj.weight', 'transformer.h.11.crossattention.q_attn.bias', 'transformer.h.11.crossattention.q_attn.weight', 'transformer.h.11.ln_cross_attn.bias', 'transformer.h.11.ln_cross_attn.weight', 'transformer.h.2.crossattention.c_attn.bias', 'transformer.h.2.crossattention.c_attn.weight', 'transformer.h.2.crossattention.c_proj.bias', 'transformer.h.2.crossattention.c_proj.weight', 'transformer.h.2.crossattention.q_attn.bias', 'transformer.h.2.crossattention.q_attn.weight', 'transformer.h.2.ln_cross_attn.bias', 'transformer.h.2.ln_cross_attn.weight', 'transformer.h.3.crossattention.c_attn.bias', 'transformer.h.3.crossattention.c_attn.weight', 'transformer.h.3.crossattention.c_proj.bias', 'transformer.h.3.crossattention.c_proj.weight', 'transformer.h.3.crossattention.q_attn.bias', 'transformer.h.3.crossattention.q_attn.weight', 'transformer.h.3.ln_cross_attn.bias', 'transformer.h.3.ln_cross_attn.weight', 'transformer.h.4.crossattention.c_attn.bias', 'transformer.h.4.crossattention.c_attn.weight', 'transformer.h.4.crossattention.c_proj.bias', 'transformer.h.4.crossattention.c_proj.weight', 'transformer.h.4.crossattention.q_attn.bias', 'transformer.h.4.crossattention.q_attn.weight', 'transformer.h.4.ln_cross_attn.bias', 'transformer.h.4.ln_cross_attn.weight', 'transformer.h.5.crossattention.c_attn.bias', 'transformer.h.5.crossattention.c_attn.weight', 'transformer.h.5.crossattention.c_proj.bias', 'transformer.h.5.crossattention.c_proj.weight', 'transformer.h.5.crossattention.q_attn.bias', 'transformer.h.5.crossattention.q_attn.weight', 'transformer.h.5.ln_cross_attn.bias', 'transformer.h.5.ln_cross_attn.weight', 'transformer.h.6.crossattention.c_attn.bias', 'transformer.h.6.crossattention.c_attn.weight', 'transformer.h.6.crossattention.c_proj.bias', 'transformer.h.6.crossattention.c_proj.weight', 'transformer.h.6.crossattention.q_attn.bias', 'transformer.h.6.crossattention.q_attn.weight', 'transformer.h.6.ln_cross_attn.bias', 'transformer.h.6.ln_cross_attn.weight', 'transformer.h.7.crossattention.c_attn.bias', 'transformer.h.7.crossattention.c_attn.weight', 'transformer.h.7.crossattention.c_proj.bias', 'transformer.h.7.crossattention.c_proj.weight', 'transformer.h.7.crossattention.q_attn.bias', 'transformer.h.7.crossattention.q_attn.weight', 'transformer.h.7.ln_cross_attn.bias', 'transformer.h.7.ln_cross_attn.weight', 'transformer.h.8.crossattention.c_attn.bias', 'transformer.h.8.crossattention.c_attn.weight', 'transformer.h.8.crossattention.c_proj.bias', 'transformer.h.8.crossattention.c_proj.weight', 'transformer.h.8.crossattention.q_attn.bias', 'transformer.h.8.crossattention.q_attn.weight', 'transformer.h.8.ln_cross_attn.bias', 'transformer.h.8.ln_cross_attn.weight', 'transformer.h.9.crossattention.c_attn.bias', 'transformer.h.9.crossattention.c_attn.weight', 'transformer.h.9.crossattention.c_proj.bias', 'transformer.h.9.crossattention.c_proj.weight', 'transformer.h.9.crossattention.q_attn.bias', 'transformer.h.9.crossattention.q_attn.weight', 'transformer.h.9.ln_cross_attn.bias', 'transformer.h.9.ln_cross_attn.weight']\n",
            "You should probably TRAIN this model on a down-stream task to be able to use it for predictions and inference.\n"
          ]
        },
        {
          "data": {
            "application/vnd.jupyter.widget-view+json": {
              "model_id": "ceda5aea808c4313a4dd96da15525f27",
              "version_major": 2,
              "version_minor": 0
            },
            "text/plain": [
              "generation_config.json:   0%|          | 0.00/124 [00:00<?, ?B/s]"
            ]
          },
          "metadata": {},
          "output_type": "display_data"
        },
        {
          "name": "stdout",
          "output_type": "stream",
          "text": [
            "Replacing encoder's first conv layer: Expected 3 channels, but got 1\n",
            "Updating encoder image size: Expected 224x224, but got 64x64\n"
          ]
        },
        {
          "name": "stderr",
          "output_type": "stream",
          "text": [
            "INFO:pytorch_lightning.utilities.rank_zero:Using 16bit Automatic Mixed Precision (AMP)\n",
            "INFO:pytorch_lightning.utilities.rank_zero:GPU available: True (cuda), used: True\n",
            "INFO:pytorch_lightning.utilities.rank_zero:TPU available: False, using: 0 TPU cores\n",
            "INFO:pytorch_lightning.utilities.rank_zero:HPU available: False, using: 0 HPUs\n",
            "INFO:pytorch_lightning.accelerators.cuda:LOCAL_RANK: 0 - CUDA_VISIBLE_DEVICES: [0]\n",
            "INFO:pytorch_lightning.callbacks.model_summary:\n",
            "  | Name    | Type                      | Params | Mode \n",
            "--------------------------------------------------------------\n",
            "0 | model   | VisionEncoderDecoderModel | 238 M  | train\n",
            "1 | cer     | CharErrorRate             | 0      | train\n",
            "2 | val_cer | CharErrorRate             | 0      | train\n",
            "--------------------------------------------------------------\n",
            "238 M     Trainable params\n",
            "0         Non-trainable params\n",
            "238 M     Total params\n",
            "954.658   Total estimated model params size (MB)\n",
            "4         Modules in train mode\n",
            "462       Modules in eval mode\n"
          ]
        },
        {
          "data": {
            "application/vnd.jupyter.widget-view+json": {
              "model_id": "9a3ac83dcbea4ce282b128a490b09468",
              "version_major": 2,
              "version_minor": 0
            },
            "text/plain": [
              "Sanity Checking: |          | 0/? [00:00<?, ?it/s]"
            ]
          },
          "metadata": {},
          "output_type": "display_data"
        },
        {
          "name": "stderr",
          "output_type": "stream",
          "text": [
            "Setting `pad_token_id` to `eos_token_id`:50256 for open-end generation.\n",
            "Setting `pad_token_id` to `eos_token_id`:50256 for open-end generation.\n",
            "/usr/local/lib/python3.12/dist-packages/pytorch_lightning/loops/fit_loop.py:527: Found 462 module(s) in eval mode at the start of training. This may lead to unexpected behavior during training. If this is intentional, you can ignore this warning.\n"
          ]
        },
        {
          "data": {
            "application/vnd.jupyter.widget-view+json": {
              "model_id": "f648fa53bf91492f98f25d2b3ded7b4f",
              "version_major": 2,
              "version_minor": 0
            },
            "text/plain": [
              "Training: |          | 0/? [00:00<?, ?it/s]"
            ]
          },
          "metadata": {},
          "output_type": "display_data"
        },
        {
          "name": "stderr",
          "output_type": "stream",
          "text": [
            "`loss_type=None` was set in the config but it is unrecognized. Using the default loss: `ForCausalLMLoss`.\n"
          ]
        },
        {
          "data": {
            "application/vnd.jupyter.widget-view+json": {
              "model_id": "759d75707deb465dad66ca537a9dd5b1",
              "version_major": 2,
              "version_minor": 0
            },
            "text/plain": [
              "Validation: |          | 0/? [00:00<?, ?it/s]"
            ]
          },
          "metadata": {},
          "output_type": "display_data"
        },
        {
          "name": "stderr",
          "output_type": "stream",
          "text": [
            "Setting `pad_token_id` to `eos_token_id`:50256 for open-end generation.\n",
            "Setting `pad_token_id` to `eos_token_id`:50256 for open-end generation.\n",
            "Setting `pad_token_id` to `eos_token_id`:50256 for open-end generation.\n",
            "Setting `pad_token_id` to `eos_token_id`:50256 for open-end generation.\n"
          ]
        },
        {
          "data": {
            "application/vnd.jupyter.widget-view+json": {
              "model_id": "1ff2548ef8f3486ca5f55eab4019675b",
              "version_major": 2,
              "version_minor": 0
            },
            "text/plain": [
              "Validation: |          | 0/? [00:00<?, ?it/s]"
            ]
          },
          "metadata": {},
          "output_type": "display_data"
        },
        {
          "name": "stderr",
          "output_type": "stream",
          "text": [
            "Setting `pad_token_id` to `eos_token_id`:50256 for open-end generation.\n",
            "Setting `pad_token_id` to `eos_token_id`:50256 for open-end generation.\n",
            "Setting `pad_token_id` to `eos_token_id`:50256 for open-end generation.\n",
            "Setting `pad_token_id` to `eos_token_id`:50256 for open-end generation.\n"
          ]
        },
        {
          "data": {
            "application/vnd.jupyter.widget-view+json": {
              "model_id": "7087c60146c44d98a85b634313a88b2d",
              "version_major": 2,
              "version_minor": 0
            },
            "text/plain": [
              "Validation: |          | 0/? [00:00<?, ?it/s]"
            ]
          },
          "metadata": {},
          "output_type": "display_data"
        },
        {
          "name": "stderr",
          "output_type": "stream",
          "text": [
            "Setting `pad_token_id` to `eos_token_id`:50256 for open-end generation.\n",
            "Setting `pad_token_id` to `eos_token_id`:50256 for open-end generation.\n",
            "Setting `pad_token_id` to `eos_token_id`:50256 for open-end generation.\n",
            "Setting `pad_token_id` to `eos_token_id`:50256 for open-end generation.\n"
          ]
        },
        {
          "data": {
            "application/vnd.jupyter.widget-view+json": {
              "model_id": "73c6d07732d64b679dbd9a0a5b09c413",
              "version_major": 2,
              "version_minor": 0
            },
            "text/plain": [
              "Validation: |          | 0/? [00:00<?, ?it/s]"
            ]
          },
          "metadata": {},
          "output_type": "display_data"
        },
        {
          "name": "stderr",
          "output_type": "stream",
          "text": [
            "Setting `pad_token_id` to `eos_token_id`:50256 for open-end generation.\n",
            "Setting `pad_token_id` to `eos_token_id`:50256 for open-end generation.\n",
            "Setting `pad_token_id` to `eos_token_id`:50256 for open-end generation.\n",
            "Setting `pad_token_id` to `eos_token_id`:50256 for open-end generation.\n"
          ]
        },
        {
          "data": {
            "application/vnd.jupyter.widget-view+json": {
              "model_id": "49ceb7eeff10451aa786bc4ab2816581",
              "version_major": 2,
              "version_minor": 0
            },
            "text/plain": [
              "Validation: |          | 0/? [00:00<?, ?it/s]"
            ]
          },
          "metadata": {},
          "output_type": "display_data"
        },
        {
          "name": "stderr",
          "output_type": "stream",
          "text": [
            "Setting `pad_token_id` to `eos_token_id`:50256 for open-end generation.\n",
            "Setting `pad_token_id` to `eos_token_id`:50256 for open-end generation.\n",
            "Setting `pad_token_id` to `eos_token_id`:50256 for open-end generation.\n",
            "Setting `pad_token_id` to `eos_token_id`:50256 for open-end generation.\n"
          ]
        },
        {
          "data": {
            "application/vnd.jupyter.widget-view+json": {
              "model_id": "88189200bfcf4590a51315f4c2622df9",
              "version_major": 2,
              "version_minor": 0
            },
            "text/plain": [
              "Validation: |          | 0/? [00:00<?, ?it/s]"
            ]
          },
          "metadata": {},
          "output_type": "display_data"
        },
        {
          "name": "stderr",
          "output_type": "stream",
          "text": [
            "Setting `pad_token_id` to `eos_token_id`:50256 for open-end generation.\n",
            "Setting `pad_token_id` to `eos_token_id`:50256 for open-end generation.\n",
            "Setting `pad_token_id` to `eos_token_id`:50256 for open-end generation.\n",
            "Setting `pad_token_id` to `eos_token_id`:50256 for open-end generation.\n"
          ]
        },
        {
          "data": {
            "application/vnd.jupyter.widget-view+json": {
              "model_id": "c863b15c2ea845e8bb5d3568c9e306e8",
              "version_major": 2,
              "version_minor": 0
            },
            "text/plain": [
              "Validation: |          | 0/? [00:00<?, ?it/s]"
            ]
          },
          "metadata": {},
          "output_type": "display_data"
        },
        {
          "name": "stderr",
          "output_type": "stream",
          "text": [
            "Setting `pad_token_id` to `eos_token_id`:50256 for open-end generation.\n",
            "Setting `pad_token_id` to `eos_token_id`:50256 for open-end generation.\n",
            "Setting `pad_token_id` to `eos_token_id`:50256 for open-end generation.\n",
            "Setting `pad_token_id` to `eos_token_id`:50256 for open-end generation.\n"
          ]
        },
        {
          "data": {
            "application/vnd.jupyter.widget-view+json": {
              "model_id": "811c43dbab6f43e5a217d55fb0396ee5",
              "version_major": 2,
              "version_minor": 0
            },
            "text/plain": [
              "Validation: |          | 0/? [00:00<?, ?it/s]"
            ]
          },
          "metadata": {},
          "output_type": "display_data"
        },
        {
          "name": "stderr",
          "output_type": "stream",
          "text": [
            "Setting `pad_token_id` to `eos_token_id`:50256 for open-end generation.\n",
            "Setting `pad_token_id` to `eos_token_id`:50256 for open-end generation.\n",
            "Setting `pad_token_id` to `eos_token_id`:50256 for open-end generation.\n",
            "Setting `pad_token_id` to `eos_token_id`:50256 for open-end generation.\n"
          ]
        },
        {
          "data": {
            "application/vnd.jupyter.widget-view+json": {
              "model_id": "96c6c7ac67f94fc6ae1f45737d3d1857",
              "version_major": 2,
              "version_minor": 0
            },
            "text/plain": [
              "Validation: |          | 0/? [00:00<?, ?it/s]"
            ]
          },
          "metadata": {},
          "output_type": "display_data"
        },
        {
          "name": "stderr",
          "output_type": "stream",
          "text": [
            "Setting `pad_token_id` to `eos_token_id`:50256 for open-end generation.\n",
            "Setting `pad_token_id` to `eos_token_id`:50256 for open-end generation.\n",
            "Setting `pad_token_id` to `eos_token_id`:50256 for open-end generation.\n",
            "Setting `pad_token_id` to `eos_token_id`:50256 for open-end generation.\n"
          ]
        },
        {
          "data": {
            "application/vnd.jupyter.widget-view+json": {
              "model_id": "7df5e095a48a426f81a20ada4378a6ba",
              "version_major": 2,
              "version_minor": 0
            },
            "text/plain": [
              "Validation: |          | 0/? [00:00<?, ?it/s]"
            ]
          },
          "metadata": {},
          "output_type": "display_data"
        },
        {
          "name": "stderr",
          "output_type": "stream",
          "text": [
            "Setting `pad_token_id` to `eos_token_id`:50256 for open-end generation.\n",
            "Setting `pad_token_id` to `eos_token_id`:50256 for open-end generation.\n",
            "Setting `pad_token_id` to `eos_token_id`:50256 for open-end generation.\n",
            "Setting `pad_token_id` to `eos_token_id`:50256 for open-end generation.\n"
          ]
        },
        {
          "data": {
            "application/vnd.jupyter.widget-view+json": {
              "model_id": "fd5c6c0d107e46548de3281f3000d620",
              "version_major": 2,
              "version_minor": 0
            },
            "text/plain": [
              "Validation: |          | 0/? [00:00<?, ?it/s]"
            ]
          },
          "metadata": {},
          "output_type": "display_data"
        },
        {
          "name": "stderr",
          "output_type": "stream",
          "text": [
            "Setting `pad_token_id` to `eos_token_id`:50256 for open-end generation.\n",
            "Setting `pad_token_id` to `eos_token_id`:50256 for open-end generation.\n",
            "Setting `pad_token_id` to `eos_token_id`:50256 for open-end generation.\n",
            "Setting `pad_token_id` to `eos_token_id`:50256 for open-end generation.\n"
          ]
        },
        {
          "data": {
            "application/vnd.jupyter.widget-view+json": {
              "model_id": "85122da84b164635939d5ae98304cc99",
              "version_major": 2,
              "version_minor": 0
            },
            "text/plain": [
              "Validation: |          | 0/? [00:00<?, ?it/s]"
            ]
          },
          "metadata": {},
          "output_type": "display_data"
        },
        {
          "name": "stderr",
          "output_type": "stream",
          "text": [
            "Setting `pad_token_id` to `eos_token_id`:50256 for open-end generation.\n",
            "Setting `pad_token_id` to `eos_token_id`:50256 for open-end generation.\n",
            "Setting `pad_token_id` to `eos_token_id`:50256 for open-end generation.\n",
            "Setting `pad_token_id` to `eos_token_id`:50256 for open-end generation.\n"
          ]
        },
        {
          "data": {
            "application/vnd.jupyter.widget-view+json": {
              "model_id": "ce2ead8f601b4cc18c6dad99c7a7e666",
              "version_major": 2,
              "version_minor": 0
            },
            "text/plain": [
              "Validation: |          | 0/? [00:00<?, ?it/s]"
            ]
          },
          "metadata": {},
          "output_type": "display_data"
        },
        {
          "name": "stderr",
          "output_type": "stream",
          "text": [
            "Setting `pad_token_id` to `eos_token_id`:50256 for open-end generation.\n",
            "Setting `pad_token_id` to `eos_token_id`:50256 for open-end generation.\n",
            "Setting `pad_token_id` to `eos_token_id`:50256 for open-end generation.\n",
            "Setting `pad_token_id` to `eos_token_id`:50256 for open-end generation.\n"
          ]
        },
        {
          "data": {
            "application/vnd.jupyter.widget-view+json": {
              "model_id": "b8e4abc5c2b1494eb1246cca2ddbc5d3",
              "version_major": 2,
              "version_minor": 0
            },
            "text/plain": [
              "Validation: |          | 0/? [00:00<?, ?it/s]"
            ]
          },
          "metadata": {},
          "output_type": "display_data"
        },
        {
          "name": "stderr",
          "output_type": "stream",
          "text": [
            "Setting `pad_token_id` to `eos_token_id`:50256 for open-end generation.\n",
            "Setting `pad_token_id` to `eos_token_id`:50256 for open-end generation.\n",
            "Setting `pad_token_id` to `eos_token_id`:50256 for open-end generation.\n",
            "Setting `pad_token_id` to `eos_token_id`:50256 for open-end generation.\n"
          ]
        },
        {
          "data": {
            "application/vnd.jupyter.widget-view+json": {
              "model_id": "f1792cf917b24d62832b98f774970231",
              "version_major": 2,
              "version_minor": 0
            },
            "text/plain": [
              "Validation: |          | 0/? [00:00<?, ?it/s]"
            ]
          },
          "metadata": {},
          "output_type": "display_data"
        },
        {
          "name": "stderr",
          "output_type": "stream",
          "text": [
            "Setting `pad_token_id` to `eos_token_id`:50256 for open-end generation.\n",
            "Setting `pad_token_id` to `eos_token_id`:50256 for open-end generation.\n",
            "Setting `pad_token_id` to `eos_token_id`:50256 for open-end generation.\n",
            "Setting `pad_token_id` to `eos_token_id`:50256 for open-end generation.\n"
          ]
        },
        {
          "data": {
            "application/vnd.jupyter.widget-view+json": {
              "model_id": "49efcba70a4e43dd88e9ece1e0888637",
              "version_major": 2,
              "version_minor": 0
            },
            "text/plain": [
              "Validation: |          | 0/? [00:00<?, ?it/s]"
            ]
          },
          "metadata": {},
          "output_type": "display_data"
        },
        {
          "name": "stderr",
          "output_type": "stream",
          "text": [
            "Setting `pad_token_id` to `eos_token_id`:50256 for open-end generation.\n",
            "Setting `pad_token_id` to `eos_token_id`:50256 for open-end generation.\n",
            "Setting `pad_token_id` to `eos_token_id`:50256 for open-end generation.\n",
            "Setting `pad_token_id` to `eos_token_id`:50256 for open-end generation.\n"
          ]
        },
        {
          "data": {
            "application/vnd.jupyter.widget-view+json": {
              "model_id": "24889b17979a4073baf24a2c65cae028",
              "version_major": 2,
              "version_minor": 0
            },
            "text/plain": [
              "Validation: |          | 0/? [00:00<?, ?it/s]"
            ]
          },
          "metadata": {},
          "output_type": "display_data"
        },
        {
          "name": "stderr",
          "output_type": "stream",
          "text": [
            "Setting `pad_token_id` to `eos_token_id`:50256 for open-end generation.\n",
            "Setting `pad_token_id` to `eos_token_id`:50256 for open-end generation.\n",
            "Setting `pad_token_id` to `eos_token_id`:50256 for open-end generation.\n",
            "Setting `pad_token_id` to `eos_token_id`:50256 for open-end generation.\n"
          ]
        },
        {
          "data": {
            "application/vnd.jupyter.widget-view+json": {
              "model_id": "f7d319a052274dd4a0dafc323bba1903",
              "version_major": 2,
              "version_minor": 0
            },
            "text/plain": [
              "Validation: |          | 0/? [00:00<?, ?it/s]"
            ]
          },
          "metadata": {},
          "output_type": "display_data"
        },
        {
          "name": "stderr",
          "output_type": "stream",
          "text": [
            "Setting `pad_token_id` to `eos_token_id`:50256 for open-end generation.\n",
            "Setting `pad_token_id` to `eos_token_id`:50256 for open-end generation.\n",
            "Setting `pad_token_id` to `eos_token_id`:50256 for open-end generation.\n",
            "Setting `pad_token_id` to `eos_token_id`:50256 for open-end generation.\n"
          ]
        },
        {
          "data": {
            "application/vnd.jupyter.widget-view+json": {
              "model_id": "5b38a72aac884604aa43d2464642d49c",
              "version_major": 2,
              "version_minor": 0
            },
            "text/plain": [
              "Validation: |          | 0/? [00:00<?, ?it/s]"
            ]
          },
          "metadata": {},
          "output_type": "display_data"
        },
        {
          "name": "stderr",
          "output_type": "stream",
          "text": [
            "Setting `pad_token_id` to `eos_token_id`:50256 for open-end generation.\n",
            "Setting `pad_token_id` to `eos_token_id`:50256 for open-end generation.\n",
            "Setting `pad_token_id` to `eos_token_id`:50256 for open-end generation.\n",
            "Setting `pad_token_id` to `eos_token_id`:50256 for open-end generation.\n"
          ]
        },
        {
          "data": {
            "application/vnd.jupyter.widget-view+json": {
              "model_id": "88bc6d9522da4d459bfbc7a58cf2a73a",
              "version_major": 2,
              "version_minor": 0
            },
            "text/plain": [
              "Validation: |          | 0/? [00:00<?, ?it/s]"
            ]
          },
          "metadata": {},
          "output_type": "display_data"
        },
        {
          "name": "stderr",
          "output_type": "stream",
          "text": [
            "Setting `pad_token_id` to `eos_token_id`:50256 for open-end generation.\n",
            "Setting `pad_token_id` to `eos_token_id`:50256 for open-end generation.\n",
            "Setting `pad_token_id` to `eos_token_id`:50256 for open-end generation.\n",
            "Setting `pad_token_id` to `eos_token_id`:50256 for open-end generation.\n",
            "INFO:pytorch_lightning.utilities.rank_zero:`Trainer.fit` stopped: `max_epochs=20` reached.\n"
          ]
        },
        {
          "name": "stdout",
          "output_type": "stream",
          "text": [
            "\u2705 Best recognizer model: /content/logs/recognizer/version_0/checkpoints/epoch=0-step=16.ckpt\n"
          ]
        },
        {
          "name": "stderr",
          "output_type": "stream",
          "text": [
            "Some weights of ViTModel were not initialized from the model checkpoint at google/vit-base-patch16-224 and are newly initialized: ['pooler.dense.bias', 'pooler.dense.weight']\n",
            "You should probably TRAIN this model on a down-stream task to be able to use it for predictions and inference.\n",
            "Some weights of GPT2LMHeadModel were not initialized from the model checkpoint at gpt2 and are newly initialized: ['transformer.h.0.crossattention.c_attn.bias', 'transformer.h.0.crossattention.c_attn.weight', 'transformer.h.0.crossattention.c_proj.bias', 'transformer.h.0.crossattention.c_proj.weight', 'transformer.h.0.crossattention.q_attn.bias', 'transformer.h.0.crossattention.q_attn.weight', 'transformer.h.0.ln_cross_attn.bias', 'transformer.h.0.ln_cross_attn.weight', 'transformer.h.1.crossattention.c_attn.bias', 'transformer.h.1.crossattention.c_attn.weight', 'transformer.h.1.crossattention.c_proj.bias', 'transformer.h.1.crossattention.c_proj.weight', 'transformer.h.1.crossattention.q_attn.bias', 'transformer.h.1.crossattention.q_attn.weight', 'transformer.h.1.ln_cross_attn.bias', 'transformer.h.1.ln_cross_attn.weight', 'transformer.h.10.crossattention.c_attn.bias', 'transformer.h.10.crossattention.c_attn.weight', 'transformer.h.10.crossattention.c_proj.bias', 'transformer.h.10.crossattention.c_proj.weight', 'transformer.h.10.crossattention.q_attn.bias', 'transformer.h.10.crossattention.q_attn.weight', 'transformer.h.10.ln_cross_attn.bias', 'transformer.h.10.ln_cross_attn.weight', 'transformer.h.11.crossattention.c_attn.bias', 'transformer.h.11.crossattention.c_attn.weight', 'transformer.h.11.crossattention.c_proj.bias', 'transformer.h.11.crossattention.c_proj.weight', 'transformer.h.11.crossattention.q_attn.bias', 'transformer.h.11.crossattention.q_attn.weight', 'transformer.h.11.ln_cross_attn.bias', 'transformer.h.11.ln_cross_attn.weight', 'transformer.h.2.crossattention.c_attn.bias', 'transformer.h.2.crossattention.c_attn.weight', 'transformer.h.2.crossattention.c_proj.bias', 'transformer.h.2.crossattention.c_proj.weight', 'transformer.h.2.crossattention.q_attn.bias', 'transformer.h.2.crossattention.q_attn.weight', 'transformer.h.2.ln_cross_attn.bias', 'transformer.h.2.ln_cross_attn.weight', 'transformer.h.3.crossattention.c_attn.bias', 'transformer.h.3.crossattention.c_attn.weight', 'transformer.h.3.crossattention.c_proj.bias', 'transformer.h.3.crossattention.c_proj.weight', 'transformer.h.3.crossattention.q_attn.bias', 'transformer.h.3.crossattention.q_attn.weight', 'transformer.h.3.ln_cross_attn.bias', 'transformer.h.3.ln_cross_attn.weight', 'transformer.h.4.crossattention.c_attn.bias', 'transformer.h.4.crossattention.c_attn.weight', 'transformer.h.4.crossattention.c_proj.bias', 'transformer.h.4.crossattention.c_proj.weight', 'transformer.h.4.crossattention.q_attn.bias', 'transformer.h.4.crossattention.q_attn.weight', 'transformer.h.4.ln_cross_attn.bias', 'transformer.h.4.ln_cross_attn.weight', 'transformer.h.5.crossattention.c_attn.bias', 'transformer.h.5.crossattention.c_attn.weight', 'transformer.h.5.crossattention.c_proj.bias', 'transformer.h.5.crossattention.c_proj.weight', 'transformer.h.5.crossattention.q_attn.bias', 'transformer.h.5.crossattention.q_attn.weight', 'transformer.h.5.ln_cross_attn.bias', 'transformer.h.5.ln_cross_attn.weight', 'transformer.h.6.crossattention.c_attn.bias', 'transformer.h.6.crossattention.c_attn.weight', 'transformer.h.6.crossattention.c_proj.bias', 'transformer.h.6.crossattention.c_proj.weight', 'transformer.h.6.crossattention.q_attn.bias', 'transformer.h.6.crossattention.q_attn.weight', 'transformer.h.6.ln_cross_attn.bias', 'transformer.h.6.ln_cross_attn.weight', 'transformer.h.7.crossattention.c_attn.bias', 'transformer.h.7.crossattention.c_attn.weight', 'transformer.h.7.crossattention.c_proj.bias', 'transformer.h.7.crossattention.c_proj.weight', 'transformer.h.7.crossattention.q_attn.bias', 'transformer.h.7.crossattention.q_attn.weight', 'transformer.h.7.ln_cross_attn.bias', 'transformer.h.7.ln_cross_attn.weight', 'transformer.h.8.crossattention.c_attn.bias', 'transformer.h.8.crossattention.c_attn.weight', 'transformer.h.8.crossattention.c_proj.bias', 'transformer.h.8.crossattention.c_proj.weight', 'transformer.h.8.crossattention.q_attn.bias', 'transformer.h.8.crossattention.q_attn.weight', 'transformer.h.8.ln_cross_attn.bias', 'transformer.h.8.ln_cross_attn.weight', 'transformer.h.9.crossattention.c_attn.bias', 'transformer.h.9.crossattention.c_attn.weight', 'transformer.h.9.crossattention.c_proj.bias', 'transformer.h.9.crossattention.c_proj.weight', 'transformer.h.9.crossattention.q_attn.bias', 'transformer.h.9.crossattention.q_attn.weight', 'transformer.h.9.ln_cross_attn.bias', 'transformer.h.9.ln_cross_attn.weight']\n",
            "You should probably TRAIN this model on a down-stream task to be able to use it for predictions and inference.\n"
          ]
        },
        {
          "name": "stdout",
          "output_type": "stream",
          "text": [
            "Replacing encoder's first conv layer: Expected 3 channels, but got 1\n",
            "Updating encoder image size: Expected 224x224, but got 64x64\n",
            "\n",
            "\ud83d\udd04 Loading trained restorer from /content/logs/restorer/version_0/checkpoints/epoch=4-step=35.ckpt\n"
          ]
        },
        {
          "ename": "FileNotFoundError",
          "evalue": "[Errno 2] No such file or directory: '/content/logs/restorer/version_0/checkpoints/epoch=4-step=35.ckpt'",
          "output_type": "error",
          "traceback": [
            "\u001b[0;31m---------------------------------------------------------------------------\u001b[0m",
            "\u001b[0;31mFileNotFoundError\u001b[0m                         Traceback (most recent call last)",
            "\u001b[0;32m/tmp/ipython-input-997701340.py\u001b[0m in \u001b[0;36m<cell line: 0>\u001b[0;34m()\u001b[0m\n\u001b[1;32m    389\u001b[0m \u001b[0;34m\u001b[0m\u001b[0m\n\u001b[1;32m    390\u001b[0m \u001b[0;32mif\u001b[0m \u001b[0m__name__\u001b[0m \u001b[0;34m==\u001b[0m \u001b[0;34m\"__main__\"\u001b[0m\u001b[0;34m:\u001b[0m\u001b[0;34m\u001b[0m\u001b[0;34m\u001b[0m\u001b[0m\n\u001b[0;32m--> 391\u001b[0;31m     \u001b[0mmain\u001b[0m\u001b[0;34m(\u001b[0m\u001b[0mdataset_path\u001b[0m\u001b[0;34m=\u001b[0m\u001b[0;34m\"/content/dummy_brahmi_dataset\"\u001b[0m\u001b[0;34m,\u001b[0m \u001b[0mrestorer_checkpoint\u001b[0m\u001b[0;34m=\u001b[0m\u001b[0;34m\"/content/logs/restorer/version_0/checkpoints/epoch=4-step=35.ckpt\"\u001b[0m\u001b[0;34m)\u001b[0m\u001b[0;34m\u001b[0m\u001b[0;34m\u001b[0m\u001b[0m\n\u001b[0m",
            "\u001b[0;32m/tmp/ipython-input-997701340.py\u001b[0m in \u001b[0;36mmain\u001b[0;34m(dataset_path, restorer_checkpoint)\u001b[0m\n\u001b[1;32m    381\u001b[0m \u001b[0;34m\u001b[0m\u001b[0m\n\u001b[1;32m    382\u001b[0m     \u001b[0mprint\u001b[0m\u001b[0;34m(\u001b[0m\u001b[0;34mf\"\\n\ud83d\udd04 Loading trained restorer from {restorer_checkpoint}\"\u001b[0m\u001b[0;34m)\u001b[0m\u001b[0;34m\u001b[0m\u001b[0;34m\u001b[0m\u001b[0m\n\u001b[0;32m--> 383\u001b[0;31m     \u001b[0mtrained_restorer\u001b[0m \u001b[0;34m=\u001b[0m \u001b[0mTamilBrahmiRestorer\u001b[0m\u001b[0;34m.\u001b[0m\u001b[0mload_from_checkpoint\u001b[0m\u001b[0;34m(\u001b[0m\u001b[0mrestorer_checkpoint\u001b[0m\u001b[0;34m)\u001b[0m\u001b[0;34m\u001b[0m\u001b[0;34m\u001b[0m\u001b[0m\n\u001b[0m\u001b[1;32m    384\u001b[0m     \u001b[0mtrained_restorer\u001b[0m\u001b[0;34m.\u001b[0m\u001b[0meval\u001b[0m\u001b[0;34m(\u001b[0m\u001b[0;34m)\u001b[0m\u001b[0;34m\u001b[0m\u001b[0;34m\u001b[0m\u001b[0m\n\u001b[1;32m    385\u001b[0m     \u001b[0mcleanup_memory\u001b[0m\u001b[0;34m(\u001b[0m\u001b[0;34m)\u001b[0m\u001b[0;34m\u001b[0m\u001b[0;34m\u001b[0m\u001b[0m\n",
            "\u001b[0;32m/usr/local/lib/python3.12/dist-packages/pytorch_lightning/utilities/model_helpers.py\u001b[0m in \u001b[0;36mwrapper\u001b[0;34m(*args, **kwargs)\u001b[0m\n\u001b[1;32m    123\u001b[0m                     \u001b[0;34m\" Please call it on the class type and make sure the return value is used.\"\u001b[0m\u001b[0;34m\u001b[0m\u001b[0;34m\u001b[0m\u001b[0m\n\u001b[1;32m    124\u001b[0m                 )\n\u001b[0;32m--> 125\u001b[0;31m             \u001b[0;32mreturn\u001b[0m \u001b[0mself\u001b[0m\u001b[0;34m.\u001b[0m\u001b[0mmethod\u001b[0m\u001b[0;34m(\u001b[0m\u001b[0mcls\u001b[0m\u001b[0;34m,\u001b[0m \u001b[0;34m*\u001b[0m\u001b[0margs\u001b[0m\u001b[0;34m,\u001b[0m \u001b[0;34m**\u001b[0m\u001b[0mkwargs\u001b[0m\u001b[0;34m)\u001b[0m\u001b[0;34m\u001b[0m\u001b[0;34m\u001b[0m\u001b[0m\n\u001b[0m\u001b[1;32m    126\u001b[0m \u001b[0;34m\u001b[0m\u001b[0m\n\u001b[1;32m    127\u001b[0m         \u001b[0;32mreturn\u001b[0m \u001b[0mwrapper\u001b[0m\u001b[0;34m\u001b[0m\u001b[0;34m\u001b[0m\u001b[0m\n",
            "\u001b[0;32m/usr/local/lib/python3.12/dist-packages/pytorch_lightning/core/module.py\u001b[0m in \u001b[0;36mload_from_checkpoint\u001b[0;34m(cls, checkpoint_path, map_location, hparams_file, strict, **kwargs)\u001b[0m\n\u001b[1;32m   1660\u001b[0m \u001b[0;34m\u001b[0m\u001b[0m\n\u001b[1;32m   1661\u001b[0m         \"\"\"\n\u001b[0;32m-> 1662\u001b[0;31m         loaded = _load_from_checkpoint(\n\u001b[0m\u001b[1;32m   1663\u001b[0m             \u001b[0mcls\u001b[0m\u001b[0;34m,\u001b[0m\u001b[0;34m\u001b[0m\u001b[0;34m\u001b[0m\u001b[0m\n\u001b[1;32m   1664\u001b[0m             \u001b[0mcheckpoint_path\u001b[0m\u001b[0;34m,\u001b[0m\u001b[0;34m\u001b[0m\u001b[0;34m\u001b[0m\u001b[0m\n",
            "\u001b[0;32m/usr/local/lib/python3.12/dist-packages/pytorch_lightning/core/saving.py\u001b[0m in \u001b[0;36m_load_from_checkpoint\u001b[0;34m(cls, checkpoint_path, map_location, hparams_file, strict, **kwargs)\u001b[0m\n\u001b[1;32m     61\u001b[0m     \u001b[0mmap_location\u001b[0m \u001b[0;34m=\u001b[0m \u001b[0mmap_location\u001b[0m \u001b[0;32mor\u001b[0m \u001b[0m_default_map_location\u001b[0m\u001b[0;34m\u001b[0m\u001b[0;34m\u001b[0m\u001b[0m\n\u001b[1;32m     62\u001b[0m     \u001b[0;32mwith\u001b[0m \u001b[0mpl_legacy_patch\u001b[0m\u001b[0;34m(\u001b[0m\u001b[0;34m)\u001b[0m\u001b[0;34m:\u001b[0m\u001b[0;34m\u001b[0m\u001b[0;34m\u001b[0m\u001b[0m\n\u001b[0;32m---> 63\u001b[0;31m         \u001b[0mcheckpoint\u001b[0m \u001b[0;34m=\u001b[0m \u001b[0mpl_load\u001b[0m\u001b[0;34m(\u001b[0m\u001b[0mcheckpoint_path\u001b[0m\u001b[0;34m,\u001b[0m \u001b[0mmap_location\u001b[0m\u001b[0;34m=\u001b[0m\u001b[0mmap_location\u001b[0m\u001b[0;34m)\u001b[0m\u001b[0;34m\u001b[0m\u001b[0;34m\u001b[0m\u001b[0m\n\u001b[0m\u001b[1;32m     64\u001b[0m \u001b[0;34m\u001b[0m\u001b[0m\n\u001b[1;32m     65\u001b[0m     \u001b[0;31m# convert legacy checkpoints to the new format\u001b[0m\u001b[0;34m\u001b[0m\u001b[0;34m\u001b[0m\u001b[0m\n",
            "\u001b[0;32m/usr/local/lib/python3.12/dist-packages/lightning_fabric/utilities/cloud_io.py\u001b[0m in \u001b[0;36m_load\u001b[0;34m(path_or_url, map_location, weights_only)\u001b[0m\n\u001b[1;32m     58\u001b[0m         )\n\u001b[1;32m     59\u001b[0m     \u001b[0mfs\u001b[0m \u001b[0;34m=\u001b[0m \u001b[0mget_filesystem\u001b[0m\u001b[0;34m(\u001b[0m\u001b[0mpath_or_url\u001b[0m\u001b[0;34m)\u001b[0m\u001b[0;34m\u001b[0m\u001b[0;34m\u001b[0m\u001b[0m\n\u001b[0;32m---> 60\u001b[0;31m     \u001b[0;32mwith\u001b[0m \u001b[0mfs\u001b[0m\u001b[0;34m.\u001b[0m\u001b[0mopen\u001b[0m\u001b[0;34m(\u001b[0m\u001b[0mpath_or_url\u001b[0m\u001b[0;34m,\u001b[0m \u001b[0;34m\"rb\"\u001b[0m\u001b[0;34m)\u001b[0m \u001b[0;32mas\u001b[0m \u001b[0mf\u001b[0m\u001b[0;34m:\u001b[0m\u001b[0;34m\u001b[0m\u001b[0;34m\u001b[0m\u001b[0m\n\u001b[0m\u001b[1;32m     61\u001b[0m         return torch.load(\n\u001b[1;32m     62\u001b[0m             \u001b[0mf\u001b[0m\u001b[0;34m,\u001b[0m\u001b[0;34m\u001b[0m\u001b[0;34m\u001b[0m\u001b[0m\n",
            "\u001b[0;32m/usr/local/lib/python3.12/dist-packages/fsspec/spec.py\u001b[0m in \u001b[0;36mopen\u001b[0;34m(self, path, mode, block_size, cache_options, compression, **kwargs)\u001b[0m\n\u001b[1;32m   1308\u001b[0m         \u001b[0;32melse\u001b[0m\u001b[0;34m:\u001b[0m\u001b[0;34m\u001b[0m\u001b[0;34m\u001b[0m\u001b[0m\n\u001b[1;32m   1309\u001b[0m             \u001b[0mac\u001b[0m \u001b[0;34m=\u001b[0m \u001b[0mkwargs\u001b[0m\u001b[0;34m.\u001b[0m\u001b[0mpop\u001b[0m\u001b[0;34m(\u001b[0m\u001b[0;34m\"autocommit\"\u001b[0m\u001b[0;34m,\u001b[0m \u001b[0;32mnot\u001b[0m \u001b[0mself\u001b[0m\u001b[0;34m.\u001b[0m\u001b[0m_intrans\u001b[0m\u001b[0;34m)\u001b[0m\u001b[0;34m\u001b[0m\u001b[0;34m\u001b[0m\u001b[0m\n\u001b[0;32m-> 1310\u001b[0;31m             f = self._open(\n\u001b[0m\u001b[1;32m   1311\u001b[0m                 \u001b[0mpath\u001b[0m\u001b[0;34m,\u001b[0m\u001b[0;34m\u001b[0m\u001b[0;34m\u001b[0m\u001b[0m\n\u001b[1;32m   1312\u001b[0m                 \u001b[0mmode\u001b[0m\u001b[0;34m=\u001b[0m\u001b[0mmode\u001b[0m\u001b[0;34m,\u001b[0m\u001b[0;34m\u001b[0m\u001b[0;34m\u001b[0m\u001b[0m\n",
            "\u001b[0;32m/usr/local/lib/python3.12/dist-packages/fsspec/implementations/local.py\u001b[0m in \u001b[0;36m_open\u001b[0;34m(self, path, mode, block_size, **kwargs)\u001b[0m\n\u001b[1;32m    199\u001b[0m         \u001b[0;32mif\u001b[0m \u001b[0mself\u001b[0m\u001b[0;34m.\u001b[0m\u001b[0mauto_mkdir\u001b[0m \u001b[0;32mand\u001b[0m \u001b[0;34m\"w\"\u001b[0m \u001b[0;32min\u001b[0m \u001b[0mmode\u001b[0m\u001b[0;34m:\u001b[0m\u001b[0;34m\u001b[0m\u001b[0;34m\u001b[0m\u001b[0m\n\u001b[1;32m    200\u001b[0m             \u001b[0mself\u001b[0m\u001b[0;34m.\u001b[0m\u001b[0mmakedirs\u001b[0m\u001b[0;34m(\u001b[0m\u001b[0mself\u001b[0m\u001b[0;34m.\u001b[0m\u001b[0m_parent\u001b[0m\u001b[0;34m(\u001b[0m\u001b[0mpath\u001b[0m\u001b[0;34m)\u001b[0m\u001b[0;34m,\u001b[0m \u001b[0mexist_ok\u001b[0m\u001b[0;34m=\u001b[0m\u001b[0;32mTrue\u001b[0m\u001b[0;34m)\u001b[0m\u001b[0;34m\u001b[0m\u001b[0;34m\u001b[0m\u001b[0m\n\u001b[0;32m--> 201\u001b[0;31m         \u001b[0;32mreturn\u001b[0m \u001b[0mLocalFileOpener\u001b[0m\u001b[0;34m(\u001b[0m\u001b[0mpath\u001b[0m\u001b[0;34m,\u001b[0m \u001b[0mmode\u001b[0m\u001b[0;34m,\u001b[0m \u001b[0mfs\u001b[0m\u001b[0;34m=\u001b[0m\u001b[0mself\u001b[0m\u001b[0;34m,\u001b[0m \u001b[0;34m**\u001b[0m\u001b[0mkwargs\u001b[0m\u001b[0;34m)\u001b[0m\u001b[0;34m\u001b[0m\u001b[0;34m\u001b[0m\u001b[0m\n\u001b[0m\u001b[1;32m    202\u001b[0m \u001b[0;34m\u001b[0m\u001b[0m\n\u001b[1;32m    203\u001b[0m     \u001b[0;32mdef\u001b[0m \u001b[0mtouch\u001b[0m\u001b[0;34m(\u001b[0m\u001b[0mself\u001b[0m\u001b[0;34m,\u001b[0m \u001b[0mpath\u001b[0m\u001b[0;34m,\u001b[0m \u001b[0mtruncate\u001b[0m\u001b[0;34m=\u001b[0m\u001b[0;32mTrue\u001b[0m\u001b[0;34m,\u001b[0m \u001b[0;34m**\u001b[0m\u001b[0mkwargs\u001b[0m\u001b[0;34m)\u001b[0m\u001b[0;34m:\u001b[0m\u001b[0;34m\u001b[0m\u001b[0;34m\u001b[0m\u001b[0m\n",
            "\u001b[0;32m/usr/local/lib/python3.12/dist-packages/fsspec/implementations/local.py\u001b[0m in \u001b[0;36m__init__\u001b[0;34m(self, path, mode, autocommit, fs, compression, **kwargs)\u001b[0m\n\u001b[1;32m    363\u001b[0m         \u001b[0mself\u001b[0m\u001b[0;34m.\u001b[0m\u001b[0mcompression\u001b[0m \u001b[0;34m=\u001b[0m \u001b[0mget_compression\u001b[0m\u001b[0;34m(\u001b[0m\u001b[0mpath\u001b[0m\u001b[0;34m,\u001b[0m \u001b[0mcompression\u001b[0m\u001b[0;34m)\u001b[0m\u001b[0;34m\u001b[0m\u001b[0;34m\u001b[0m\u001b[0m\n\u001b[1;32m    364\u001b[0m         \u001b[0mself\u001b[0m\u001b[0;34m.\u001b[0m\u001b[0mblocksize\u001b[0m \u001b[0;34m=\u001b[0m \u001b[0mio\u001b[0m\u001b[0;34m.\u001b[0m\u001b[0mDEFAULT_BUFFER_SIZE\u001b[0m\u001b[0;34m\u001b[0m\u001b[0;34m\u001b[0m\u001b[0m\n\u001b[0;32m--> 365\u001b[0;31m         \u001b[0mself\u001b[0m\u001b[0;34m.\u001b[0m\u001b[0m_open\u001b[0m\u001b[0;34m(\u001b[0m\u001b[0;34m)\u001b[0m\u001b[0;34m\u001b[0m\u001b[0;34m\u001b[0m\u001b[0m\n\u001b[0m\u001b[1;32m    366\u001b[0m \u001b[0;34m\u001b[0m\u001b[0m\n\u001b[1;32m    367\u001b[0m     \u001b[0;32mdef\u001b[0m \u001b[0m_open\u001b[0m\u001b[0;34m(\u001b[0m\u001b[0mself\u001b[0m\u001b[0;34m)\u001b[0m\u001b[0;34m:\u001b[0m\u001b[0;34m\u001b[0m\u001b[0;34m\u001b[0m\u001b[0m\n",
            "\u001b[0;32m/usr/local/lib/python3.12/dist-packages/fsspec/implementations/local.py\u001b[0m in \u001b[0;36m_open\u001b[0;34m(self)\u001b[0m\n\u001b[1;32m    368\u001b[0m         \u001b[0;32mif\u001b[0m \u001b[0mself\u001b[0m\u001b[0;34m.\u001b[0m\u001b[0mf\u001b[0m \u001b[0;32mis\u001b[0m \u001b[0;32mNone\u001b[0m \u001b[0;32mor\u001b[0m \u001b[0mself\u001b[0m\u001b[0;34m.\u001b[0m\u001b[0mf\u001b[0m\u001b[0;34m.\u001b[0m\u001b[0mclosed\u001b[0m\u001b[0;34m:\u001b[0m\u001b[0;34m\u001b[0m\u001b[0;34m\u001b[0m\u001b[0m\n\u001b[1;32m    369\u001b[0m             \u001b[0;32mif\u001b[0m \u001b[0mself\u001b[0m\u001b[0;34m.\u001b[0m\u001b[0mautocommit\u001b[0m \u001b[0;32mor\u001b[0m \u001b[0;34m\"w\"\u001b[0m \u001b[0;32mnot\u001b[0m \u001b[0;32min\u001b[0m \u001b[0mself\u001b[0m\u001b[0;34m.\u001b[0m\u001b[0mmode\u001b[0m\u001b[0;34m:\u001b[0m\u001b[0;34m\u001b[0m\u001b[0;34m\u001b[0m\u001b[0m\n\u001b[0;32m--> 370\u001b[0;31m                 \u001b[0mself\u001b[0m\u001b[0;34m.\u001b[0m\u001b[0mf\u001b[0m \u001b[0;34m=\u001b[0m \u001b[0mopen\u001b[0m\u001b[0;34m(\u001b[0m\u001b[0mself\u001b[0m\u001b[0;34m.\u001b[0m\u001b[0mpath\u001b[0m\u001b[0;34m,\u001b[0m \u001b[0mmode\u001b[0m\u001b[0;34m=\u001b[0m\u001b[0mself\u001b[0m\u001b[0;34m.\u001b[0m\u001b[0mmode\u001b[0m\u001b[0;34m)\u001b[0m\u001b[0;34m\u001b[0m\u001b[0;34m\u001b[0m\u001b[0m\n\u001b[0m\u001b[1;32m    371\u001b[0m                 \u001b[0;32mif\u001b[0m \u001b[0mself\u001b[0m\u001b[0;34m.\u001b[0m\u001b[0mcompression\u001b[0m\u001b[0;34m:\u001b[0m\u001b[0;34m\u001b[0m\u001b[0;34m\u001b[0m\u001b[0m\n\u001b[1;32m    372\u001b[0m                     \u001b[0mcompress\u001b[0m \u001b[0;34m=\u001b[0m \u001b[0mcompr\u001b[0m\u001b[0;34m[\u001b[0m\u001b[0mself\u001b[0m\u001b[0;34m.\u001b[0m\u001b[0mcompression\u001b[0m\u001b[0;34m]\u001b[0m\u001b[0;34m\u001b[0m\u001b[0;34m\u001b[0m\u001b[0m\n",
            "\u001b[0;31mFileNotFoundError\u001b[0m: [Errno 2] No such file or directory: '/content/logs/restorer/version_0/checkpoints/epoch=4-step=35.ckpt'"
          ]
        }
      ],
      "source": [
        "import os\n",
        "import json\n",
        "import gc\n",
        "from pathlib import Path\n",
        "from typing import Dict, Optional\n",
        "\n",
        "import torch\n",
        "import torch.nn as nn\n",
        "import torch.nn.functional as F\n",
        "from torch.utils.data import Dataset, DataLoader\n",
        "import torchvision.transforms as T\n",
        "\n",
        "import pytorch_lightning as pl\n",
        "from pytorch_lightning.callbacks import ModelCheckpoint, TQDMProgressBar\n",
        "from pytorch_lightning.loggers import CSVLogger\n",
        "\n",
        "from PIL import Image, ImageDraw, ImageFont\n",
        "import numpy as np\n",
        "from skimage.metrics import peak_signal_noise_ratio as psnr\n",
        "from skimage.metrics import structural_similarity as ssim\n",
        "from skimage.util import random_noise\n",
        "from skimage.draw import line_aa\n",
        "import matplotlib.pyplot as plt\n",
        "\n",
        "from diffusers import UNet2DModel\n",
        "from transformers import VisionEncoderDecoderModel, AutoTokenizer\n",
        "from torchmetrics.text import CharErrorRate\n",
        "\n",
        "# --- Configuration ---\n",
        "class Config:\n",
        "    IMG_SIZE = 64\n",
        "    IMG_CHANNELS = 1\n",
        "    # Updated VOCAB matching Stage 1\n",
        "    VOCAB = [\"\ud804\udc13\", \"\ud804\udc14\", \"\ud804\udc15\", \"\ud804\udc16\", \"\ud804\udc17\", \"\ud804\udc18\", \"\ud804\udc19\", \"\ud804\udc1a\", \"\ud804\udc1b\", \"\ud804\udc1c\",  # ka to dha\n",
        "             \"\ud804\udc1d\", \"\ud804\udc1e\", \"\ud804\udc1f\", \"\ud804\udc20\", \"\ud804\udc21\", \"\ud804\udc22\", \"\ud804\udc23\", \"\ud804\udc24\", \"\ud804\udc25\", \"\ud804\udc26\",  # na to ma\n",
        "             \"\ud804\udc27\", \"\ud804\udc28\", \"\ud804\udc29\", \"\ud804\udc2a\", \"\ud804\udc2b\", \".\", \",\"]  # pa to ba, plus punctuation\n",
        "    RECOGNIZER_EPOCHS = 20  # Increased for better convergence\n",
        "    RECOGNIZER_LR = 1e-4  # Adjusted for stability\n",
        "    RECOGNIZER_BATCH_SIZE = 32  # Increased, adjust for GPU\n",
        "    RECOGNIZER_ENCODER = \"google/vit-base-patch16-224\"\n",
        "    RECOGNIZER_DECODER = \"gpt2\"\n",
        "    NUM_WORKERS = 4  # Increased\n",
        "    ACCELERATOR = \"gpu\" if torch.cuda.is_available() else \"cpu\"\n",
        "    DEVICES = 1\n",
        "    PRECISION = \"16-mixed\" if torch.cuda.is_available() else \"32\"\n",
        "\n",
        "# --- Memory Management Utilities ---\n",
        "def cleanup_memory():\n",
        "    \"\"\"Clear GPU and system memory\"\"\"\n",
        "    gc.collect()\n",
        "    if torch.cuda.is_available():\n",
        "        torch.cuda.empty_cache()\n",
        "\n",
        "# --- Archaeological Noise Generator ---\n",
        "class ArchaeologicalNoiseGenerator:\n",
        "    \"\"\"Applies domain-specific noise to simulate archaeological damage with increased variety.\"\"\"\n",
        "    def __init__(self, crack_prob=0.3, fade_prob=0.5, noise_prob=0.7):\n",
        "        self.crack_prob = crack_prob\n",
        "        self.fade_prob = fade_prob\n",
        "        self.noise_prob = noise_prob\n",
        "\n",
        "    def _add_cracks(self, img_np: np.ndarray) -> np.ndarray:\n",
        "        h, w = img_np.shape\n",
        "        for _ in range(np.random.randint(1, 5)):\n",
        "            x1, y1 = np.random.randint(0, w), np.random.randint(0, h)\n",
        "            x2, y2 = np.random.randint(0, w), np.random.randint(0, h)\n",
        "            rr, cc, val = line_aa(y1, x1, y2, x2)\n",
        "            valid_indices = (rr >= 0) & (rr < h) & (cc >= 0) & (cc < w)\n",
        "            img_np[rr[valid_indices], cc[valid_indices]] = np.random.uniform(0, 0.3)\n",
        "        return img_np\n",
        "\n",
        "    def _add_fading(self, img_np: np.ndarray) -> np.ndarray:\n",
        "        fade_mask = np.random.rand(*img_np.shape) * np.random.uniform(0.3, 0.7) + 0.3\n",
        "        return np.clip(img_np * fade_mask, 0, 1)\n",
        "\n",
        "    def _add_stone_noise(self, img_np: np.ndarray) -> np.ndarray:\n",
        "        return random_noise(img_np, mode='s&p', amount=np.random.uniform(0.02, 0.1))\n",
        "\n",
        "    def __call__(self, img_tensor: torch.Tensor) -> torch.Tensor:\n",
        "        device = img_tensor.device\n",
        "        img_np = img_tensor.squeeze(0).cpu().numpy()\n",
        "        if np.random.rand() < self.crack_prob:\n",
        "            img_np = self._add_cracks(img_np)\n",
        "        if np.random.rand() < self.fade_prob:\n",
        "            img_np = self._add_fading(img_np)\n",
        "        if np.random.rand() < self.noise_prob:\n",
        "            img_np = self._add_stone_noise(img_np)\n",
        "        if np.random.rand() < 0.4:\n",
        "            img_np = random_noise(img_np, mode='gaussian', var=np.random.uniform(0.01, 0.05))\n",
        "        return torch.from_numpy(img_np).unsqueeze(0).float().to(device)\n",
        "\n",
        "# --- Data Module ---\n",
        "class TamilBrahmiDataModule(pl.LightningDataModule):\n",
        "    \"\"\"Handles data loading for recognition stage.\"\"\"\n",
        "    def __init__(self, data_path: str, batch_size: int, num_workers: int):\n",
        "        super().__init__()\n",
        "        self.data_path = Path(data_path)\n",
        "        self.batch_size = batch_size\n",
        "        self.num_workers = num_workers\n",
        "        self.tokenizer = AutoTokenizer.from_pretrained(Config.RECOGNIZER_DECODER)\n",
        "        self.tokenizer.pad_token = self.tokenizer.eos_token\n",
        "\n",
        "    def setup(self, stage: Optional[str] = None):\n",
        "        self.train_ds = TamilBrahmiDataset(self.data_path / \"train\", self.tokenizer)\n",
        "        self.val_ds = TamilBrahmiDataset(self.data_path / \"val\", self.tokenizer)\n",
        "        self.test_ds = TamilBrahmiDataset(self.data_path / \"test\", self.tokenizer)\n",
        "\n",
        "    def train_dataloader(self):\n",
        "        return DataLoader(\n",
        "            self.train_ds,\n",
        "            batch_size=self.batch_size,\n",
        "            shuffle=True,\n",
        "            num_workers=self.num_workers,\n",
        "            pin_memory=True,\n",
        "            persistent_workers=True if self.num_workers > 0 else False\n",
        "        )\n",
        "\n",
        "    def val_dataloader(self):\n",
        "        return DataLoader(\n",
        "            self.val_ds,\n",
        "            batch_size=self.batch_size,\n",
        "            num_workers=self.num_workers,\n",
        "            pin_memory=True,\n",
        "            persistent_workers=True if self.num_workers > 0 else False\n",
        "        )\n",
        "\n",
        "    def test_dataloader(self):\n",
        "        return DataLoader(\n",
        "            self.test_ds,\n",
        "            batch_size=self.batch_size,\n",
        "            num_workers=self.num_workers,\n",
        "            pin_memory=True\n",
        "        )\n",
        "\n",
        "class TamilBrahmiDataset(Dataset):\n",
        "    \"\"\"Custom dataset to load clean, augmented images and labels.\"\"\"\n",
        "    def __init__(self, split_path: Path, tokenizer):\n",
        "        super().__init__()\n",
        "        self.clean_img_dir = split_path / \"clean\"\n",
        "        self.aug_img_dir = split_path / \"augmented\"\n",
        "        with open(split_path / \"labels.json\", \"r\") as f:\n",
        "            self.labels = json.load(f)\n",
        "        self.filenames = list(self.labels.keys())\n",
        "        self.tokenizer = tokenizer\n",
        "\n",
        "        self.transform = T.Compose([\n",
        "            T.ToTensor(),\n",
        "            T.Normalize(mean=[0.5], std=[0.5])\n",
        "        ])\n",
        "\n",
        "    def __len__(self):\n",
        "        return len(self.filenames)\n",
        "\n",
        "    def __getitem__(self, idx: int) -> Dict:\n",
        "        filename = self.filenames[idx]\n",
        "        clean_img_path = self.clean_img_dir / filename\n",
        "        aug_img_path = self.aug_img_dir / filename\n",
        "\n",
        "        clean_img = Image.open(clean_img_path)\n",
        "        aug_img = Image.open(aug_img_path)\n",
        "\n",
        "        text_label = self.labels[filename][\"brahmi_text\"]\n",
        "        tokenized_label = self.tokenizer(\n",
        "            text_label,\n",
        "            padding=\"max_length\",\n",
        "            max_length=16,\n",
        "            return_tensors=\"pt\"\n",
        "        ).input_ids.squeeze(0)\n",
        "\n",
        "        return {\n",
        "            \"clean_image\": self.transform(clean_img),\n",
        "            \"augmented_image\": self.transform(aug_img),\n",
        "            \"labels\": tokenized_label,\n",
        "            \"text\": text_label\n",
        "        }\n",
        "\n",
        "# --- Restoration Model (for loading trained model) ---\n",
        "class TamilBrahmiRestorer(pl.LightningModule):\n",
        "    \"\"\"A LightningModule for restoring degraded character images using a U-Net.\"\"\"\n",
        "    def __init__(self, learning_rate: float = Config.RECOGNIZER_LR):\n",
        "        super().__init__()\n",
        "        self.unet = UNet2DModel(\n",
        "            sample_size=Config.IMG_SIZE,\n",
        "            in_channels=Config.IMG_CHANNELS,\n",
        "            out_channels=Config.IMG_CHANNELS,\n",
        "            layers_per_block=2,\n",
        "            block_out_channels=(128, 256, 512, 512),\n",
        "            down_block_types=(\"DownBlock2D\", \"DownBlock2D\", \"DownBlock2D\", \"DownBlock2D\"),\n",
        "            up_block_types=(\"UpBlock2D\", \"UpBlock2D\", \"UpBlock2D\", \"UpBlock2D\"),\n",
        "        )\n",
        "        self.noise_generator = ArchaeologicalNoiseGenerator()\n",
        "\n",
        "    def forward(self, x: torch.Tensor) -> torch.Tensor:\n",
        "        return self.unet(x, timestep=0).sample\n",
        "\n",
        "# --- Recognition Model ---\n",
        "class GOTTamilBrahmi(pl.LightningModule):\n",
        "    \"\"\"A LightningModule for recognizing characters from clean images.\"\"\"\n",
        "    def __init__(self, learning_rate: float = Config.RECOGNIZER_LR):\n",
        "        super().__init__()\n",
        "        self.save_hyperparameters()\n",
        "        self.learning_rate = learning_rate\n",
        "\n",
        "        self.model = VisionEncoderDecoderModel.from_encoder_decoder_pretrained(\n",
        "            Config.RECOGNIZER_ENCODER, Config.RECOGNIZER_DECODER\n",
        "        )\n",
        "\n",
        "        encoder_config = self.model.encoder.config\n",
        "        expected_channels = encoder_config.num_channels\n",
        "        if expected_channels != Config.IMG_CHANNELS:\n",
        "            print(f\"Replacing encoder's first conv layer: Expected {expected_channels} channels, but got {Config.IMG_CHANNELS}\")\n",
        "            self.model.encoder.embeddings.patch_embeddings.projection = torch.nn.Conv2d(\n",
        "                Config.IMG_CHANNELS,\n",
        "                encoder_config.hidden_size,\n",
        "                kernel_size=encoder_config.patch_size,\n",
        "                stride=encoder_config.patch_size\n",
        "            )\n",
        "            self.model.encoder.config.num_channels = Config.IMG_CHANNELS\n",
        "            self.model.encoder.embeddings.patch_embeddings.num_channels = Config.IMG_CHANNELS\n",
        "\n",
        "        expected_image_size = encoder_config.image_size\n",
        "        if expected_image_size != Config.IMG_SIZE:\n",
        "            print(f\"Updating encoder image size: Expected {expected_image_size}x{expected_image_size}, but got {Config.IMG_SIZE}x{Config.IMG_SIZE}\")\n",
        "            self.model.encoder.config.image_size = Config.IMG_SIZE\n",
        "            self.model.encoder.embeddings.patch_embeddings.image_size = (Config.IMG_SIZE, Config.IMG_SIZE)\n",
        "            num_patches = (Config.IMG_SIZE // encoder_config.patch_size) ** 2\n",
        "            self.model.encoder.embeddings.position_embeddings = nn.Parameter(\n",
        "                torch.randn(1, num_patches + 1, encoder_config.hidden_size)\n",
        "            )\n",
        "\n",
        "        self.tokenizer = AutoTokenizer.from_pretrained(Config.RECOGNIZER_DECODER)\n",
        "        self.tokenizer.pad_token = self.tokenizer.eos_token\n",
        "        self.model.config.pad_token_id = self.tokenizer.pad_token_id\n",
        "        self.model.config.decoder_start_token_id = self.tokenizer.bos_token_id\n",
        "\n",
        "        self.cer = CharErrorRate()\n",
        "        self.val_cer = CharErrorRate()\n",
        "\n",
        "    def forward(self, pixel_values, labels=None):\n",
        "        return self.model(pixel_values=pixel_values, labels=labels)\n",
        "\n",
        "    def training_step(self, batch: Dict, batch_idx: int) -> torch.Tensor:\n",
        "        images = batch[\"augmented_image\"]\n",
        "        labels = batch[\"labels\"]\n",
        "        outputs = self(pixel_values=images, labels=labels)\n",
        "        loss = outputs.loss\n",
        "        self.log(\"train_rec_loss\", loss, on_step=True, on_epoch=True, prog_bar=True, logger=True)\n",
        "        return loss\n",
        "\n",
        "    def validation_step(self, batch: Dict, batch_idx: int):\n",
        "        images = batch[\"augmented_image\"]\n",
        "        labels = batch[\"labels\"]\n",
        "        text_labels = batch[\"text\"]\n",
        "        generated_ids = self.model.generate(\n",
        "            images,\n",
        "            max_length=16,\n",
        "            num_beams=4,  # Increased beams for better generation\n",
        "            attention_mask=torch.ones_like(labels)\n",
        "        )\n",
        "        generated_text = self.tokenizer.batch_decode(generated_ids, skip_special_tokens=True)\n",
        "        self.val_cer.update(generated_text, text_labels)\n",
        "        self.log(\"val_cer\", self.val_cer, on_epoch=True, prog_bar=True)\n",
        "\n",
        "    def configure_optimizers(self):\n",
        "        optimizer = torch.optim.AdamW(self.parameters(), lr=self.learning_rate, weight_decay=0.01)\n",
        "        scheduler = torch.optim.lr_scheduler.ReduceLROnPlateau(optimizer, mode='min', patience=3)  # Optimized scheduler\n",
        "        return {\"optimizer\": optimizer, \"lr_scheduler\": scheduler, \"monitor\": \"val_cer\"}\n",
        "\n",
        "# --- Evaluation for Stage 2 ---\n",
        "def evaluate_pipeline(restorer, recognizer, datamodule):\n",
        "    \"\"\"Evaluate the complete pipeline and create visualizations\"\"\"\n",
        "    test_loader = datamodule.test_dataloader()\n",
        "    psnr_vals, ssim_vals = [], []\n",
        "    test_cer = CharErrorRate()\n",
        "    unnormalize = T.Normalize(mean=[-1.0], std=[2.0])\n",
        "\n",
        "    device = next(restorer.parameters()).device\n",
        "    restorer.to(device)\n",
        "    recognizer.to(device)\n",
        "\n",
        "    num_viz = 5  # Increased visualizations\n",
        "    fig, axes = plt.subplots(num_viz, 5, figsize=(15, 3 * num_viz))\n",
        "    fig.suptitle(\"Tamil-Brahmi OCR Pipeline Results\", fontsize=14)\n",
        "    viz_count = 0\n",
        "\n",
        "    with torch.no_grad():\n",
        "        for batch_idx, batch in enumerate(test_loader):\n",
        "            if batch_idx >= num_viz:\n",
        "                break\n",
        "            clean_images = batch[\"clean_image\"].to(device)\n",
        "            text_labels = batch[\"text\"]\n",
        "            damaged_images = torch.stack([\n",
        "                restorer.noise_generator(img.cpu()).to(device)\n",
        "                for img in clean_images\n",
        "            ])\n",
        "            restored_images = restorer(damaged_images)\n",
        "            generated_ids = recognizer.model.generate(\n",
        "                restored_images,\n",
        "                max_length=16,\n",
        "                num_beams=4,\n",
        "                attention_mask=torch.ones_like(batch[\"labels\"])\n",
        "            )\n",
        "            predicted_text = recognizer.tokenizer.batch_decode(generated_ids, skip_special_tokens=True)\n",
        "            test_cer.update(predicted_text, text_labels)\n",
        "\n",
        "            if viz_count < num_viz:\n",
        "                clean_np = unnormalize(clean_images[0:1]).cpu().numpy().squeeze()\n",
        "                restored_np = unnormalize(restored_images[0:1]).cpu().numpy().squeeze()\n",
        "                damaged_np = unnormalize(damaged_images[0:1]).cpu().numpy().squeeze()\n",
        "                p = psnr(clean_np, restored_np, data_range=1.0)\n",
        "                s = ssim(clean_np, restored_np, data_range=1.0)\n",
        "                psnr_vals.append(p)\n",
        "                ssim_vals.append(s)\n",
        "\n",
        "                ax_row = axes[viz_count] if num_viz > 1 else [axes]\n",
        "                ax_row[0].imshow(clean_np, cmap='gray')\n",
        "                ax_row[0].set_title(\"Original\")\n",
        "                ax_row[0].axis('off')\n",
        "                ax_row[1].imshow(damaged_np, cmap='gray')\n",
        "                ax_row[1].set_title(\"Damaged\")\n",
        "                ax_row[1].axis('off')\n",
        "                ax_row[2].imshow(restored_np, cmap='gray')\n",
        "                ax_row[2].set_title(f\"Restored\\nPSNR: {p:.2f}\")\n",
        "                ax_row[2].axis('off')\n",
        "                ax_row[3].text(0.5, 0.5, f'GT: \"{text_labels[0]}\"', ha='center', va='center', fontsize=10)\n",
        "                ax_row[3].set_title(\"Ground Truth\")\n",
        "                ax_row[3].axis('off')\n",
        "                color = 'green' if text_labels[0] == predicted_text[0] else 'red'\n",
        "                ax_row[4].text(0.5, 0.5, f'Pred: \"{predicted_text[0]}\"', ha='center', va='center', fontsize=10, color=color)\n",
        "                ax_row[4].set_title(\"Prediction\")\n",
        "                ax_row[4].axis('off')\n",
        "                viz_count += 1\n",
        "\n",
        "    avg_psnr = np.mean(psnr_vals) if psnr_vals else 0\n",
        "    avg_ssim = np.mean(ssim_vals) if ssim_vals else 0\n",
        "    final_cer = test_cer.compute()\n",
        "    print(f\"\\n\ud83d\udcc8 Stage 2 Results:\")\n",
        "    print(f\"   Restoration PSNR: {avg_psnr:.4f}\")\n",
        "    print(f\"   Restoration SSIM: {avg_ssim:.4f}\")\n",
        "    print(f\"   Recognition CER: {final_cer:.4f}\")\n",
        "    print(f\"   Recognition Accuracy: {1 - final_cer:.4f}\")\n",
        "    plt.tight_layout()\n",
        "    plt.show()\n",
        "\n",
        "# --- Main Training Pipeline for Stage 2 ---\n",
        "def main(dataset_path: str = \"/content/dummy_brahmi_dataset\", restorer_checkpoint: str = \"/content/logs/restorer/version_0/checkpoints/epoch=4-step=35.ckpt\"):\n",
        "    print(\"\ud83d\ude80 Starting Tamil-Brahmi Recognition Training (Stage 2)\")\n",
        "    print(f\"Device: {Config.ACCELERATOR}\")\n",
        "    print(f\"Precision: {Config.PRECISION}\")\n",
        "\n",
        "    cleanup_memory()\n",
        "\n",
        "    datamodule = TamilBrahmiDataModule(\n",
        "        data_path=dataset_path,\n",
        "        batch_size=Config.RECOGNIZER_BATCH_SIZE,\n",
        "        num_workers=Config.NUM_WORKERS\n",
        "    )\n",
        "\n",
        "    print(\"\\n\ud83d\udd0d Training Recognition Model\")\n",
        "    gott_model = GOTTamilBrahmi(learning_rate=Config.RECOGNIZER_LR)\n",
        "    recognizer_trainer = pl.Trainer(\n",
        "        max_epochs=Config.RECOGNIZER_EPOCHS,\n",
        "        accelerator=Config.ACCELERATOR,\n",
        "        devices=Config.DEVICES,\n",
        "        precision=Config.PRECISION,\n",
        "        logger=CSVLogger(\"/content/logs\", name=\"recognizer\"),\n",
        "        callbacks=[\n",
        "            ModelCheckpoint(monitor=\"val_cer\", mode=\"min\", save_top_k=1),\n",
        "            TQDMProgressBar(refresh_rate=20)\n",
        "        ],\n",
        "        enable_checkpointing=True,\n",
        "        gradient_clip_val=0.5\n",
        "    )\n",
        "\n",
        "    recognizer_trainer.fit(gott_model, datamodule)\n",
        "    best_gott_path = recognizer_trainer.checkpoint_callback.best_model_path\n",
        "    print(f\"\u2705 Best recognizer model: {best_gott_path}\")\n",
        "\n",
        "    trained_recognizer = GOTTamilBrahmi.load_from_checkpoint(best_gott_path)\n",
        "    trained_recognizer.eval()\n",
        "\n",
        "    print(f\"\\n\ud83d\udd04 Loading trained restorer from {restorer_checkpoint}\")\n",
        "    trained_restorer = TamilBrahmiRestorer.load_from_checkpoint(restorer_checkpoint)\n",
        "    trained_restorer.eval()\n",
        "    cleanup_memory()\n",
        "\n",
        "    print(\"\\n\ud83d\udcca Evaluating Full Pipeline\")\n",
        "    evaluate_pipeline(trained_restorer, trained_recognizer, datamodule)\n",
        "\n",
        "if __name__ == \"__main__\":\n",
        "    main(dataset_path=\"/content/dummy_brahmi_dataset\", restorer_checkpoint=\"/content/logs/restorer/version_0/checkpoints/epoch=4-step=35.ckpt\")"
      ]
    },
    {
      "cell_type": "code",
      "execution_count": null,
      "metadata": {
        "id": "GlDGN8iKbD0m"
      },
      "outputs": [],
      "source": []
    },
    {
      "cell_type": "markdown",
      "metadata": {
        "id": "2PI7iQSY4oBp"
      },
      "source": [
        "#Rule-Guided Conditional Diffusion Model (RG-CDDM)"
      ]
    },
    {
      "cell_type": "code",
      "execution_count": null,
      "metadata": {
        "id": "KlRgnUPp4npV"
      },
      "outputs": [],
      "source": []
    }
  ],
  "metadata": {
    "accelerator": "GPU",
    "colab": {
      "gpuType": "T4",
      "provenance": []
    },
    "kernelspec": {
      "display_name": "Python 3",
      "name": "python3"
    },
    "language_info": {
      "name": "python"
    }
  },
  "nbformat": 4,
  "nbformat_minor": 0
}